{
 "cells": [
  {
   "cell_type": "code",
   "execution_count": 8,
   "outputs": [
    {
     "name": "stdout",
     "output_type": "stream",
     "text": [
      "DatetimeIndex(['2022-01-01', '2022-01-02', '2022-01-03', '2022-01-04',\n",
      "               '2022-01-05', '2022-01-06', '2022-01-07', '2022-01-08',\n",
      "               '2022-01-09', '2022-01-10', '2022-01-11', '2022-01-12',\n",
      "               '2022-01-13', '2022-01-14', '2022-01-15', '2022-01-16',\n",
      "               '2022-01-17', '2022-01-18', '2022-01-19', '2022-01-20',\n",
      "               '2022-01-21', '2022-01-22', '2022-01-23', '2022-01-24',\n",
      "               '2022-01-25', '2022-01-26', '2022-01-27', '2022-01-28',\n",
      "               '2022-01-29', '2022-01-30', '2022-01-31'],\n",
      "              dtype='datetime64[ns]', freq='D')\n",
      "DatetimeIndex(['2022-01-03', '2022-01-04', '2022-01-05', '2022-01-06',\n",
      "               '2022-01-07', '2022-01-10', '2022-01-11', '2022-01-12',\n",
      "               '2022-01-13', '2022-01-14', '2022-01-17', '2022-01-18',\n",
      "               '2022-01-19', '2022-01-20', '2022-01-21', '2022-01-24',\n",
      "               '2022-01-25', '2022-01-26', '2022-01-27', '2022-01-28',\n",
      "               '2022-01-31'],\n",
      "              dtype='datetime64[ns]', freq='B')\n",
      "[Timestamp('2022-01-01 00:00:00', freq='D'), Timestamp('2022-01-02 00:00:00', freq='D'), Timestamp('2022-01-08 00:00:00', freq='D'), Timestamp('2022-01-09 00:00:00', freq='D'), Timestamp('2022-01-15 00:00:00', freq='D'), Timestamp('2022-01-16 00:00:00', freq='D'), Timestamp('2022-01-22 00:00:00', freq='D'), Timestamp('2022-01-23 00:00:00', freq='D'), Timestamp('2022-01-29 00:00:00', freq='D'), Timestamp('2022-01-30 00:00:00', freq='D')]\n"
     ]
    }
   ],
   "source": [
    "import pandas as pd\n",
    "day = pd.date_range(start='2022-1-1',end='2022-1-31')                 # 完整的31天\n",
    "weekday = pd.date_range(start='2022-1-1',end='2022-1-31', freq='B')   # 31天中的工作日\n",
    "weekend = [x for x in day if x not in weekday]                        # 31天中的非工作日\n",
    "\n",
    "print(day)\n",
    "print(weekday)\n",
    "print(weekend)"
   ],
   "metadata": {
    "collapsed": false,
    "pycharm": {
     "name": "#%%\n"
    }
   }
  }
 ],
 "metadata": {
  "kernelspec": {
   "display_name": "Python 3",
   "language": "python",
   "name": "python3"
  },
  "language_info": {
   "codemirror_mode": {
    "name": "ipython",
    "version": 2
   },
   "file_extension": ".py",
   "mimetype": "text/x-python",
   "name": "python",
   "nbconvert_exporter": "python",
   "pygments_lexer": "ipython2",
   "version": "2.7.6"
  }
 },
 "nbformat": 4,
 "nbformat_minor": 0
}