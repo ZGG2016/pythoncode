{
 "cells": [
  {
   "cell_type": "markdown",
   "metadata": {
    "collapsed": true,
    "pycharm": {
     "name": "#%% md\n"
    }
   },
   "source": [
    "# 11. 标准库简介 —— 第二部分\n",
    "\n",
    "[https://docs.python.org/zh-cn/3.8/tutorial/stdlib2.html](https://docs.python.org/zh-cn/3.8/tutorial/stdlib2.html)"
   ]
  },
  {
   "cell_type": "markdown",
   "source": [
    "## 11.1. 格式化输出\n",
    "\n",
    "reprlib 模块用于缩略显示大型或深层嵌套的容器对象"
   ],
   "metadata": {
    "collapsed": false
   }
  },
  {
   "cell_type": "code",
   "execution_count": 1,
   "outputs": [],
   "source": [
    "import reprlib\n"
   ],
   "metadata": {
    "collapsed": false,
    "pycharm": {
     "name": "#%%\n"
    }
   }
  },
  {
   "cell_type": "code",
   "execution_count": 2,
   "outputs": [
    {
     "name": "stdout",
     "output_type": "stream",
     "text": [
      "{'g', 'a', 'u', 'r', 'd', 'o', 'f', 'c', 't', 'e', 'p', 'x', 'i', 's', 'l'}\n",
      "{'a', 'c', 'd', 'e', 'f', 'g', ...}\n"
     ]
    }
   ],
   "source": [
    "s = 'supercalifragilisticexpialidocious'\n",
    "print(set(s))\n",
    "print(reprlib.repr(set(s)))"
   ],
   "metadata": {
    "collapsed": false,
    "pycharm": {
     "name": "#%%\n"
    }
   }
  },
  {
   "cell_type": "markdown",
   "source": [
    "pprint 模块提供了更加复杂的打印控制，其输出的内置对象和用户自定义对象能够被解释器直接读取。\n",
    "\n",
    "当输出结果过长而需要折行时，“美化输出机制”会添加换行符和缩进，以更清楚地展示数据结构"
   ],
   "metadata": {
    "collapsed": false
   }
  },
  {
   "cell_type": "code",
   "execution_count": 4,
   "outputs": [],
   "source": [
    "import pprint"
   ],
   "metadata": {
    "collapsed": false,
    "pycharm": {
     "name": "#%%\n"
    }
   }
  },
  {
   "cell_type": "code",
   "execution_count": 11,
   "outputs": [
    {
     "name": "stdout",
     "output_type": "stream",
     "text": [
      "[[[['black', 'cyan'], 'white', ['green', 'red']],\n",
      "  [['magenta', 'yellow'], 'blue']]]\n",
      "--------------\n",
      "[ [ [['black', 'cyan'], 'white', ['green', 'red']],\n",
      "    [['magenta', 'yellow'], 'blue']]]\n",
      "--------------\n",
      "[  [  [['black', 'cyan'], 'white', ['green', 'red']],\n",
      "      [['magenta', 'yellow'], 'blue']]]\n",
      "--------------\n",
      "[[[['black', 'cyan'],\n",
      "   'white',\n",
      "   ['green', 'red']],\n",
      "  [['magenta', 'yellow'],\n",
      "   'blue']]]\n"
     ]
    }
   ],
   "source": [
    "t = [[[['black', 'cyan'], 'white', ['green', 'red']], [['magenta',\n",
    "     'yellow'], 'blue']]]\n",
    "pprint.pprint(t)\n",
    "print('--------------')\n",
    "pprint.pprint(t,indent=2)\n",
    "print('--------------')\n",
    "pprint.pprint(t,indent=3)\n",
    "print('--------------')\n",
    "pprint.pprint(t,width=30)"
   ],
   "metadata": {
    "collapsed": false,
    "pycharm": {
     "name": "#%%\n"
    }
   }
  },
  {
   "cell_type": "markdown",
   "source": [
    "textwrap 模块能够格式化文本段落，以适应给定的屏幕宽度"
   ],
   "metadata": {
    "collapsed": false
   }
  },
  {
   "cell_type": "code",
   "execution_count": 12,
   "outputs": [],
   "source": [
    "import textwrap"
   ],
   "metadata": {
    "collapsed": false,
    "pycharm": {
     "name": "#%%\n"
    }
   }
  },
  {
   "cell_type": "code",
   "execution_count": 15,
   "outputs": [
    {
     "name": "stdout",
     "output_type": "stream",
     "text": [
      "The wrap() method is just like fill() except that it returns a list of\n",
      "strings instead of one big string with newlines to separate the\n",
      "wrapped lines.\n",
      "--------------\n",
      "The wrap() method is just like\n",
      "fill() except that it returns\n",
      "a list of strings instead of\n",
      "one big string with newlines\n",
      "to separate the wrapped lines.\n"
     ]
    }
   ],
   "source": [
    "doc = \"\"\"The wrap() method is just like fill() except that it returns\n",
    "a list of strings instead of one big string with newlines to separate\n",
    "the wrapped lines.\"\"\"\n",
    "print(textwrap.fill(doc))\n",
    "print('--------------')\n",
    "print(textwrap.fill(doc,width=30))"
   ],
   "metadata": {
    "collapsed": false,
    "pycharm": {
     "name": "#%%\n"
    }
   }
  },
  {
   "cell_type": "markdown",
   "source": [
    "locale 模块处理与特定地域文化相关的数据格式。\n",
    "\n",
    "locale 模块的 format 函数包含一个 grouping 属性，可直接将数字格式化为带有组分隔符的样式:"
   ],
   "metadata": {
    "collapsed": false
   }
  },
  {
   "cell_type": "code",
   "execution_count": 18,
   "outputs": [],
   "source": [
    "import locale"
   ],
   "metadata": {
    "collapsed": false,
    "pycharm": {
     "name": "#%%\n"
    }
   }
  },
  {
   "cell_type": "code",
   "execution_count": 20,
   "outputs": [
    {
     "name": "stdout",
     "output_type": "stream",
     "text": [
      "{'int_curr_symbol': 'USD', 'currency_symbol': '$', 'mon_decimal_point': '.', 'mon_thousands_sep': ',', 'mon_grouping': [3, 0], 'positive_sign': '', 'negative_sign': '-', 'int_frac_digits': 2, 'frac_digits': 2, 'p_cs_precedes': 1, 'p_sep_by_space': 0, 'n_cs_precedes': 1, 'n_sep_by_space': 0, 'p_sign_posn': 3, 'n_sign_posn': 0, 'decimal_point': '.', 'thousands_sep': ',', 'grouping': [3, 0]}\n",
      "1,234,567\n",
      "$1,234,567.80\n"
     ]
    },
    {
     "name": "stderr",
     "output_type": "stream",
     "text": [
      "C:\\Users\\cdtdri\\AppData\\Local\\Temp/ipykernel_860/2530167787.py:5: DeprecationWarning: This method will be removed in a future version of Python. Use 'locale.format_string()' instead.\n",
      "  print(locale.format(\"%d\", x, grouping=True))\n"
     ]
    }
   ],
   "source": [
    "locale.setlocale(locale.LC_ALL, 'English_United States.1252')\n",
    "conv = locale.localeconv()          # get a mapping of conventions\n",
    "print(conv)\n",
    "\n",
    "x = 1234567.8\n",
    "print(locale.format(\"%d\", x, grouping=True))\n",
    "print(locale.format_string(\"%s%.*f\", (conv['currency_symbol'], conv['frac_digits'], x), grouping=True))\n"
   ],
   "metadata": {
    "collapsed": false,
    "pycharm": {
     "name": "#%%\n"
    }
   }
  },
  {
   "cell_type": "markdown",
   "source": [
    "## 11.2. 模板"
   ],
   "metadata": {
    "collapsed": false
   }
  },
  {
   "cell_type": "markdown",
   "source": [
    "string 模块包含一个通用的 Template 类，允许用户在不更改应用逻辑的情况下定制自己的应用。\n",
    "\n",
    "上述格式化操作是通过占位符实现的，占位符由 `$` 加上合法的 Python 标识符（只能包含字母、数字和下划线）构成。\n",
    "\n",
    "一旦使用花括号将占位符括起来，就可以在后面直接跟上更多的字母和数字而无需空格分割。`$$` 将被转义成单个字符 `$`:"
   ],
   "metadata": {
    "collapsed": false,
    "pycharm": {
     "name": "#%% md\n"
    }
   }
  },
  {
   "cell_type": "code",
   "execution_count": 21,
   "outputs": [],
   "source": [
    "from string import Template"
   ],
   "metadata": {
    "collapsed": false,
    "pycharm": {
     "name": "#%%\n"
    }
   }
  },
  {
   "cell_type": "code",
   "execution_count": 22,
   "outputs": [
    {
     "name": "stdout",
     "output_type": "stream",
     "text": [
      "Nottinghamfolk send $10 to the ditch fund.\n"
     ]
    }
   ],
   "source": [
    "t = Template('${village}folk send $$10 to $cause.')\n",
    "t1 = t.substitute(village='Nottingham', cause='the ditch fund')\n",
    "print(t1)"
   ],
   "metadata": {
    "collapsed": false,
    "pycharm": {
     "name": "#%%\n"
    }
   }
  },
  {
   "cell_type": "markdown",
   "source": [
    "如果在字典或关键字参数中未提供某个占位符的值，那么 substitute() 方法将抛出 KeyError。\n",
    "\n",
    "对于邮件合并类型的应用，用户提供的数据有可能是不完整的，此时使用 safe_substitute() 方法更加合适 —— 如果数据缺失，它会直接将占位符原样保留\n"
   ],
   "metadata": {
    "collapsed": false
   }
  },
  {
   "cell_type": "code",
   "execution_count": 24,
   "outputs": [
    {
     "ename": "KeyError",
     "evalue": "'owner'",
     "output_type": "error",
     "traceback": [
      "\u001B[1;31m---------------------------------------------------------------------------\u001B[0m",
      "\u001B[1;31mKeyError\u001B[0m                                  Traceback (most recent call last)",
      "\u001B[1;32m~\\AppData\\Local\\Temp/ipykernel_860/3225218642.py\u001B[0m in \u001B[0;36m<module>\u001B[1;34m\u001B[0m\n\u001B[0;32m      1\u001B[0m \u001B[0mt\u001B[0m \u001B[1;33m=\u001B[0m \u001B[0mTemplate\u001B[0m\u001B[1;33m(\u001B[0m\u001B[1;34m'Return the $item to $owner.'\u001B[0m\u001B[1;33m)\u001B[0m\u001B[1;33m\u001B[0m\u001B[1;33m\u001B[0m\u001B[0m\n\u001B[0;32m      2\u001B[0m \u001B[0md\u001B[0m \u001B[1;33m=\u001B[0m \u001B[0mdict\u001B[0m\u001B[1;33m(\u001B[0m\u001B[0mitem\u001B[0m\u001B[1;33m=\u001B[0m\u001B[1;34m'unladen swallow'\u001B[0m\u001B[1;33m)\u001B[0m\u001B[1;33m\u001B[0m\u001B[1;33m\u001B[0m\u001B[0m\n\u001B[1;32m----> 3\u001B[1;33m \u001B[0mt1\u001B[0m \u001B[1;33m=\u001B[0m \u001B[0mt\u001B[0m\u001B[1;33m.\u001B[0m\u001B[0msubstitute\u001B[0m\u001B[1;33m(\u001B[0m\u001B[0md\u001B[0m\u001B[1;33m)\u001B[0m\u001B[1;33m\u001B[0m\u001B[1;33m\u001B[0m\u001B[0m\n\u001B[0m\u001B[0;32m      4\u001B[0m \u001B[0mprint\u001B[0m\u001B[1;33m(\u001B[0m\u001B[0mt1\u001B[0m\u001B[1;33m)\u001B[0m\u001B[1;33m\u001B[0m\u001B[1;33m\u001B[0m\u001B[0m\n",
      "\u001B[1;32me:\\python\\python38\\lib\\string.py\u001B[0m in \u001B[0;36msubstitute\u001B[1;34m(self, mapping, **kws)\u001B[0m\n\u001B[0;32m    124\u001B[0m             raise ValueError('Unrecognized named group in pattern',\n\u001B[0;32m    125\u001B[0m                              self.pattern)\n\u001B[1;32m--> 126\u001B[1;33m         \u001B[1;32mreturn\u001B[0m \u001B[0mself\u001B[0m\u001B[1;33m.\u001B[0m\u001B[0mpattern\u001B[0m\u001B[1;33m.\u001B[0m\u001B[0msub\u001B[0m\u001B[1;33m(\u001B[0m\u001B[0mconvert\u001B[0m\u001B[1;33m,\u001B[0m \u001B[0mself\u001B[0m\u001B[1;33m.\u001B[0m\u001B[0mtemplate\u001B[0m\u001B[1;33m)\u001B[0m\u001B[1;33m\u001B[0m\u001B[1;33m\u001B[0m\u001B[0m\n\u001B[0m\u001B[0;32m    127\u001B[0m \u001B[1;33m\u001B[0m\u001B[0m\n\u001B[0;32m    128\u001B[0m     \u001B[1;32mdef\u001B[0m \u001B[0msafe_substitute\u001B[0m\u001B[1;33m(\u001B[0m\u001B[0mself\u001B[0m\u001B[1;33m,\u001B[0m \u001B[0mmapping\u001B[0m\u001B[1;33m=\u001B[0m\u001B[0m_sentinel_dict\u001B[0m\u001B[1;33m,\u001B[0m \u001B[1;33m/\u001B[0m\u001B[1;33m,\u001B[0m \u001B[1;33m**\u001B[0m\u001B[0mkws\u001B[0m\u001B[1;33m)\u001B[0m\u001B[1;33m:\u001B[0m\u001B[1;33m\u001B[0m\u001B[1;33m\u001B[0m\u001B[0m\n",
      "\u001B[1;32me:\\python\\python38\\lib\\string.py\u001B[0m in \u001B[0;36mconvert\u001B[1;34m(mo)\u001B[0m\n\u001B[0;32m    117\u001B[0m             \u001B[0mnamed\u001B[0m \u001B[1;33m=\u001B[0m \u001B[0mmo\u001B[0m\u001B[1;33m.\u001B[0m\u001B[0mgroup\u001B[0m\u001B[1;33m(\u001B[0m\u001B[1;34m'named'\u001B[0m\u001B[1;33m)\u001B[0m \u001B[1;32mor\u001B[0m \u001B[0mmo\u001B[0m\u001B[1;33m.\u001B[0m\u001B[0mgroup\u001B[0m\u001B[1;33m(\u001B[0m\u001B[1;34m'braced'\u001B[0m\u001B[1;33m)\u001B[0m\u001B[1;33m\u001B[0m\u001B[1;33m\u001B[0m\u001B[0m\n\u001B[0;32m    118\u001B[0m             \u001B[1;32mif\u001B[0m \u001B[0mnamed\u001B[0m \u001B[1;32mis\u001B[0m \u001B[1;32mnot\u001B[0m \u001B[1;32mNone\u001B[0m\u001B[1;33m:\u001B[0m\u001B[1;33m\u001B[0m\u001B[1;33m\u001B[0m\u001B[0m\n\u001B[1;32m--> 119\u001B[1;33m                 \u001B[1;32mreturn\u001B[0m \u001B[0mstr\u001B[0m\u001B[1;33m(\u001B[0m\u001B[0mmapping\u001B[0m\u001B[1;33m[\u001B[0m\u001B[0mnamed\u001B[0m\u001B[1;33m]\u001B[0m\u001B[1;33m)\u001B[0m\u001B[1;33m\u001B[0m\u001B[1;33m\u001B[0m\u001B[0m\n\u001B[0m\u001B[0;32m    120\u001B[0m             \u001B[1;32mif\u001B[0m \u001B[0mmo\u001B[0m\u001B[1;33m.\u001B[0m\u001B[0mgroup\u001B[0m\u001B[1;33m(\u001B[0m\u001B[1;34m'escaped'\u001B[0m\u001B[1;33m)\u001B[0m \u001B[1;32mis\u001B[0m \u001B[1;32mnot\u001B[0m \u001B[1;32mNone\u001B[0m\u001B[1;33m:\u001B[0m\u001B[1;33m\u001B[0m\u001B[1;33m\u001B[0m\u001B[0m\n\u001B[0;32m    121\u001B[0m                 \u001B[1;32mreturn\u001B[0m \u001B[0mself\u001B[0m\u001B[1;33m.\u001B[0m\u001B[0mdelimiter\u001B[0m\u001B[1;33m\u001B[0m\u001B[1;33m\u001B[0m\u001B[0m\n",
      "\u001B[1;31mKeyError\u001B[0m: 'owner'"
     ]
    }
   ],
   "source": [
    "t = Template('Return the $item to $owner.')\n",
    "d = dict(item='unladen swallow')\n",
    "t1 = t.substitute(d)\n",
    "print(t1)"
   ],
   "metadata": {
    "collapsed": false,
    "pycharm": {
     "name": "#%%\n"
    }
   }
  },
  {
   "cell_type": "code",
   "execution_count": 25,
   "outputs": [
    {
     "name": "stdout",
     "output_type": "stream",
     "text": [
      "Return the unladen swallow to $owner.\n"
     ]
    }
   ],
   "source": [
    "t2 = t.safe_substitute(d)\n",
    "print(t2)"
   ],
   "metadata": {
    "collapsed": false,
    "pycharm": {
     "name": "#%%\n"
    }
   }
  },
  {
   "cell_type": "markdown",
   "source": [
    "Template 的子类可以自定义分隔符。"
   ],
   "metadata": {
    "collapsed": false,
    "pycharm": {
     "name": "#%% md\n"
    }
   }
  },
  {
   "cell_type": "code",
   "execution_count": 30,
   "outputs": [
    {
     "name": "stdout",
     "output_type": "stream",
     "text": [
      "Nottingham - folk\n"
     ]
    }
   ],
   "source": [
    "class BatchRename(Template):\n",
    "    delimiter = '%'\n",
    "\n",
    "t = BatchRename('%{village} - folk')\n",
    "t1 = t.substitute(village='Nottingham')\n",
    "print(t1)"
   ],
   "metadata": {
    "collapsed": false,
    "pycharm": {
     "name": "#%%\n"
    }
   }
  },
  {
   "cell_type": "code",
   "execution_count": 38,
   "outputs": [
    {
     "name": "stdout",
     "output_type": "stream",
     "text": [
      "11Apr22 0 .jpg\n",
      "img_1074.jpg --> 11Apr22_0.jpg\n",
      "11Apr22 1 .jpg\n",
      "img_1076.jpg --> 11Apr22_1.jpg\n",
      "11Apr22 2 .jpg\n",
      "img_1077.jpg --> 11Apr22_2.jpg\n"
     ]
    }
   ],
   "source": [
    "# 例如，以下是某个照片浏览器的批量重命名功能，采用了百分号作为日期、照片序号和照片格式的占位符\n",
    "import time, os.path\n",
    "photofiles = ['img_1074.jpg', 'img_1076.jpg', 'img_1077.jpg']\n",
    "class BatchRename(Template):\n",
    "    delimiter = '%'\n",
    "fmt = input('Enter rename style (%d-date %n-seqnum %f-format):  ')\n",
    "# Ashley_%n%f  %{d}_%{n}%{f}\n",
    "t = BatchRename(fmt)\n",
    "date = time.strftime('%d%b%y')\n",
    "for i, filename in enumerate(photofiles):\n",
    "    base, ext = os.path.splitext(filename)\n",
    "    print(date,i,ext)\n",
    "    newname = t.substitute(d=date, n=i, f=ext)\n",
    "    print('{0} --> {1}'.format(filename, newname))"
   ],
   "metadata": {
    "collapsed": false,
    "pycharm": {
     "name": "#%%\n"
    }
   }
  },
  {
   "cell_type": "markdown",
   "source": [
    "【TODO】\n",
    "\n",
    "模板的另一个应用是将程序逻辑与多样的格式化输出细节分离开来。\n",
    "\n",
    "这使得对 XML 文件、纯文本报表和 HTML 网络报表使用自定义模板成为可能。"
   ],
   "metadata": {
    "collapsed": false
   }
  },
  {
   "cell_type": "markdown",
   "source": [
    "## 11.3. 使用二进制数据记录格式"
   ],
   "metadata": {
    "collapsed": false
   }
  },
  {
   "cell_type": "markdown",
   "source": [
    "struct 模块提供了 pack() 和 unpack() 函数，用于处理不定长度的二进制记录格式。下面的例子展示了在不使用 zipfile 模块的情况下，如何循环遍历一个 ZIP 文件的所有头信息。Pack 代码 \"H\" 和 \"I\" 分别代表两字节和四字节无符号整数。\"<\" 代表它们是标准尺寸的小端字节序:"
   ],
   "metadata": {
    "collapsed": false
   }
  },
  {
   "cell_type": "code",
   "execution_count": null,
   "outputs": [],
   "source": [
    "import struct\n",
    "\n",
    "with open('myfile.zip', 'rb') as f:\n",
    "    data = f.read()\n",
    "\n",
    "start = 0\n",
    "for i in range(3):                      # show the first 3 file headers\n",
    "    start += 14\n",
    "    fields = struct.unpack('<IIIHH', data[start:start+16])\n",
    "    crc32, comp_size, uncomp_size, filenamesize, extra_size = fields\n",
    "\n",
    "    start += 16\n",
    "    filename = data[start:start+filenamesize]\n",
    "    start += filenamesize\n",
    "    extra = data[start:start+extra_size]\n",
    "    print(filename, hex(crc32), comp_size, uncomp_size)\n",
    "\n",
    "    start += extra_size + comp_size     # skip to the next header\n"
   ],
   "metadata": {
    "collapsed": false,
    "pycharm": {
     "name": "#%%\n"
    }
   }
  },
  {
   "cell_type": "markdown",
   "source": [
    "## 11.4. 多线程"
   ],
   "metadata": {
    "collapsed": false
   }
  },
  {
   "cell_type": "markdown",
   "source": [
    "线程是一种对于非顺序依赖的多个任务进行解耦的技术。\n",
    "\n",
    "当接收用户输入的同时，保持其他任务在后台运行。\n",
    "\n",
    "一个有关的应用场景是，将 I/O 和计算运行在两个并行的线程中。\n",
    "\n",
    "以下代码展示了高阶的 threading 模块如何在后台运行任务，且不影响主程序的继续运行:"
   ],
   "metadata": {
    "collapsed": false
   }
  },
  {
   "cell_type": "code",
   "execution_count": 40,
   "outputs": [
    {
     "name": "stdout",
     "output_type": "stream",
     "text": [
      "The main program continues to run in foreground.\n",
      "Finished background zip of: F:\\CODE\\pythoncode\\data.txt\n",
      "Main program waited until background was done.\n"
     ]
    }
   ],
   "source": [
    "import threading, zipfile\n",
    "\n",
    "class AsyncZip(threading.Thread):\n",
    "    def __init__(self, infile, outfile):\n",
    "        threading.Thread.__init__(self)\n",
    "        self.infile = infile\n",
    "        self.outfile = outfile\n",
    "\n",
    "    def run(self):\n",
    "        f = zipfile.ZipFile(self.outfile, 'w', zipfile.ZIP_DEFLATED)\n",
    "        f.write(self.infile)\n",
    "        f.close()\n",
    "        print('Finished background zip of:', self.infile)\n",
    "\n",
    "background = AsyncZip('F:\\CODE\\pythoncode\\data.txt', 'F:\\CODE\\pythoncode\\myarchive.zip')\n",
    "background.start()\n",
    "print('The main program continues to run in foreground.')\n",
    "\n",
    "background.join()    # Wait for the background task to finish\n",
    "print('Main program waited until background was done.')"
   ],
   "metadata": {
    "collapsed": false,
    "pycharm": {
     "name": "#%%\n"
    }
   }
  },
  {
   "cell_type": "markdown",
   "source": [
    "多线程应用面临的主要挑战是，相互协调的多个线程之间需要共享数据或其他资源。\n",
    "\n",
    "为此，threading 模块提供了多个同步操作原语，包括线程锁、事件、条件变量和信号量。\n",
    "\n",
    "尽管这些工具非常强大，但微小的设计错误却可以导致一些难以复现的问题。\n",
    "\n",
    "因此，实现多任务协作的首选方法是将所有对资源的请求集中到一个线程中，\n",
    "\n",
    "然后使用 queue 模块向该线程供应来自其他线程的请求。\n",
    "\n",
    "应用程序使用 Queue 对象进行线程间通信和协调，更易于设计，更易读，更可靠。"
   ],
   "metadata": {
    "collapsed": false
   }
  },
  {
   "cell_type": "markdown",
   "source": [
    "## 11.5. 日志记录"
   ],
   "metadata": {
    "collapsed": false
   }
  },
  {
   "cell_type": "markdown",
   "source": [
    "logging 模块提供功能齐全且灵活的日志记录系统。在最简单的情况下，日志消息被发送到文件或 sys.stderr"
   ],
   "metadata": {
    "collapsed": false
   }
  },
  {
   "cell_type": "code",
   "execution_count": 41,
   "outputs": [
    {
     "name": "stderr",
     "output_type": "stream",
     "text": [
      "WARNING:root:Warning:config file server.conf not found\n",
      "ERROR:root:Error occurred\n",
      "CRITICAL:root:Critical error -- shutting down\n"
     ]
    }
   ],
   "source": [
    "import logging\n",
    "logging.debug('Debugging information')\n",
    "logging.info('Informational message')\n",
    "logging.warning('Warning:config file %s not found', 'server.conf')\n",
    "logging.error('Error occurred')\n",
    "logging.critical('Critical error -- shutting down')"
   ],
   "metadata": {
    "collapsed": false,
    "pycharm": {
     "name": "#%%\n"
    }
   }
  },
  {
   "cell_type": "markdown",
   "source": [
    "默认情况下，informational 和 debugging 消息被压制，输出会发送到标准错误流。\n",
    "\n",
    "其他输出选项包括将消息转发到电子邮件，数据报，套接字或 HTTP 服务器。\n",
    "\n",
    "新的过滤器可以根据消息优先级选择不同的路由方式：DEBUG，INFO，WARNING，ERROR，和 CRITICAL。\n",
    "\n",
    "日志系统可以直接从 Python 配置，也可以从用户配置文件加载，以便自定义日志记录而无需更改应用程序"
   ],
   "metadata": {
    "collapsed": false
   }
  },
  {
   "cell_type": "markdown",
   "source": [
    "## 11.6. 弱引用"
   ],
   "metadata": {
    "collapsed": false
   }
  },
  {
   "cell_type": "markdown",
   "source": [
    "Python 会自动进行内存管理（对大多数对象进行引用计数并使用 garbage collection 来清除循环引用）。\n",
    "\n",
    "当某个对象的最后一个引用被移除后不久就会释放其所占用的内存。\n",
    "\n",
    "此方式对大多数应用来说都适用，但偶尔也必须在对象持续被其他对象所使用时跟踪它们。\n",
    "\n",
    "不幸的是，跟踪它们将创建一个会令其永久化的引用。\n",
    "\n",
    "weakref 模块提供的工具可以不必创建引用就能跟踪对象。\n",
    "\n",
    "当对象不再需要时，它将自动从一个弱引用表中被移除，并为弱引用对象触发一个回调。\n",
    "\n",
    "典型应用包括对创建开销较大的对象进行缓存:"
   ],
   "metadata": {
    "collapsed": false
   }
  },
  {
   "cell_type": "code",
   "execution_count": 43,
   "outputs": [
    {
     "name": "stdout",
     "output_type": "stream",
     "text": [
      "10\n"
     ]
    },
    {
     "ename": "KeyError",
     "evalue": "'primary'",
     "output_type": "error",
     "traceback": [
      "\u001B[1;31m---------------------------------------------------------------------------\u001B[0m",
      "\u001B[1;31mKeyError\u001B[0m                                  Traceback (most recent call last)",
      "\u001B[1;32m~\\AppData\\Local\\Temp/ipykernel_860/3249890476.py\u001B[0m in \u001B[0;36m<module>\u001B[1;34m\u001B[0m\n\u001B[0;32m     12\u001B[0m \u001B[1;32mdel\u001B[0m \u001B[0ma\u001B[0m                       \u001B[1;31m# remove the one reference\u001B[0m\u001B[1;33m\u001B[0m\u001B[1;33m\u001B[0m\u001B[0m\n\u001B[0;32m     13\u001B[0m \u001B[1;31m# gc.collect()                # run garbage collection right away\u001B[0m\u001B[1;33m\u001B[0m\u001B[1;33m\u001B[0m\u001B[1;33m\u001B[0m\u001B[0m\n\u001B[1;32m---> 14\u001B[1;33m \u001B[0mprint\u001B[0m\u001B[1;33m(\u001B[0m\u001B[0md\u001B[0m\u001B[1;33m[\u001B[0m\u001B[1;34m'primary'\u001B[0m\u001B[1;33m]\u001B[0m\u001B[1;33m)\u001B[0m                \u001B[1;31m# entry was automatically removed\u001B[0m\u001B[1;33m\u001B[0m\u001B[1;33m\u001B[0m\u001B[0m\n\u001B[0m\u001B[0;32m     15\u001B[0m \u001B[1;33m\u001B[0m\u001B[0m\n",
      "\u001B[1;32me:\\python\\python38\\lib\\weakref.py\u001B[0m in \u001B[0;36m__getitem__\u001B[1;34m(self, key)\u001B[0m\n\u001B[0;32m    129\u001B[0m         \u001B[1;32mif\u001B[0m \u001B[0mself\u001B[0m\u001B[1;33m.\u001B[0m\u001B[0m_pending_removals\u001B[0m\u001B[1;33m:\u001B[0m\u001B[1;33m\u001B[0m\u001B[1;33m\u001B[0m\u001B[0m\n\u001B[0;32m    130\u001B[0m             \u001B[0mself\u001B[0m\u001B[1;33m.\u001B[0m\u001B[0m_commit_removals\u001B[0m\u001B[1;33m(\u001B[0m\u001B[1;33m)\u001B[0m\u001B[1;33m\u001B[0m\u001B[1;33m\u001B[0m\u001B[0m\n\u001B[1;32m--> 131\u001B[1;33m         \u001B[0mo\u001B[0m \u001B[1;33m=\u001B[0m \u001B[0mself\u001B[0m\u001B[1;33m.\u001B[0m\u001B[0mdata\u001B[0m\u001B[1;33m[\u001B[0m\u001B[0mkey\u001B[0m\u001B[1;33m]\u001B[0m\u001B[1;33m(\u001B[0m\u001B[1;33m)\u001B[0m\u001B[1;33m\u001B[0m\u001B[1;33m\u001B[0m\u001B[0m\n\u001B[0m\u001B[0;32m    132\u001B[0m         \u001B[1;32mif\u001B[0m \u001B[0mo\u001B[0m \u001B[1;32mis\u001B[0m \u001B[1;32mNone\u001B[0m\u001B[1;33m:\u001B[0m\u001B[1;33m\u001B[0m\u001B[1;33m\u001B[0m\u001B[0m\n\u001B[0;32m    133\u001B[0m             \u001B[1;32mraise\u001B[0m \u001B[0mKeyError\u001B[0m\u001B[1;33m(\u001B[0m\u001B[0mkey\u001B[0m\u001B[1;33m)\u001B[0m\u001B[1;33m\u001B[0m\u001B[1;33m\u001B[0m\u001B[0m\n",
      "\u001B[1;31mKeyError\u001B[0m: 'primary'"
     ]
    }
   ],
   "source": [
    "import weakref, gc\n",
    "class A:\n",
    "    def __init__(self, value):\n",
    "        self.value = value\n",
    "    def __repr__(self):\n",
    "        return str(self.value)\n",
    "\n",
    "a = A(10)                   # create a reference\n",
    "d = weakref.WeakValueDictionary()\n",
    "d['primary'] = a            # does not create a reference\n",
    "print(d['primary'])                # fetch the object if it is still alive\n",
    "del a                       # remove the one reference\n",
    "# gc.collect()                # run garbage collection right away\n",
    "print(d['primary'])                # entry was automatically removed"
   ],
   "metadata": {
    "collapsed": false,
    "pycharm": {
     "name": "#%%\n"
    }
   }
  },
  {
   "cell_type": "markdown",
   "source": [
    "## 11.7. 用于操作列表的工具\n",
    "\n",
    "许多对于数据结构的需求可以通过内置列表类型来满足。 但是，有时也会需要具有不同效费比的替代实现。"
   ],
   "metadata": {
    "collapsed": false,
    "pycharm": {
     "name": "#%% md\n"
    }
   }
  },
  {
   "cell_type": "markdown",
   "source": [
    "array 模块提供了一种 array() 对象，它类似于列表，但只能存储类型一致的数据且存储密集更高。"
   ],
   "metadata": {
    "collapsed": false
   }
  },
  {
   "cell_type": "code",
   "execution_count": 44,
   "outputs": [
    {
     "name": "stdout",
     "output_type": "stream",
     "text": [
      "26932\n",
      "array('H', [10, 700])\n"
     ]
    }
   ],
   "source": [
    "# 以两个字节为存储单元的无符号二进制数值的数组 (类型码为 \"H\")，\n",
    "# 而对于普通列表来说，每个条目存储为标准 Python 的 int 对象通常要占用16 个字节:\n",
    "\n",
    "from array import array\n",
    "\n",
    "a = array('H', [4000, 10, 700, 22222])\n",
    "\n",
    "print(sum(a))\n",
    "print(a[1:3])"
   ],
   "metadata": {
    "collapsed": false,
    "pycharm": {
     "name": "#%%\n"
    }
   }
  },
  {
   "cell_type": "markdown",
   "source": [
    "collections 模块提供了一种 deque() 对象，它类似于列表，\n",
    "\n",
    "但从左端添加和弹出的速度较快，而在中间查找的速度较慢。\n",
    "\n",
    "此种对象适用于实现队列和广度优先树搜索:"
   ],
   "metadata": {
    "collapsed": false
   }
  },
  {
   "cell_type": "code",
   "execution_count": 45,
   "outputs": [
    {
     "name": "stdout",
     "output_type": "stream",
     "text": [
      "Handling task1\n"
     ]
    }
   ],
   "source": [
    "from collections import deque\n",
    "d = deque([\"task1\", \"task2\", \"task3\"])\n",
    "d.append(\"task4\")\n",
    "print(\"Handling\", d.popleft())\n",
    "\n",
    "# unsearched = deque([starting_node])\n",
    "# def breadth_first_search(unsearched):\n",
    "#     node = unsearched.popleft()\n",
    "#     for m in gen_moves(node):\n",
    "#         if is_goal(m):\n",
    "#             return m\n",
    "#         unsearched.append(m)\n"
   ],
   "metadata": {
    "collapsed": false,
    "pycharm": {
     "name": "#%%\n"
    }
   }
  },
  {
   "cell_type": "markdown",
   "source": [
    "在替代的列表实现以外，标准库也提供了其他工具，\n",
    "\n",
    "例如 bisect 模块具有用于操作有序列表的函数:"
   ],
   "metadata": {
    "collapsed": false
   }
  },
  {
   "cell_type": "code",
   "execution_count": 46,
   "outputs": [
    {
     "name": "stdout",
     "output_type": "stream",
     "text": [
      "[(100, 'perl'), (200, 'tcl'), (300, 'ruby'), (400, 'lua'), (500, 'python')]\n"
     ]
    }
   ],
   "source": [
    "import bisect\n",
    "scores = [(100, 'perl'), (200, 'tcl'), (400, 'lua'), (500, 'python')]\n",
    "bisect.insort(scores, (300, 'ruby'))\n",
    "print(scores)"
   ],
   "metadata": {
    "collapsed": false,
    "pycharm": {
     "name": "#%%\n"
    }
   }
  },
  {
   "cell_type": "markdown",
   "source": [
    "heapq 模块提供了基于常规列表来实现堆的函数。\n",
    "\n",
    "最小值的条目总是保持在位置零。\n",
    "\n",
    "这对于需要重复访问最小元素而不希望运行完整列表排序的应用来说非常有用:"
   ],
   "metadata": {
    "collapsed": false
   }
  },
  {
   "cell_type": "code",
   "execution_count": 50,
   "outputs": [
    {
     "name": "stdout",
     "output_type": "stream",
     "text": [
      "[0, 1, 2, 6, 3, 5, 4, 7, 8, 9]\n",
      "[-5, 0, 2, 6, 1, 5, 4, 7, 8, 9, 3]\n",
      "[-5, 0, 1]\n"
     ]
    }
   ],
   "source": [
    "from heapq import heapify, heappop, heappush\n",
    "data = [1, 3, 5, 7, 9, 2, 4, 6, 8, 0]\n",
    "heapify(data)            # rearrange the list into heap order\n",
    "print(data)\n",
    "heappush(data, -5)              # add a new entry\n",
    "print(data)\n",
    "print([heappop(data) for i in range(3)])  # fetch the three smallest entries"
   ],
   "metadata": {
    "collapsed": false,
    "pycharm": {
     "name": "#%%\n"
    }
   }
  },
  {
   "cell_type": "markdown",
   "source": [
    "## 11.8. 十进制浮点运算\n"
   ],
   "metadata": {
    "collapsed": false
   }
  },
  {
   "cell_type": "markdown",
   "source": [
    "decimal 模块提供了一种 Decimal 数据类型用于十进制浮点运算。\n",
    "\n",
    "相比内置的 float 二进制浮点实现，该类特别适用于\n",
    "\n",
    "- 财务应用和其他需要精确十进制表示的用途，\n",
    "- 控制精度，\n",
    "- 控制四舍五入以满足法律或监管要求，\n",
    "- 跟踪有效小数位，或\n",
    "- 用户期望结果与手工完成的计算相匹配的应用程序。"
   ],
   "metadata": {
    "collapsed": false,
    "pycharm": {
     "name": "#%% md\n"
    }
   }
  },
  {
   "cell_type": "markdown",
   "source": [
    "例如，使用十进制浮点和二进制浮点数计算70美分手机和5％税的总费用，会产生的不同结果。\n",
    "如果结果四舍五入到最接近的分数差异会更大:"
   ],
   "metadata": {
    "collapsed": false
   }
  },
  {
   "cell_type": "code",
   "execution_count": 53,
   "outputs": [
    {
     "name": "stdout",
     "output_type": "stream",
     "text": [
      "0.74\n",
      "0.73\n"
     ]
    }
   ],
   "source": [
    "from decimal import *\n",
    "print(round(Decimal('0.70') * Decimal('1.05'), 2))\n",
    "print(round(.70 * 1.05, 2))"
   ],
   "metadata": {
    "collapsed": false,
    "pycharm": {
     "name": "#%%\n"
    }
   }
  },
  {
   "cell_type": "markdown",
   "source": [
    "Decimal 表示的结果会保留尾部的零，并根据具有两个有效位的被乘数自动推出四个有效位。\n",
    "\n",
    "Decimal 可以模拟手工运算来避免当二进制浮点数无法精确表示十进制数时会导致的问题。\n",
    "\n",
    "精确表示特性使得 Decimal 类能够执行对于二进制浮点数来说不适用的模运算和相等性检测:"
   ],
   "metadata": {
    "collapsed": false,
    "pycharm": {
     "name": "#%% md\n"
    }
   }
  },
  {
   "cell_type": "code",
   "execution_count": 54,
   "outputs": [
    {
     "name": "stdout",
     "output_type": "stream",
     "text": [
      "0.00\n",
      "0.09999999999999995\n",
      "True\n",
      "False\n"
     ]
    }
   ],
   "source": [
    "print(Decimal('1.00') % Decimal('.10'))\n",
    "\n",
    "print(1.00 % 0.10)\n",
    "\n",
    "print(sum([Decimal('0.1')]*10) == Decimal('1.0'))\n",
    "\n",
    "print(sum([0.1]*10) == 1.0)"
   ],
   "metadata": {
    "collapsed": false,
    "pycharm": {
     "name": "#%%\n"
    }
   }
  },
  {
   "cell_type": "markdown",
   "source": [
    "decimal 模块提供了运算所需要的足够精度:"
   ],
   "metadata": {
    "collapsed": false
   }
  },
  {
   "cell_type": "code",
   "execution_count": 55,
   "outputs": [
    {
     "name": "stdout",
     "output_type": "stream",
     "text": [
      "0.142857142857142857142857142857142857\n"
     ]
    }
   ],
   "source": [
    "getcontext().prec = 36\n",
    "print(Decimal(1) / Decimal(7))"
   ],
   "metadata": {
    "collapsed": false,
    "pycharm": {
     "name": "#%%\n"
    }
   }
  }
 ],
 "metadata": {
  "kernelspec": {
   "display_name": "Python 3",
   "language": "python",
   "name": "python3"
  },
  "language_info": {
   "codemirror_mode": {
    "name": "ipython",
    "version": 2
   },
   "file_extension": ".py",
   "mimetype": "text/x-python",
   "name": "python",
   "nbconvert_exporter": "python",
   "pygments_lexer": "ipython2",
   "version": "2.7.6"
  }
 },
 "nbformat": 4,
 "nbformat_minor": 0
}