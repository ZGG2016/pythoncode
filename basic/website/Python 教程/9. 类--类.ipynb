{
 "cells": [
  {
   "cell_type": "markdown",
   "metadata": {
    "collapsed": true,
    "pycharm": {
     "name": "#%% md\n"
    }
   },
   "source": [
    "# 9. 类\n",
    "[https://docs.python.org/zh-cn/3.8/tutorial/classes.html](https://docs.python.org/zh-cn/3.8/tutorial/classes.html)"
   ]
  },
  {
   "cell_type": "markdown",
   "source": [
    "类定义与函数定义 (def 语句) 一样必须被执行才会起作用。\n",
    "\n",
    "当进入类定义时，将创建一个新的命名空间，并将其用作局部作用域 \n",
    "--- 因此，所有对局部变量的赋值都是在这个新命名空间之内。 \n",
    "特别的，函数定义会绑定到这里的新函数的名称【定义了一个新的函数】。\n",
    "\n",
    "当（从结尾处）正常离开类定义时，将创建一个 类对象【不是实例化后的对象，就是类对象，实例化后的对象就实例】。 \n",
    "这基本上是一个包围在 类定义所创建命名空间内容 周围的包装器；\n",
    "原始的（在进入类定义之前起作用的）局部作用域将重新生效，类对象将在这里被绑定到类定义头所给出的类名称 (在这个示例中为 ClassName)。"
   ],
   "metadata": {
    "collapsed": false
   }
  },
  {
   "cell_type": "markdown",
   "source": [
    "### 9.3.2. 类对象"
   ],
   "metadata": {
    "collapsed": false,
    "pycharm": {
     "name": "#%% md\n"
    }
   }
  },
  {
   "cell_type": "code",
   "execution_count": 3,
   "outputs": [],
   "source": [
    "class MyClass:\n",
    "    \"\"\"A simple example class\"\"\"\n",
    "    i = 12345\n",
    "\n",
    "    def f(self):\n",
    "        return 'hello world'"
   ],
   "metadata": {
    "collapsed": false,
    "pycharm": {
     "name": "#%% \n",
     "is_executing": false
    }
   }
  },
  {
   "cell_type": "markdown",
   "source": [
    "类对象支持两种操作：属性引用和实例化。"
   ],
   "metadata": {
    "collapsed": false
   }
  },
  {
   "cell_type": "markdown",
   "source": [
    "属性引用：MyClass.i \\ MyClass.f 【调用函数也是属性引用】\n",
    "\n",
    "有效的属性名称是 类对象被创建时 存在于类命名空间中的所有名称"
   ],
   "metadata": {
    "collapsed": false
   }
  },
  {
   "cell_type": "code",
   "execution_count": 4,
   "outputs": [
    {
     "name": "stdout",
     "text": [
      "12345\n<function MyClass.f at 0x000001DB6460A430>\n"
     ],
     "output_type": "stream"
    }
   ],
   "source": [
    "print(MyClass.i)\n",
    "print(MyClass.f)"
   ],
   "metadata": {
    "collapsed": false,
    "pycharm": {
     "name": "#%%\n",
     "is_executing": false
    }
   }
  },
  {
   "cell_type": "markdown",
   "source": [
    "类的 实例化 使用函数表示法\n",
    "\n",
    "创建类的新 实例 并将此对象分配给局部变量 x，例如："
   ],
   "metadata": {
    "collapsed": false
   }
  },
  {
   "cell_type": "code",
   "execution_count": 9,
   "outputs": [
    {
     "name": "stdout",
     "text": [
      "<__main__.MyClass object at 0x000001DB64785CA0>\n"
     ],
     "output_type": "stream"
    }
   ],
   "source": [
    "x = MyClass()\n",
    "print(x)"
   ],
   "metadata": {
    "collapsed": false,
    "pycharm": {
     "name": "#%%\n",
     "is_executing": false
    }
   }
  },
  {
   "cell_type": "markdown",
   "source": [
    "使用 `__init__()` 创建带有特定初始状态的自定义实例\n",
    "\n",
    "定义 `__init__()` 方法后，类的实例化操作会自动为新创建的类实例发起调用 `__init__()`"
   ],
   "metadata": {
    "collapsed": false,
    "pycharm": {
     "name": "#%% md\n"
    }
   }
  },
  {
   "cell_type": "code",
   "execution_count": 7,
   "outputs": [
    {
     "name": "stdout",
     "text": [
      "3 3\n"
     ],
     "output_type": "stream"
    }
   ],
   "source": [
    "class Complex:\n",
    "    def __init__(self, realpart, imagpart):\n",
    "        self.r = realpart\n",
    "        self.i = imagpart\n",
    "c = Complex(3,3)\n",
    "print(c.r,c.i)"
   ],
   "metadata": {
    "collapsed": false,
    "pycharm": {
     "name": "#%%\n",
     "is_executing": false
    }
   }
  },
  {
   "cell_type": "markdown",
   "source": [
    "### 9.3.3. 实例对象"
   ],
   "metadata": {
    "collapsed": false
   }
  },
  {
   "cell_type": "markdown",
   "source": [
    "实例对象唯一操作是属性引用。 有两种有效的属性名称：数据属性和方法。\n",
    "\n",
    "方法是“从属于”对象的函数。\n",
    "\n",
    "实例对象的有效方法名称依赖于其所属的类。 \n",
    "根据定义，一个类中所有是函数对象的属性都是定义了其实例的相应方法。 \n",
    "\n",
    "因此在我们的示例中，\n",
    "`x.f` 是有效的方法引用，因为 `MyClass.f` 是一个函数，而 `x.i` 不是方法，\n",
    "因为 `MyClass.i` 不是一个函数。 但是 `x.f` 与 `MyClass.f` 并不是一回事 \n",
    "--- 它是一个 方法对象，不是函数对象。"
   ],
   "metadata": {
    "collapsed": false
   }
  },
  {
   "cell_type": "markdown",
   "source": [
    "### 9.3.4. 方法对象"
   ],
   "metadata": {
    "collapsed": false,
    "pycharm": {
     "name": "#%% md\n"
    }
   }
  },
  {
   "cell_type": "markdown",
   "source": [
    "调用一个方法后，可以被保存起来以后再调用 【有 return】"
   ],
   "metadata": {
    "collapsed": false,
    "pycharm": {
     "name": "#%% md\n"
    }
   }
  },
  {
   "cell_type": "code",
   "execution_count": 10,
   "outputs": [
    {
     "name": "stdout",
     "text": [
      "hello world\n"
     ],
     "output_type": "stream"
    }
   ],
   "source": [
    "xf = x.f\n",
    "print(xf)\n"
   ],
   "metadata": {
    "collapsed": false,
    "pycharm": {
     "name": "#%%\n",
     "is_executing": false
    }
   }
  },
  {
   "cell_type": "markdown",
   "source": [
    "实例对象会作为函数的第一个参数被传入。 \n",
    "在我们的示例中，【调用 `x.f()` 其实就相当于 `MyClass.f(x)`】。 \n",
    "\n",
    "总之，调用一个具有 n 个参数的方法就相当于调用再多一个参数的对应函数，\n",
    "这个参数值为方法所属实例对象，位置在其他参数之前。"
   ],
   "metadata": {
    "collapsed": false
   }
  },
  {
   "cell_type": "markdown",
   "source": [
    "### 9.3.5. 类和实例变量  【重点】"
   ],
   "metadata": {
    "collapsed": false
   }
  },
  {
   "cell_type": "markdown",
   "source": [
    "- 实例变量用于每个实例的唯一数据\n",
    "- 类变量用于类的所有实例共享的属性和方法"
   ],
   "metadata": {
    "collapsed": false
   }
  },
  {
   "cell_type": "code",
   "execution_count": 11,
   "outputs": [
    {
     "name": "stdout",
     "text": [
      "canine\ncanine\nFido\nBuddy\n"
     ],
     "output_type": "stream"
    }
   ],
   "source": [
    "class Dog:\n",
    "\n",
    "    kind = 'canine'         # class variable shared by all instances\n",
    "\n",
    "    def __init__(self, name):\n",
    "        self.name = name    # instance variable unique to each instance\n",
    "\n",
    "d1 = Dog(\"Fido\")\n",
    "d2 = Dog(\"Buddy\")\n",
    "\n",
    "print(d1.kind)\n",
    "print(d2.kind)\n",
    "print(d1.name)\n",
    "print(d2.name)"
   ],
   "metadata": {
    "collapsed": false,
    "pycharm": {
     "name": "#%%\n",
     "is_executing": false
    }
   }
  },
  {
   "cell_type": "markdown",
   "source": [
    "共享数据可能在涉及 mutable 对象例如列表和字典的时候导致令人惊讶的结果。 \n",
    "\n",
    "例如以下代码中的 tricks 列表不应该被用作类变量，因为所有的 Dog 实例将只共享一个单独的列表:"
   ],
   "metadata": {
    "collapsed": false
   }
  },
  {
   "cell_type": "code",
   "execution_count": 12,
   "outputs": [
    {
     "name": "stdout",
     "text": [
      "['roll over', 'play dead']\n['roll over', 'play dead']\n"
     ],
     "output_type": "stream"
    }
   ],
   "source": [
    "class Dog:\n",
    "\n",
    "    tricks = []             # mistaken use of a class variable\n",
    "\n",
    "    def __init__(self, name):\n",
    "        self.name = name\n",
    "\n",
    "    def add_trick(self, trick):\n",
    "        self.tricks.append(trick)\n",
    "\n",
    "d1 = Dog(\"Fido\")\n",
    "d2 = Dog(\"Buddy\")\n",
    "\n",
    "d1.add_trick(\"roll over\")\n",
    "d2.add_trick(\"play dead\")\n",
    "print(d1.tricks)\n",
    "print(d2.tricks)"
   ],
   "metadata": {
    "collapsed": false,
    "pycharm": {
     "name": "#%%\n",
     "is_executing": false
    }
   }
  },
  {
   "cell_type": "markdown",
   "source": [
    "正确的类设计应该使用实例变量"
   ],
   "metadata": {
    "collapsed": false
   }
  },
  {
   "cell_type": "code",
   "execution_count": 13,
   "outputs": [
    {
     "name": "stdout",
     "text": [
      "['roll over']\n['play dead']\n"
     ],
     "output_type": "stream"
    }
   ],
   "source": [
    "class Dog:\n",
    "\n",
    "    def __init__(self, name):\n",
    "        self.name = name\n",
    "        self.tricks = []    # creates a new empty list for each dog\n",
    "\n",
    "    def add_trick(self, trick):\n",
    "        self.tricks.append(trick)\n",
    "        \n",
    "d1 = Dog(\"Fido\")\n",
    "d2 = Dog(\"Buddy\")\n",
    "\n",
    "d1.add_trick(\"roll over\")\n",
    "d2.add_trick(\"play dead\")\n",
    "print(d1.tricks)\n",
    "print(d2.tricks)\n"
   ],
   "metadata": {
    "collapsed": false,
    "pycharm": {
     "name": "#%%\n",
     "is_executing": false
    }
   }
  },
  {
   "cell_type": "markdown",
   "source": [
    "## 9.4. 补充说明"
   ],
   "metadata": {
    "collapsed": false
   }
  },
  {
   "cell_type": "markdown",
   "source": [
    "如果同样的属性名称同时出现在实例和类中，则属性查找会优先选择实例:【重新赋值了】"
   ],
   "metadata": {
    "collapsed": false
   }
  },
  {
   "cell_type": "code",
   "execution_count": null,
   "outputs": [],
   "source": [
    "class Warehouse:\n",
    "    purpose = 'storage'\n",
    "    region = 'west'\n",
    "    \n",
    "w1 = Warehouse()\n",
    "print(w1.purpose, w1.region)\n",
    "\n",
    "w2 = Warehouse()\n",
    "w2.region = 'east'\n",
    "print(w2.purpose, w2.region)"
   ],
   "metadata": {
    "collapsed": false,
    "pycharm": {
     "name": "#%%\n"
    }
   }
  },
  {
   "cell_type": "markdown",
   "source": [
    "任何一个作为类属性的函数都为该类的实例定义了一个相应方法。 【类<-->函数  实例<-->方法】\n",
    "\n",
    "函数定义的文本并非必须包含于类定义之内：将一个函数对象赋值给一个局部变量也是可以的。 \n",
    "\n",
    "本示例的做法通常只会令程序的阅读者感到迷惑。例如:"
   ],
   "metadata": {
    "collapsed": false
   }
  },
  {
   "cell_type": "code",
   "execution_count": null,
   "outputs": [],
   "source": [
    "# Function defined outside the class\n",
    "def f1(self, x, y):\n",
    "    return min(x, x+y)\n",
    "\n",
    "class C:\n",
    "    f = f1\n",
    "\n",
    "    def g(self):\n",
    "        return 'hello world'\n",
    "\n",
    "    h = g\n",
    "\n"
   ],
   "metadata": {
    "collapsed": false,
    "pycharm": {
     "name": "#%%\n"
    }
   }
  },
  {
   "cell_type": "markdown",
   "source": [
    "客户端应当谨慎地使用数据属性 --- 客户端可能通过直接操作数据属性的方式破坏由方法所维护的固定变量。\n",
    "\n",
    "请注意客户端可以向一个实例对象添加他们自己的数据属性而不会影响方法的可用性，只要保证避免名称冲突 \n",
    "--- 再次提醒，在此使用命名约定可以省去许多令人头痛的麻烦。"
   ],
   "metadata": {
    "collapsed": false,
    "pycharm": {
     "name": "#%% md\n"
    }
   }
  },
  {
   "cell_type": "markdown",
   "source": [
    "方法可以通过使用 self 参数的方法属性调用其他方法:"
   ],
   "metadata": {
    "collapsed": false,
    "pycharm": {
     "name": "#%% md\n"
    }
   }
  },
  {
   "cell_type": "code",
   "execution_count": null,
   "outputs": [],
   "source": [
    "class Bag:\n",
    "    def __init__(self):\n",
    "        self.data = []\n",
    "\n",
    "    def add(self, x):\n",
    "        self.data.append(x)\n",
    "\n",
    "    def addtwice(self, x):\n",
    "        self.add(x)\n",
    "        self.add(x)"
   ],
   "metadata": {
    "collapsed": false,
    "pycharm": {
     "name": "#%%\n"
    }
   }
  },
  {
   "cell_type": "markdown",
   "source": [
    "【？？】\n",
    "方法可以通过与普通函数相同的方式引用全局名称。 \n",
    "与方法相关联的全局作用域就是包含其定义的模块。 \n",
    "（类永远不会被作为全局作用域。） 虽然我们很少会有充分的理由在方法中使用全局作用域，\n",
    "但全局作用域存在许多合法的使用场景：\n",
    "举个例子，导入到全局作用域的函数和模块可以被方法所使用，在其中定义的函数和类也一样。 \n",
    "通常，包含该方法的类本身是在全局作用域中定义的，\n",
    "而在下一节中我们将会发现为何方法需要引用其所属类的很好的理由。"
   ],
   "metadata": {
    "collapsed": false
   }
  },
  {
   "cell_type": "markdown",
   "source": [
    "每个值都是一个对象，因此具有 类 （也称为 类型），并存储为 `object.__class__` 。\n"
   ],
   "metadata": {
    "collapsed": false
   }
  },
  {
   "cell_type": "markdown",
   "source": [
    "## 9.5. 继承"
   ],
   "metadata": {
    "collapsed": false
   }
  },
  {
   "cell_type": "markdown",
   "source": [
    "语法如下所示:\n",
    "```\n",
    "class DerivedClassName(BaseClassName):\n",
    "    <statement-1>\n",
    "    .\n",
    "    .\n",
    "    .\n",
    "    <statement-N>\n",
    "```\n",
    "\n",
    "当基类定义在另一个模块中的时候:\n",
    "```\n",
    "class DerivedClassName(modname.BaseClassName):\n",
    "```"
   ],
   "metadata": {
    "collapsed": false
   }
  },
  {
   "cell_type": "markdown",
   "source": [
    "当构造类对象时，基类会被记住。 \n",
    "\n",
    "此信息将被用来解析属性引用：\n",
    "\n",
    "- 如果请求的属性在类中找不到，搜索将转往基类中进行查找。 \n",
    "- 如果基类本身也派生自其他某个类，则此规则将被递归地应用。"
   ],
   "metadata": {
    "collapsed": false
   }
  },
  {
   "cell_type": "code",
   "execution_count": 1,
   "outputs": [
    {
     "name": "stdout",
     "text": [
      "eat food\n"
     ],
     "output_type": "stream"
    }
   ],
   "source": [
    "class Person():\n",
    "    def __init__(self,name,age):\n",
    "        self.name = name\n",
    "        self.age = age\n",
    "    def eat(self):\n",
    "        print(\"eat food\")\n",
    "\n",
    "class Student(Person):\n",
    "    pass\n",
    "\n",
    "s = Student(\"zhangsan\",\"12\")\n",
    "s.eat()"
   ],
   "metadata": {
    "collapsed": false,
    "pycharm": {
     "name": "#%%\n",
     "is_executing": false
    }
   }
  },
  {
   "cell_type": "markdown",
   "source": [
    "派生类可能会重载其基类的方法。 \n",
    "\n",
    "因为方法在调用同一对象的其他方法时没有特殊权限，\n",
    "调用同一基类中定义的另一方法的基类方法最终可能会调用覆盖它的派生类的方法。"
   ],
   "metadata": {
    "collapsed": false
   }
  },
  {
   "cell_type": "code",
   "execution_count": 2,
   "outputs": [
    {
     "name": "stdout",
     "text": [
      "eat a apple\n"
     ],
     "output_type": "stream"
    }
   ],
   "source": [
    "class Person():\n",
    "    def __init__(self,name,age):\n",
    "        self.name = name\n",
    "        self.age = age\n",
    "    def eat(self):\n",
    "        print(\"eat food\")\n",
    "\n",
    "class Student(Person):\n",
    "    def eat(self):\n",
    "        print(\"eat a apple\")\n",
    "\n",
    "s = Student(\"zhangsan\",\"12\")\n",
    "s.eat()"
   ],
   "metadata": {
    "collapsed": false,
    "pycharm": {
     "name": "#%%\n",
     "is_executing": false
    }
   }
  },
  {
   "cell_type": "markdown",
   "source": [
    "在派生类中的重载方法实际上可能想要扩展而非简单地替换同名的基类方法。 \n",
    "\n",
    "有一种方式可以简单地直接调用基类方法：即调用 `BaseClassName.methodname(self, arguments)`。 \n",
    "\n",
    "有时这对客户端来说也是有用的。 （请注意仅当此基类可在全局作用域中以 BaseClassName 的名称被访问时方可使用此方式。）"
   ],
   "metadata": {
    "collapsed": false
   }
  },
  {
   "cell_type": "code",
   "execution_count": 3,
   "outputs": [
    {
     "name": "stdout",
     "text": [
      "eat food\n"
     ],
     "output_type": "stream"
    }
   ],
   "source": [
    "class Person():\n",
    "    def __init__(self,name,age):\n",
    "        self.name = name\n",
    "        self.age = age\n",
    "    def eat(self):\n",
    "        print(\"eat food\")\n",
    "\n",
    "class Student(Person):\n",
    "    def eat(self):\n",
    "        print(\"eat a apple\")\n",
    "\n",
    "s = Student(\"zhangsan\",\"12\")\n",
    "Person.eat(s)"
   ],
   "metadata": {
    "collapsed": false,
    "pycharm": {
     "name": "#%%\n",
     "is_executing": false
    }
   }
  },
  {
   "cell_type": "markdown",
   "source": [
    "Python有两个内置函数可被用于继承机制：\n",
    "\n",
    "使用 `isinstance()` 来检查一个实例的类型: \n",
    "- `isinstance(obj, int)` 仅会在 `obj.__class__` 为 `int` 或某个派生自 `int` 的类时为 `True`。\n",
    "\n",
    "使用 `issubclass()` 来检查类的继承关系: \n",
    "- `issubclass(bool, int)` 为 `True`，因为 `bool` 是 `int` 的子类。 但是，`issubclass(float, int)` 为 `False`，因为 `float` 不是 `int` 的子类。"
   ],
   "metadata": {
    "collapsed": false,
    "pycharm": {
     "name": "#%% md\n"
    }
   }
  },
  {
   "cell_type": "code",
   "execution_count": 5,
   "outputs": [
    {
     "name": "stdout",
     "text": [
      "True\nTrue\n"
     ],
     "output_type": "stream"
    }
   ],
   "source": [
    "class Person():\n",
    "    def __init__(self,name,age):\n",
    "        self.name = name\n",
    "        self.age = age\n",
    "    def eat(self):\n",
    "        print(\"eat food\")\n",
    "\n",
    "class Student(Person):\n",
    "    def eat(self):\n",
    "        print(\"eat a apple\")\n",
    "\n",
    "s = Student(\"zhangsan\",\"12\")\n",
    "print(isinstance(s,Person))\n",
    "print(issubclass(Student,Person))"
   ],
   "metadata": {
    "collapsed": false,
    "pycharm": {
     "name": "#%%\n",
     "is_executing": false
    }
   }
  },
  {
   "cell_type": "code",
   "execution_count": 19,
   "outputs": [
    {
     "name": "stdout",
     "text": [
      "eat a apple\nzhangsan 12 man\n"
     ],
     "output_type": "stream"
    }
   ],
   "source": [
    "class Person():\n",
    "    def __init__(self,name,age):\n",
    "        self.name = name\n",
    "        self.age = age\n",
    "    def eat(self):\n",
    "        print(\"eat food\")\n",
    "\n",
    "class Student(Person):\n",
    "    def __init__(self, name, age, sex):\n",
    "        super().__init__(name, age)\n",
    "        self.sex = sex\n",
    "    def eat(self):\n",
    "        print(\"eat a apple\")\n",
    "        \n",
    "s = Student(\"zhangsan\",\"12\",\"man\")\n",
    "s.eat()\n",
    "print(s.name,s.age,s.sex)"
   ],
   "metadata": {
    "collapsed": false,
    "pycharm": {
     "name": "#%% \n",
     "is_executing": false
    }
   }
  },
  {
   "cell_type": "markdown",
   "source": [
    "### 9.5.1. 多重继承  TODO"
   ],
   "metadata": {
    "collapsed": false,
    "pycharm": {
     "name": "#%% md\n"
    }
   }
  },
  {
   "cell_type": "markdown",
   "source": [
    "语句如下所示:\n",
    "```\n",
    "class DerivedClassName(Base1, Base2, Base3):\n",
    "    <statement-1>\n",
    "    .\n",
    "    .\n",
    "    .\n",
    "    <statement-N>\n",
    "```\n",
    "\n",
    "在最简单的情况下，搜索从父类所继承属性的操作是`深度优先、从左至右的`。\n",
    "\n",
    "当层次结构中存在重叠时不会在同一个类中搜索两次。\n",
    "\n",
    "因此，如果某一属性在 DerivedClassName 中未找到，则会到 Base1 中搜索它，\n",
    "\n",
    "然后（递归地）到 Base1 的基类中搜索，如果在那里未找到，再到 Base2 中搜索，依此类推。"
   ],
   "metadata": {
    "collapsed": false
   }
  },
  {
   "cell_type": "code",
   "execution_count": 4,
   "outputs": [
    {
     "name": "stdout",
     "text": [
      "eat food\nstudy math\nplay game\nzhangsan 12 七中 一年级\n"
     ],
     "output_type": "stream"
    }
   ],
   "source": [
    "class Person():\n",
    "    def __init__(self,name,age):\n",
    "        self.name = name\n",
    "        self.age = age\n",
    "    def eat(self):\n",
    "        print(\"eat food\")\n",
    "\n",
    "class Student():\n",
    "    def __init__(self,school,grade):\n",
    "        self.school = school\n",
    "        self.grade = grade        \n",
    "    def study(self):\n",
    "        print(\"study math\")\n",
    "\n",
    "class Boy(Person,Student):\n",
    "    def __init__(self, name, age, school, grade):\n",
    "        super().__init__(name, age)\n",
    "        super().__init__(school, grade)\n",
    "        self.name = name\n",
    "        self.age = age\n",
    "        self.school = school\n",
    "        self.grade = grade\n",
    "    def play(self):\n",
    "        print(\"play game\")\n",
    "# name, age, school, grade\n",
    "b = Boy(\"zhangsan\",\"12\",\"七中\",\"一年级\")\n",
    "b.eat()\n",
    "b.study()\n",
    "b.play()\n",
    "print(b.name,b.age,b.school,b.grade)"
   ],
   "metadata": {
    "collapsed": false,
    "pycharm": {
     "name": "#%%\n",
     "is_executing": false
    }
   }
  },
  {
   "cell_type": "markdown",
   "source": [
    "## 9.6. 私有变量"
   ],
   "metadata": {
    "collapsed": false
   }
  },
  {
   "cell_type": "markdown",
   "source": [
    "那种仅限从一个对象内部访问的“私有”实例变量在 Python 中并不存在。 \n",
    "\n",
    "但是，大多数 Python 代码都遵循这样一个约定：`带有一个`下划线的名称 (例如 `_spam` 【`_Mapping__update`】) \n",
    "应该被当作是 API 的非公有部分 (无论它是函数、方法或是数据成员)。"
   ],
   "metadata": {
    "collapsed": false
   }
  },
  {
   "cell_type": "markdown",
   "source": [
    "由于存在对于`类私有成员`的有效使用场景（例如避免名称与子类所定义的名称相冲突），\n",
    "\n",
    "因此存在对此种机制的有限支持，称为 `名称改写`。 任何形式为 `__spam` 的标识符\n",
    "（`至少带有两个`前缀下划线，至多一个后缀下划线）的文本将被替换为 `_classname__spam`，\n",
    "其中 classname 为去除了前缀下划线的当前类名称。 \n",
    "\n",
    "这种改写不考虑标识符的句法位置，只要它出现在类定义内部就会进行。\n",
    "\n",
    "名称改写有助于让子类重载方法而不破坏类内方法调用。例如:"
   ],
   "metadata": {
    "collapsed": false,
    "pycharm": {
     "name": "#%% md\n"
    }
   }
  },
  {
   "cell_type": "code",
   "execution_count": 22,
   "outputs": [
    {
     "name": "stdout",
     "text": [
      "[1, 2, 3, 4]\n"
     ],
     "output_type": "stream"
    }
   ],
   "source": [
    "class Mapping:\n",
    "    def __init__(self, iterable):\n",
    "        self.items_list = []\n",
    "        self.__update(iterable)\n",
    "\n",
    "    def update(self, iterable):\n",
    "        for item in iterable:\n",
    "            self.items_list.append(item)\n",
    "\n",
    "    # 名称改写 : 使类成员私有，有助于让子类重载方法，而不破坏类内方法调用\n",
    "    __update = update   # private copy of original update() method  \n",
    "\n",
    "class MappingSubclass(Mapping):\n",
    "    # def update(self, keys, values):\n",
    "    #     # provides new signature for update()\n",
    "    #     # but does not break __init__()\n",
    "    #     for item in zip(keys, values):\n",
    "    #         self.items_list.append(item)\n",
    "    def update(self, value):\n",
    "        self.items_list.append(value)\n",
    "        print(self.items_list) \n",
    "lst = [1,2,3]\n",
    "ms = MappingSubclass(lst)\n",
    "ms.update(4)"
   ],
   "metadata": {
    "collapsed": false,
    "pycharm": {
     "name": "#%%\n",
     "is_executing": false
    }
   }
  },
  {
   "cell_type": "code",
   "execution_count": 23,
   "outputs": [
    {
     "name": "stdout",
     "text": [
      "[[1, 2, 3]]\n[[1, 2, 3], 4]\n"
     ],
     "output_type": "stream"
    }
   ],
   "source": [
    "class Mapping:\n",
    "    def __init__(self, iterable):\n",
    "        self.items_list = []\n",
    "        self.update(iterable)\n",
    "\n",
    "    def update(self, iterable):\n",
    "        for item in iterable:\n",
    "            self.items_list.append(item)\n",
    "\n",
    "class MappingSubclass(Mapping):\n",
    "    # def update(self, keys, values):\n",
    "    #     # provides new signature for update()\n",
    "    #     # but does not break __init__()\n",
    "    #     for item in zip(keys, values):\n",
    "    #         self.items_list.append(item)\n",
    "    def update(self, value):\n",
    "        self.items_list.append(value)\n",
    "        print(self.items_list) \n",
    "lst = [1,2,3]\n",
    "ms = MappingSubclass(lst)\n",
    "ms.update(4)"
   ],
   "metadata": {
    "collapsed": false,
    "pycharm": {
     "name": "#%%\n",
     "is_executing": false
    }
   }
  },
  {
   "cell_type": "markdown",
   "source": [
    "上面的示例即使在 MappingSubclass 引入了一个 `__update` 标识符的情况下也不会出错，\n",
    "因为它会在 Mapping 类中被替换为 `_Mapping__update` \n",
    "而在 MappingSubclass 类中被替换为 `_MappingSubclass__update`。"
   ],
   "metadata": {
    "collapsed": false
   }
  },
  {
   "cell_type": "markdown",
   "source": [
    "【？？】\n",
    "请注意，改写规则的设计主要是为了避免意外冲突；访问或修改被视为私有的变量仍然是可能的。这在特殊情况下甚至会很有用，例如在调试器中。\n",
    "\n",
    "请注意传递给 `exec()` 或 `eval()` 的代码不会将发起调用类的类名视作当前类；\n",
    "这类似于 global 语句的效果，因此这种效果仅限于同时经过字节码编译的代码。 \n",
    "\n",
    "同样的限制也适用于 `getattr()`, `setattr()` 和 `delattr()`，以及对于 `__dict__` 的直接引用。"
   ],
   "metadata": {
    "collapsed": false
   }
  },
  {
   "cell_type": "markdown",
   "source": [
    "## 9.7. 杂项说明"
   ],
   "metadata": {
    "collapsed": false
   }
  },
  {
   "cell_type": "markdown",
   "source": [
    "将一些命名数据项捆绑在一起。 这种情况适合定义一个空类:"
   ],
   "metadata": {
    "collapsed": false,
    "pycharm": {
     "name": "#%% md\n"
    }
   }
  },
  {
   "cell_type": "code",
   "execution_count": null,
   "outputs": [],
   "source": [
    "class Employee:\n",
    "    pass\n",
    "\n",
    "john = Employee()  # Create an empty employee record\n",
    "\n",
    "# Fill the fields of the record\n",
    "john.name = 'John Doe'\n",
    "john.dept = 'computer lab'\n",
    "john.salary = 1000"
   ],
   "metadata": {
    "collapsed": false,
    "pycharm": {
     "name": "#%%\n"
    }
   }
  },
  {
   "cell_type": "markdown",
   "source": [
    "一段需要特定抽象数据类型的 Python 代码往往可以被传入一个模拟了该数据类型的方法的类作为替代。\n",
    "例如，如果你有一个基于文件对象来格式化某些数据的函数，\n",
    "你可以定义一个带有 read() 和 readline() 方法从字符串缓存获取数据的类，并将其作为参数传入。"
   ],
   "metadata": {
    "collapsed": false,
    "pycharm": {
     "name": "#%% md\n"
    }
   }
  },
  {
   "cell_type": "code",
   "execution_count": 7,
   "outputs": [
    {
     "name": "stdout",
     "text": [
      "aaaaaabbbbbb\n"
     ],
     "output_type": "stream"
    }
   ],
   "source": [
    "class GetData:\n",
    "    def __init__(self, f):\n",
    "        self.f = f\n",
    "    def readline(self):\n",
    "        line = self.f.readline()\n",
    "        print(line)\n",
    "        \n",
    "f = open(\"C:\\\\Users\\\\zgg\\\\Desktop\\\\pythoncode\\\\data.txt\",\"r\") \n",
    "gd = GetData(f)\n",
    "gd.readline()\n",
    "f.close()"
   ],
   "metadata": {
    "collapsed": false,
    "pycharm": {
     "name": "#%%\n",
     "is_executing": false
    }
   }
  },
  {
   "cell_type": "markdown",
   "source": [
    "实例方法对象也具有属性: `m.__self__` 就是带有 `m()` 方法的实例对象，\n",
    "而 `m.__func__` 则是该方法所对应的函数对象。"
   ],
   "metadata": {
    "collapsed": false,
    "pycharm": {
     "name": "#%% md\n"
    }
   }
  },
  {
   "cell_type": "code",
   "execution_count": 8,
   "outputs": [
    {
     "name": "stdout",
     "text": [
      "<__main__.Student object at 0x00000235D985A6D0>\n<function Student.eat at 0x00000235D98CFE50>\n"
     ],
     "output_type": "stream"
    }
   ],
   "source": [
    "class Person():\n",
    "    def __init__(self,name,age):\n",
    "        self.name = name\n",
    "        self.age = age\n",
    "    def eat(self):\n",
    "        print(\"eat food\")\n",
    "\n",
    "class Student(Person):\n",
    "    def __init__(self, name, age, sex):\n",
    "        super().__init__(name, age)\n",
    "        self.sex = sex\n",
    "    def eat(self):\n",
    "        print(\"eat a apple\")\n",
    "        \n",
    "s = Student(\"zhangsan\",\"12\",\"man\")\n",
    "print(s.eat.__self__)\n",
    "print(s.eat.__func__)"
   ],
   "metadata": {
    "collapsed": false,
    "pycharm": {
     "name": "#%%\n",
     "is_executing": false
    }
   }
  },
  {
   "cell_type": "markdown",
   "source": [
    "## 9.8. 迭代器"
   ],
   "metadata": {
    "collapsed": false
   }
  },
  {
   "cell_type": "markdown",
   "source": [
    "在幕后，for 语句会在容器对象上调用 `iter()`， \n",
    "\n",
    "【`iter()` 函数返回一个定义了 `__next__()` 方法的迭代器对象】，\n",
    "`__next__()`方法将逐一访问容器中的元素。 \n",
    "\n",
    "当元素用尽时，`__next__()` 将引发 StopIteration 异常来通知终止 for 循环。\n",
    "\n",
    "你可以使用 `next()` 内置函数来调用 `__next__()` 方法"
   ],
   "metadata": {
    "collapsed": false,
    "pycharm": {
     "name": "#%% md\n"
    }
   }
  },
  {
   "cell_type": "code",
   "execution_count": 9,
   "outputs": [
    {
     "name": "stdout",
     "text": [
      "1\n2\n3\n--------------------------\n1\n2\n3\n"
     ],
     "output_type": "stream"
    },
    {
     "traceback": [
      "\u001b[1;31m---------------------------------------------------------------------------\u001b[0m",
      "\u001b[1;31mStopIteration\u001b[0m                             Traceback (most recent call last)",
      "Input \u001b[1;32mIn [9]\u001b[0m, in \u001b[0;36m<cell line: 9>\u001b[1;34m()\u001b[0m\n\u001b[0;32m      7\u001b[0m \u001b[38;5;28mprint\u001b[39m(\u001b[38;5;28mnext\u001b[39m(it))\n\u001b[0;32m      8\u001b[0m \u001b[38;5;28mprint\u001b[39m(\u001b[38;5;28mnext\u001b[39m(it))\n\u001b[1;32m----> 9\u001b[0m \u001b[38;5;28mprint\u001b[39m(\u001b[38;5;28;43mnext\u001b[39;49m\u001b[43m(\u001b[49m\u001b[43mit\u001b[49m\u001b[43m)\u001b[49m)\n",
      "\u001b[1;31mStopIteration\u001b[0m: "
     ],
     "ename": "StopIteration",
     "evalue": "",
     "output_type": "error"
    }
   ],
   "source": [
    "for element in [1, 2, 3]:\n",
    "    print(element)\n",
    "print(\"--------------------------\")\n",
    "\n",
    "it = iter([1, 2, 3])\n",
    "print(next(it))\n",
    "print(next(it))\n",
    "print(next(it))\n",
    "print(next(it))"
   ],
   "metadata": {
    "collapsed": false,
    "pycharm": {
     "name": "#%%\n",
     "is_executing": false
    }
   }
  },
  {
   "cell_type": "markdown",
   "source": [
    "给你的类添加迭代器行为: 【添加 `__iter__()` 和 `__next__()` 方法】\n",
    "\n",
    "定义一个 `__iter__()` 方法来返回一个带有 `__next__()` 方法的对象。 \n",
    "\n",
    "如果类已定义了 `__next__()`，则 `__iter__()` 可以简单地返回 self:"
   ],
   "metadata": {
    "collapsed": false
   }
  },
  {
   "cell_type": "code",
   "execution_count": 10,
   "outputs": [
    {
     "name": "stdout",
     "text": [
      "<__main__.Reverse object at 0x00000235D985AFD0>\nm\na\np\ns\n"
     ],
     "output_type": "stream"
    }
   ],
   "source": [
    "class Reverse:\n",
    "    \"\"\"Iterator for looping over a sequence backwards.\"\"\"\n",
    "    def __init__(self, data):\n",
    "        self.data = data\n",
    "        self.index = len(data)\n",
    "\n",
    "    def __iter__(self):   # 表示返回一个迭代器对象\n",
    "        return self\n",
    "\n",
    "    def __next__(self):  # 表示具体怎么迭代\n",
    "        if self.index == 0:\n",
    "            raise StopIteration\n",
    "        self.index = self.index - 1\n",
    "        return self.data[self.index]\n",
    "\n",
    "rev = Reverse('spam')  # rev 就跟列表一样，可以迭代了\n",
    "print(iter(rev))\n",
    "\n",
    "for char in rev:\n",
    "    print(char)"
   ],
   "metadata": {
    "collapsed": false,
    "pycharm": {
     "name": "#%%\n",
     "is_executing": false
    }
   }
  },
  {
   "cell_type": "markdown",
   "source": [
    "## 9.9. 生成器\n",
    "\n",
    "用于创建迭代器"
   ],
   "metadata": {
    "collapsed": false
   }
  },
  {
   "cell_type": "markdown",
   "source": [
    "写法类似于标准的函数，但当它们要返回数据时会使用 yield 语句。 \n",
    "\n",
    "每次在生成器上调用 `next()` 时，它会从上次离开的位置恢复执行（它会记住上次执行语句时的所有数据值）。"
   ],
   "metadata": {
    "collapsed": false
   }
  },
  {
   "cell_type": "code",
   "execution_count": null,
   "outputs": [],
   "source": [
    "def reverse(data):\n",
    "    for i in range(len(data)-1,-1,-1):\n",
    "        yield data[i]\n",
    "        \n",
    "r = reverse(\"golf\")  # 生成器 r\n",
    "for j in r:\n",
    "    print(j)"
   ],
   "metadata": {
    "collapsed": false,
    "pycharm": {
     "name": "#%%\n"
    }
   }
  },
  {
   "cell_type": "markdown",
   "source": [
    "用生成器来完成的操作同样可以用前一节所描述的基于类的迭代器来完成。 \n",
    "\n",
    "但生成器的写法更为紧凑，因为它会自动创建 `__iter__()` 和 `__next__()` 方法。"
   ],
   "metadata": {
    "collapsed": false
   }
  },
  {
   "cell_type": "markdown",
   "source": [
    "另一个关键特性在于局部变量【i】和执行状态【data[i]】会在每次调用之间自动保存。 \n",
    "这使得该函数相比使用 `self.index` 和 `self.data` 这种实例变量的方式更易编写且更为清晰。"
   ],
   "metadata": {
    "collapsed": false
   }
  },
  {
   "cell_type": "markdown",
   "source": [
    "除了会自动创建方法和保存程序状态，当生成器终结时，\n",
    "它们还会自动引发 StopIteration。 这些特性结合在一起，使得创建迭代器能与编写常规函数一样容易。"
   ],
   "metadata": {
    "collapsed": false
   }
  },
  {
   "cell_type": "markdown",
   "source": [
    "## 9.10. 生成器表达式"
   ],
   "metadata": {
    "collapsed": false
   }
  },
  {
   "cell_type": "markdown",
   "source": [
    "简单的生成器可以写成简洁的表达式代码，所用语法类似列表推导式，但外层为圆括号而非方括号。 \n",
    "\n",
    "这种表达式被设计【用于生成器将立即被外层函数所使用】的情况。 \n",
    "\n",
    "生成器表达式相比完整的生成器【更紧凑但较不灵活】，相比等效的列表推导式则更为节省内存"
   ],
   "metadata": {
    "collapsed": false
   }
  },
  {
   "cell_type": "code",
   "execution_count": 11,
   "outputs": [
    {
     "name": "stdout",
     "text": [
      "285\n260\n['f', 'l', 'o', 'g']\n"
     ],
     "output_type": "stream"
    }
   ],
   "source": [
    "print(sum(i*i for i in range(10)))               # sum of squares\n",
    "\n",
    "xvec = [10, 20, 30]\n",
    "yvec = [7, 5, 3]\n",
    "print(sum(x*y for x,y in zip(xvec, yvec)))        # dot product\n",
    "\n",
    "\n",
    "# unique_words = set(word for line in page  for word in line.split())\n",
    "# \n",
    "# valedictorian = max((student.gpa, student.name) for student in graduates)\n",
    "\n",
    "data = 'golf'\n",
    "print(list(data[i] for i in range(len(data)-1, -1, -1)))\n",
    "\n"
   ],
   "metadata": {
    "collapsed": false,
    "pycharm": {
     "name": "#%%\n",
     "is_executing": false
    }
   }
  }
 ],
 "metadata": {
  "kernelspec": {
   "display_name": "Python 3",
   "language": "python",
   "name": "python3"
  },
  "language_info": {
   "codemirror_mode": {
    "name": "ipython",
    "version": 2
   },
   "file_extension": ".py",
   "mimetype": "text/x-python",
   "name": "python",
   "nbconvert_exporter": "python",
   "pygments_lexer": "ipython2",
   "version": "2.7.6"
  },
  "pycharm": {
   "stem_cell": {
    "cell_type": "raw",
    "source": [],
    "metadata": {
     "collapsed": false
    }
   }
  }
 },
 "nbformat": 4,
 "nbformat_minor": 0
}