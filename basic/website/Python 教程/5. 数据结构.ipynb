{
 "cells": [
  {
   "cell_type": "markdown",
   "metadata": {
    "collapsed": true,
    "pycharm": {
     "name": "#%% md\n"
    }
   },
   "source": [
    "# 5. 数据结构\n",
    "[https://docs.python.org/zh-cn/3.8/tutorial/datastructures.html](https://docs.python.org/zh-cn/3.8/tutorial/datastructures.html)"
   ]
  },
  {
   "cell_type": "markdown",
   "source": [
    "列表 append 和 extend 区别:\n",
    "\n",
    "- list.append(x)  在列表的末尾添加一个元素。相当于 a[len(a):] = [x] \n",
    "- ist.extend(iterable) 使用可迭代对象中的所有元素来扩展列表。相当于 a[len(a):] = iterable 。"
   ],
   "metadata": {
    "collapsed": false
   }
  },
  {
   "cell_type": "code",
   "execution_count": 1,
   "outputs": [
    {
     "name": "stdout",
     "text": [
      "[1, 2, 3, 4]\n[1, 2, 3, 4, 5, 6, 7]\n"
     ],
     "output_type": "stream"
    }
   ],
   "source": [
    "lst = [1,2,3]\n",
    "lst.append(4)\n",
    "print(lst)\n",
    "lst.extend([5,6,7])\n",
    "print(lst)"
   ],
   "metadata": {
    "collapsed": false,
    "pycharm": {
     "name": "#%%\n",
     "is_executing": false
    }
   }
  },
  {
   "cell_type": "markdown",
   "source": [
    "列表其他方法\n"
   ],
   "metadata": {
    "collapsed": false
   }
  },
  {
   "cell_type": "code",
   "execution_count": 11,
   "outputs": [
    {
     "name": "stdout",
     "text": [
      "insert-------->\n['aaa', 'orange', 'aaa', 'apple', 'pear', 'banana', 'kiwi', 'apple', 'banana']\nremove-------->\n['orange', 'aaa', 'apple', 'pear', 'banana', 'kiwi', 'apple', 'banana']\npop-------->\naaa\nbanana\n['orange', 'apple', 'pear', 'banana', 'kiwi', 'apple']\nindex-------->\n1 1\ncount-------->\n2\nsort-------->\n['pear', 'orange', 'kiwi', 'banana', 'apple', 'apple']\nreverse-------->\n['apple', 'apple', 'banana', 'kiwi', 'orange', 'pear']\ncopy-------->\n['apple', 'apple', 'banana', 'kiwi', 'orange', 'pear']\n['aaa', 'apple', 'banana', 'kiwi', 'orange', 'pear']\n"
     ],
     "output_type": "stream"
    }
   ],
   "source": [
    "fruits = ['orange', 'apple', 'pear', 'banana', 'kiwi', 'apple', 'banana']\n",
    "\n",
    "print(\"insert\" + \"-------->\")\n",
    "fruits.insert(0,'aaa')\n",
    "fruits.insert(2,'aaa')\n",
    "print(fruits)\n",
    "\n",
    "print(\"remove\" + \"-------->\")\n",
    "# 移除列表中第一个值为 x 的元素。如果没有这样的元素，则抛出 ValueError 异常\n",
    "fruits.remove('aaa')\n",
    "print(fruits)\n",
    "\n",
    "print(\"pop\" + \"-------->\")\n",
    "# 删除列表中给定位置的元素并返回它。如果没有给定位置，a.pop() 将会删除并返回列表中的最后一个元素\n",
    "a = fruits.pop(1)\n",
    "b = fruits.pop()\n",
    "print(a)\n",
    "print(b)\n",
    "print(fruits)\n",
    "\n",
    "print(\"index\" + \"-------->\")\n",
    "# 返回列表中第一个值为 x 的元素的从零开始的索引。如果没有这样的元素将会抛出 ValueError 异常\n",
    "i1 = fruits.index('apple')\n",
    "# 用于将搜索限制为列表的特定子序列。返回的索引是相对于整个序列的开始计算的，而不是 start 参数。\n",
    "i2 = fruits.index('apple',1,4)\n",
    "print(i1,i2)\n",
    "\n",
    "print(\"count\" + \"-------->\")\n",
    "c = fruits.count('apple')\n",
    "print(c)\n",
    "\n",
    "print(\"sort\" + \"-------->\")\n",
    "fruits.sort(reverse=True)\n",
    "print(fruits)\n",
    "\n",
    "print(\"reverse\" + \"-------->\")\n",
    "fruits.reverse()\n",
    "print(fruits)\n",
    "\n",
    "print(\"copy\" + \"-------->\")\n",
    "cf = fruits.copy()\n",
    "cf[0] = 'aaa'\n",
    "print(fruits)\n",
    "print(cf)\n"
   ],
   "metadata": {
    "collapsed": false,
    "pycharm": {
     "name": "#%%\n",
     "is_executing": false
    }
   }
  },
  {
   "cell_type": "markdown",
   "source": [
    "### 5.1.1. 列表作为栈使用"
   ],
   "metadata": {
    "collapsed": false
   }
  },
  {
   "cell_type": "code",
   "execution_count": 12,
   "outputs": [
    {
     "name": "stdout",
     "text": [
      "[1, 2, 3]\n3\n2\n1\n[]\n"
     ],
     "output_type": "stream"
    }
   ],
   "source": [
    "lst = []\n",
    "lst.append(1)\n",
    "lst.append(2)\n",
    "lst.append(3)\n",
    "print(lst)\n",
    "\n",
    "print(lst.pop())\n",
    "print(lst.pop())\n",
    "print(lst.pop())\n",
    "print(lst)"
   ],
   "metadata": {
    "collapsed": false,
    "pycharm": {
     "name": "#%%\n",
     "is_executing": false
    }
   }
  },
  {
   "cell_type": "markdown",
   "source": [
    "### 5.1.2. 列表作为队列使用\n",
    "\n",
    "列表用作这个目的相当低效\n",
    "\n",
    "若要实现一个队列，可使用 `collections.deque`，\n",
    "它被设计成可以快速地从两端添加或弹出元素"
   ],
   "metadata": {
    "collapsed": false
   }
  },
  {
   "cell_type": "code",
   "execution_count": 13,
   "outputs": [
    {
     "name": "stdout",
     "text": [
      "deque(['a', 'b', 'c', 'd', 'e'])\na\nb\n"
     ],
     "output_type": "stream"
    }
   ],
   "source": [
    "from collections import deque\n",
    "queue = deque(['a','b','c'])\n",
    "queue.append('d')\n",
    "queue.append('e')\n",
    "print(queue)\n",
    "\n",
    "print(queue.popleft())\n",
    "print(queue.popleft())"
   ],
   "metadata": {
    "collapsed": false,
    "pycharm": {
     "name": "#%%\n",
     "is_executing": false
    }
   }
  },
  {
   "cell_type": "markdown",
   "source": [
    "### 5.1.3. 列表推导式\n",
    "\n",
    "列表推导式的结构是由一对方括号所包含的以下内容：\n",
    "\n",
    "- 一个表达式，\n",
    "- 后面跟一个 for 子句，\n",
    "- 然后是零个或多个 for 或 if 子句。 \n",
    "\n",
    "其结果将是一个新列表"
   ],
   "metadata": {
    "collapsed": false
   }
  },
  {
   "cell_type": "code",
   "execution_count": 15,
   "outputs": [
    {
     "name": "stdout",
     "text": [
      "[(1, 3), (1, 2), (2, 3), (2, 1), (3, 1), (3, 2)]\n['3.1', '3.14', '3.142', '3.1416', '3.14159']\n"
     ],
     "output_type": "stream"
    }
   ],
   "source": [
    "tmp1 = [(i,j) for i in [1,2,3] for j in [3,1,2] if i!=j]\n",
    "print(tmp1)\n",
    "\n",
    "from math import pi\n",
    "tmp2 = [str(round(pi, i)) for i in range(1, 6)]\n",
    "print(tmp2)"
   ],
   "metadata": {
    "collapsed": false,
    "pycharm": {
     "name": "#%%\n",
     "is_executing": false
    }
   }
  },
  {
   "cell_type": "markdown",
   "source": [
    "### 5.1.4. 嵌套的列表推导式"
   ],
   "metadata": {
    "collapsed": false
   }
  },
  {
   "cell_type": "code",
   "execution_count": 17,
   "outputs": [
    {
     "name": "stdout",
     "text": [
      "[[1, 5, 9], [2, 6, 10], [3, 7, 11], [4, 8, 12]]\n[(1, 5, 9), (2, 6, 10), (3, 7, 11), (4, 8, 12)]\n"
     ],
     "output_type": "stream"
    }
   ],
   "source": [
    "matrix = [\n",
    "    [1, 2, 3, 4],\n",
    "    [5, 6, 7, 8],\n",
    "    [9, 10, 11, 12],\n",
    "]\n",
    "\n",
    "t1 = [[row[i] for row in matrix] for i in range(4)]\n",
    "print(t1)\n",
    "\n",
    "t2 = list(zip(*matrix))\n",
    "print(t2)"
   ],
   "metadata": {
    "collapsed": false,
    "pycharm": {
     "name": "#%%\n",
     "is_executing": false
    }
   }
  },
  {
   "cell_type": "markdown",
   "source": [
    "## 5.2. del 语句"
   ],
   "metadata": {
    "collapsed": false
   }
  },
  {
   "cell_type": "code",
   "execution_count": 18,
   "outputs": [
    {
     "name": "stdout",
     "text": [
      "[1, 66.25, 333, 333, 1234.5]\n[1, 66.25, 1234.5]\n[]\n"
     ],
     "output_type": "stream"
    },
    {
     "traceback": [
      "\u001b[1;31m---------------------------------------------------------------------------\u001b[0m",
      "\u001b[1;31mNameError\u001b[0m                                 Traceback (most recent call last)",
      "Input \u001b[1;32mIn [18]\u001b[0m, in \u001b[0;36m<cell line: 13>\u001b[1;34m()\u001b[0m\n\u001b[0;32m     11\u001b[0m \u001b[38;5;66;03m# del 也可以删除整个变量\u001b[39;00m\n\u001b[0;32m     12\u001b[0m \u001b[38;5;28;01mdel\u001b[39;00m a\n\u001b[1;32m---> 13\u001b[0m \u001b[38;5;28mprint\u001b[39m(\u001b[43ma\u001b[49m)\n",
      "\u001b[1;31mNameError\u001b[0m: name 'a' is not defined"
     ],
     "ename": "NameError",
     "evalue": "name 'a' is not defined",
     "output_type": "error"
    }
   ],
   "source": [
    "a = [-1, 1, 66.25, 333, 333, 1234.5]\n",
    "del a[0]  # 索引\n",
    "print(a)\n",
    "\n",
    "del a[2:4]  # 切片\n",
    "print(a)\n",
    "\n",
    "del a[:] # 清空\n",
    "print(a) \n",
    "\n",
    "# del 也可以删除整个变量\n",
    "del a\n",
    "print(a)"
   ],
   "metadata": {
    "collapsed": false,
    "pycharm": {
     "name": "#%%\n",
     "is_executing": false
    }
   }
  },
  {
   "cell_type": "markdown",
   "source": [
    "## 5.3. 元组和序列\n",
    "\n",
    "一个元组由几个被逗号隔开的值组成\n",
    "\n",
    "- 索引\n",
    "- 切片\n",
    "- 可被嵌套\n",
    "- 不可变\n",
    "- 可以创建包含可变对象的元组"
   ],
   "metadata": {
    "collapsed": false
   }
  },
  {
   "cell_type": "code",
   "execution_count": 23,
   "outputs": [
    {
     "name": "stdout",
     "text": [
      "<class 'tuple'>\n('a', 'b', 'c')\na\n('a', 'b')\n<class 'tuple'>\n(('a', 'b', 'c'), 'd')\n(['a'], ['b'])\n"
     ],
     "output_type": "stream"
    }
   ],
   "source": [
    "t1 = 'a','b','c'\n",
    "print(t1.__class__)\n",
    "print(t1)\n",
    "print(t1[0])\n",
    "print(t1[0:2])\n",
    "\n",
    "t2 = t1,'d'\n",
    "print(t2.__class__)\n",
    "print(t2)\n",
    "\n",
    "# t2[0] = 'aa'\n",
    "# print(t2)\n",
    "\n",
    "t3 = (['a'],['b'])\n",
    "print(t3)"
   ],
   "metadata": {
    "collapsed": false,
    "pycharm": {
     "name": "#%%\n",
     "is_executing": false
    }
   }
  },
  {
   "cell_type": "markdown",
   "source": [
    "元组和列表的区别\n",
    "\n",
    "- 元组是 immutable ，其序列通常包含不同种类的元素，\n",
    "并且通过解包或者索引来访问（如果是 namedtuples 的话甚至还可以通过属性访问）。\n",
    "\n",
    "- 列表是 mutable ，并且列表中的元素一般是同种类型的，并且通过迭代访问。\n"
   ],
   "metadata": {
    "collapsed": false
   }
  },
  {
   "cell_type": "markdown",
   "source": [
    "构造包含0个或1个元素的元组"
   ],
   "metadata": {
    "collapsed": false
   }
  },
  {
   "cell_type": "code",
   "execution_count": 25,
   "outputs": [
    {
     "name": "stdout",
     "text": [
      "()\n0\n('a',)\n1\n"
     ],
     "output_type": "stream"
    }
   ],
   "source": [
    "t1 = ()\n",
    "t2 = 'a',\n",
    "print(t1)\n",
    "print(len(t1))\n",
    "print(t2)\n",
    "print(len(t2))"
   ],
   "metadata": {
    "collapsed": false,
    "pycharm": {
     "name": "#%%\n",
     "is_executing": false
    }
   }
  },
  {
   "cell_type": "markdown",
   "source": [
    "元组打包和序列解包\n",
    "\n",
    "解包操作的等号右侧可以是任何序列。\n",
    "\n",
    "序列解包要求等号左侧的变量数与右侧序列里所含的元素数相同"
   ],
   "metadata": {
    "collapsed": false
   }
  },
  {
   "cell_type": "code",
   "execution_count": 26,
   "outputs": [
    {
     "name": "stdout",
     "text": [
      "('a', 'b', 'c')\na b c\n"
     ],
     "output_type": "stream"
    }
   ],
   "source": [
    "t1 = 'a','b','c'\n",
    "print(t1)\n",
    "a,b,c = t1\n",
    "print(a,b,c)"
   ],
   "metadata": {
    "collapsed": false,
    "pycharm": {
     "name": "#%%\n",
     "is_executing": false
    }
   }
  },
  {
   "cell_type": "code",
   "execution_count": 27,
   "outputs": [
    {
     "name": "stdout",
     "text": [
      "a b c\n"
     ],
     "output_type": "stream"
    }
   ],
   "source": [
    "l = ['a','b','c']\n",
    "a,b,c = l\n",
    "print(a,b,c)"
   ],
   "metadata": {
    "collapsed": false,
    "pycharm": {
     "name": "#%%\n",
     "is_executing": false
    }
   }
  },
  {
   "cell_type": "code",
   "execution_count": 28,
   "outputs": [
    {
     "name": "stdout",
     "text": [
      "a\nb\nc\n"
     ],
     "output_type": "stream"
    }
   ],
   "source": [
    "t1 = 'a','b','c'\n",
    "for i in t1:\n",
    "    print(i)"
   ],
   "metadata": {
    "collapsed": false,
    "pycharm": {
     "name": "#%%\n",
     "is_executing": false
    }
   }
  },
  {
   "cell_type": "markdown",
   "source": [
    "## 5.4. 集合\n"
   ],
   "metadata": {
    "collapsed": false
   }
  },
  {
   "cell_type": "markdown",
   "source": [
    "集合是由不重复元素组成的无序的集。\n",
    "\n",
    "花括号或 set() 函数可以用来创建集合。\n",
    "\n",
    "它的基本用法包括\n",
    "\n",
    "- 成员检测\n",
    "- 消除重复元素。\n",
    "\n",
    "注意：要创建一个空集合你只能用 set() 而不能用 {}，因为后者是创建一个空字典"
   ],
   "metadata": {
    "collapsed": false
   }
  },
  {
   "cell_type": "code",
   "execution_count": 31,
   "outputs": [
    {
     "name": "stdout",
     "text": [
      "{'c', 'a', 'b'}\nset()\n{'c', 'a', 'b'}\n{'c', 'a', 'b'}\ntrue\n{'c', 'a', 'b'}\n"
     ],
     "output_type": "stream"
    }
   ],
   "source": [
    "s1 = {'a','b','c'}\n",
    "s2 = set('abc')\n",
    "s3 = set()\n",
    "s4 = {'a','b','c','a'}\n",
    "print(s1)\n",
    "print(s2)\n",
    "print(s3)\n",
    "print(s4)\n",
    "\n",
    "if 'a' in s1:\n",
    "    print('true')\n",
    "\n",
    "l = ['a','b','c','a']\n",
    "print(set(l))"
   ],
   "metadata": {
    "collapsed": false,
    "pycharm": {
     "name": "#%%\n",
     "is_executing": false
    }
   }
  },
  {
   "cell_type": "markdown",
   "source": [
    "集合对象也支持像 联合，交集，差集，对称差分等数学运算。"
   ],
   "metadata": {
    "collapsed": false,
    "pycharm": {
     "name": "#%% md\n"
    }
   }
  },
  {
   "cell_type": "code",
   "execution_count": 32,
   "outputs": [
    {
     "name": "stdout",
     "text": [
      "{'c', 'b'}\n{'a', 'b', 'd', 'c', 'e'}\n{'a'}\n{'c', 'b', 'e', 'd'}\n"
     ],
     "output_type": "stream"
    }
   ],
   "source": [
    "s1 = {'a','b','c'}\n",
    "s2 = {'a','d','e'}\n",
    "print(s1-s2)  # letters in a but not in b\n",
    "print(s1|s2)  # letters in a or b or both\n",
    "print(s1&s2)  # letters in both a and b\n",
    "print(s1^s2)  # letters in a or b but not both\n"
   ],
   "metadata": {
    "collapsed": false,
    "pycharm": {
     "name": "#%%\n",
     "is_executing": false
    }
   }
  },
  {
   "cell_type": "markdown",
   "source": [
    "集合也支持推导式形式"
   ],
   "metadata": {
    "collapsed": false
   }
  },
  {
   "cell_type": "code",
   "execution_count": 35,
   "outputs": [
    {
     "name": "stdout",
     "text": [
      "{0, 2, 3, 4, 5, 6, 7, 8, 9}\n"
     ],
     "output_type": "stream"
    }
   ],
   "source": [
    "s = {i for i in range(10) if i!=1}\n",
    "print(s)"
   ],
   "metadata": {
    "collapsed": false,
    "pycharm": {
     "name": "#%%\n",
     "is_executing": false
    }
   }
  },
  {
   "cell_type": "markdown",
   "source": [
    "## 5.5. 字典"
   ],
   "metadata": {
    "collapsed": false
   }
  },
  {
   "cell_type": "markdown",
   "source": [
    "一个 `键: 值` 对的集合，键必须是唯一的（在一个字典中）。\n",
    "\n",
    "一对花括号可以创建一个空字典：{} "
   ],
   "metadata": {
    "collapsed": false,
    "pycharm": {
     "name": "#%% md\n"
    }
   }
  },
  {
   "cell_type": "markdown",
   "source": [
    "键可以是任意【不可变类型】，通常是字符串或数字。\n",
    "\n",
    "如果一个元组只包含字符串、数字或元组，那么这个元组也可以用作键。\n",
    "\n",
    "但如果元组直接或间接地包含了可变对象，那么它就不能用作键。\n",
    "\n",
    "列表不能用作键，因为列表可以通过索引、切片或 append() 和 extend() 之类的方法来改变。"
   ],
   "metadata": {
    "collapsed": false,
    "pycharm": {
     "name": "#%% md\n"
    }
   }
  },
  {
   "cell_type": "code",
   "execution_count": 38,
   "outputs": [
    {
     "traceback": [
      "\u001b[1;31m---------------------------------------------------------------------------\u001b[0m",
      "\u001b[1;31mTypeError\u001b[0m                                 Traceback (most recent call last)",
      "Input \u001b[1;32mIn [38]\u001b[0m, in \u001b[0;36m<cell line: 5>\u001b[1;34m()\u001b[0m\n\u001b[0;32m      3\u001b[0m d3 \u001b[38;5;241m=\u001b[39m {\u001b[38;5;124m'\u001b[39m\u001b[38;5;124ma\u001b[39m\u001b[38;5;124m'\u001b[39m:\u001b[38;5;124m'\u001b[39m\u001b[38;5;124ma\u001b[39m\u001b[38;5;124m'\u001b[39m}\n\u001b[0;32m      4\u001b[0m d4 \u001b[38;5;241m=\u001b[39m {(\u001b[38;5;241m1\u001b[39m,\u001b[38;5;124m'\u001b[39m\u001b[38;5;124ma\u001b[39m\u001b[38;5;124m'\u001b[39m):\u001b[38;5;124m'\u001b[39m\u001b[38;5;124ma\u001b[39m\u001b[38;5;124m'\u001b[39m}\n\u001b[1;32m----> 5\u001b[0m d5 \u001b[38;5;241m=\u001b[39m {(\u001b[38;5;241m1\u001b[39m,[\u001b[38;5;124m'\u001b[39m\u001b[38;5;124ma\u001b[39m\u001b[38;5;124m'\u001b[39m]):\u001b[38;5;124m'\u001b[39m\u001b[38;5;124ma\u001b[39m\u001b[38;5;124m'\u001b[39m}\n\u001b[0;32m      6\u001b[0m \u001b[38;5;66;03m# d6 = {[1]:'a'} # TypeError: unhashable type: 'list'\u001b[39;00m\n\u001b[0;32m      7\u001b[0m \u001b[38;5;28mprint\u001b[39m(d1)\n",
      "\u001b[1;31mTypeError\u001b[0m: unhashable type: 'list'"
     ],
     "ename": "TypeError",
     "evalue": "unhashable type: 'list'",
     "output_type": "error"
    }
   ],
   "source": [
    "d1 = {}\n",
    "d2 = {1:'a'}\n",
    "d3 = {'a':'a'}\n",
    "d4 = {(1,'a'):'a'}\n",
    "d5 = {(1,['a']):'a'} # TypeError: unhashable type: 'list'\n",
    "# d6 = {[1]:'a'} # TypeError: unhashable type: 'list'\n",
    "print(d1)\n",
    "print(d2)\n",
    "print(d3)\n",
    "print(d4)\n",
    "# print(d5)\n",
    "# print(d6)"
   ],
   "metadata": {
    "collapsed": false,
    "pycharm": {
     "name": "#%%\n",
     "is_executing": false
    }
   }
  },
  {
   "cell_type": "markdown",
   "source": [
    "主要的操作是\n",
    "\n",
    "- 使用关键字存储和解析值。\n",
    "- 也可以用 del 来删除一个键值对。\n",
    "- 如果你使用了一个已经存在的关键字来存储值，那么之前与这个关键字关联的值就会被遗忘。\n",
    "- 用一个不存在的键来取值则会报错。\n",
    "- 对一个字典执行 list(d) 将返回包含该字典中所有键的列表，按插入次序排列 (如需其他排序，则要使用 sorted(d))。\n",
    "- 要检查字典中是否存在一个特定键，可使用 in 关键字。"
   ],
   "metadata": {
    "collapsed": false
   }
  },
  {
   "cell_type": "code",
   "execution_count": 42,
   "outputs": [
    {
     "name": "stdout",
     "text": [
      "a\n{1: 'a', 2: 'b'}\n{1: 'aa', 2: 'b'}\n[1, 2]\n[2, 1]\nTrue\n"
     ],
     "output_type": "stream"
    }
   ],
   "source": [
    "d = {1:'a',2:'b',3:'c'}\n",
    "print(d[1])\n",
    "\n",
    "del d[3]\n",
    "print(d)\n",
    "\n",
    "d[1] = 'aa'\n",
    "print(d)\n",
    "\n",
    "# print(d[3]) # KeyError: 3\n",
    "\n",
    "print(list(d))\n",
    "print(sorted(list(d),reverse=True))\n",
    "\n",
    "print(1 in d)"
   ],
   "metadata": {
    "collapsed": false,
    "pycharm": {
     "name": "#%%\n",
     "is_executing": false
    }
   }
  },
  {
   "cell_type": "markdown",
   "source": [
    "dict() 构造函数可以直接从键值对序列里创建字典。"
   ],
   "metadata": {
    "collapsed": false
   }
  },
  {
   "cell_type": "code",
   "execution_count": 43,
   "outputs": [
    {
     "name": "stdout",
     "text": [
      "{'sape': 4139, 'guido': 4127, 'jack': 4098}\n"
     ],
     "output_type": "stream"
    }
   ],
   "source": [
    "print(dict([('sape', 4139), ('guido', 4127), ('jack', 4098)]))"
   ],
   "metadata": {
    "collapsed": false,
    "pycharm": {
     "name": "#%%\n",
     "is_executing": false
    }
   }
  },
  {
   "cell_type": "markdown",
   "source": [
    "字典推导式可以从任意的键值表达式中创建字典"
   ],
   "metadata": {
    "collapsed": false
   }
  },
  {
   "cell_type": "code",
   "execution_count": 45,
   "outputs": [
    {
     "name": "stdout",
     "text": [
      "{2: 4, 4: 16, 6: 36}\n"
     ],
     "output_type": "stream"
    }
   ],
   "source": [
    "print({x: x**2 for x in (2, 4, 6)})"
   ],
   "metadata": {
    "collapsed": false,
    "pycharm": {
     "name": "#%%\n",
     "is_executing": false
    }
   }
  },
  {
   "cell_type": "markdown",
   "source": [
    "当关键字是简单字符串时，有时直接通过关键字参数来指定键值对更方便"
   ],
   "metadata": {
    "collapsed": false
   }
  },
  {
   "cell_type": "code",
   "execution_count": 44,
   "outputs": [
    {
     "name": "stdout",
     "text": [
      "{'sape': 4139, 'guido': 4127, 'jack': 4098}\n"
     ],
     "output_type": "stream"
    }
   ],
   "source": [
    "print(dict(sape=4139, guido=4127, jack=4098))"
   ],
   "metadata": {
    "collapsed": false,
    "pycharm": {
     "name": "#%%\n",
     "is_executing": false
    }
   }
  },
  {
   "cell_type": "markdown",
   "source": [
    "## 5.6. 循环的技巧"
   ],
   "metadata": {
    "collapsed": false
   }
  },
  {
   "cell_type": "markdown",
   "source": [
    "字典遍历"
   ],
   "metadata": {
    "collapsed": false,
    "pycharm": {
     "name": "#%% md\n"
    }
   }
  },
  {
   "cell_type": "code",
   "execution_count": 48,
   "outputs": [
    {
     "name": "stdout",
     "text": [
      "1 a\n2 b\n3 c\n-----------\n1 a\n2 b\n3 c\n-----------\na\nb\nc\n"
     ],
     "output_type": "stream"
    }
   ],
   "source": [
    "d = {1:'a',2:'b',3:'c'}\n",
    "\n",
    "for k,v in d.items():\n",
    "    print(k,v)\n",
    "    \n",
    "print(\"-----------\")\n",
    "for k in d.keys():\n",
    "    print(k,d[k])\n",
    "    \n",
    "print(\"-----------\")\n",
    "for v in d.values():\n",
    "    print(v)"
   ],
   "metadata": {
    "collapsed": false,
    "pycharm": {
     "name": "#%%\n",
     "is_executing": false
    }
   }
  },
  {
   "cell_type": "markdown",
   "source": [
    "序列遍历"
   ],
   "metadata": {
    "collapsed": false
   }
  },
  {
   "cell_type": "code",
   "execution_count": 52,
   "outputs": [
    {
     "name": "stdout",
     "text": [
      "0 a\n1 b\n-----------\n0 a\n1 b\n-----------\n0 a\n1 b\n-----------\n0 a\n1 b\n-----------\n0 1\n1 2\n"
     ],
     "output_type": "stream"
    }
   ],
   "source": [
    "# 列表\n",
    "for index,item in enumerate(['a','b']):\n",
    "    print(index,item)\n",
    "\n",
    "print(\"-----------\")\n",
    "# 元组\n",
    "for index,item in enumerate(('a','b')):\n",
    "    print(index,item)\n",
    "\n",
    "print(\"-----------\")\n",
    "# 集合\n",
    "for index,item in enumerate({'a','b'}):\n",
    "    print(index,item)\n",
    "\n",
    "print(\"-----------\")\n",
    "# 字符串\n",
    "for index,item in enumerate('ab'):\n",
    "    print(index,item)\n",
    "\n",
    "print(\"-----------\")\n",
    "# 字典\n",
    "for index,item in enumerate({1:'a',2:'b'}):\n",
    "    print(index,item)"
   ],
   "metadata": {
    "collapsed": false,
    "pycharm": {
     "name": "#%%\n",
     "is_executing": false
    }
   }
  },
  {
   "cell_type": "markdown",
   "source": [
    "当同时在两个或更多序列中循环时，可以用 zip() 函数将其内元素一一匹配。"
   ],
   "metadata": {
    "collapsed": false
   }
  },
  {
   "cell_type": "code",
   "execution_count": 53,
   "outputs": [
    {
     "name": "stdout",
     "text": [
      "<zip object at 0x0000015D08246F40>\nWhat is your name?  It is lancelot.\nWhat is your quest?  It is the holy grail.\nWhat is your favorite color?  It is blue.\n"
     ],
     "output_type": "stream"
    }
   ],
   "source": [
    "questions = ['name', 'quest', 'favorite color']\n",
    "answers = ['lancelot', 'the holy grail', 'blue']\n",
    "print(zip(questions, answers))\n",
    "\n",
    "for q, a in zip(questions, answers):\n",
    "    print('What is your {0}?  It is {1}.'.format(q, a))\n"
   ],
   "metadata": {
    "collapsed": false,
    "pycharm": {
     "name": "#%%\n",
     "is_executing": false
    }
   }
  },
  {
   "cell_type": "markdown",
   "source": [
    "如果要逆向循环一个序列，可以先正向定位序列，然后调用 reversed() 函数"
   ],
   "metadata": {
    "collapsed": false
   }
  },
  {
   "cell_type": "code",
   "execution_count": null,
   "outputs": [],
   "source": [
    "for i in reversed(range(1, 10, 2)):\n",
    "    print(i)"
   ],
   "metadata": {
    "collapsed": false,
    "pycharm": {
     "name": "#%%\n"
    }
   }
  },
  {
   "cell_type": "markdown",
   "source": [
    "如果要按某个指定顺序循环一个序列，可以用 sorted() 函数，\n",
    "它可以在不改动原序列的基础上返回一个新的排好序的序列"
   ],
   "metadata": {
    "collapsed": false
   }
  },
  {
   "cell_type": "code",
   "execution_count": null,
   "outputs": [],
   "source": [
    "basket = ['apple', 'orange', 'apple', 'pear', 'orange', 'banana']\n",
    "for f in sorted(set(basket)):\n",
    "    print(f)"
   ],
   "metadata": {
    "collapsed": false,
    "pycharm": {
     "name": "#%%\n"
    }
   }
  },
  {
   "cell_type": "markdown",
   "source": [
    "有时可能会想在循环时修改列表内容，一般来说改为创建一个新列表是比较简单且安全的"
   ],
   "metadata": {
    "collapsed": false,
    "pycharm": {
     "name": "#%% md\n"
    }
   }
  },
  {
   "cell_type": "code",
   "execution_count": null,
   "outputs": [],
   "source": [
    "import math\n",
    "raw_data = [56.2, float('NaN'), 51.7, 55.3, 52.5, float('NaN'), 47.8]\n",
    "filtered_data = []\n",
    "for value in raw_data:\n",
    "    if not math.isnan(value):\n",
    "        filtered_data.append(value)\n"
   ],
   "metadata": {
    "collapsed": false,
    "pycharm": {
     "name": "#%%\n"
    }
   }
  },
  {
   "cell_type": "markdown",
   "source": [
    "## 5.7. 深入条件控制"
   ],
   "metadata": {
    "collapsed": false
   }
  },
  {
   "cell_type": "markdown",
   "source": [
    "while 和 if 条件句中可以使用任意操作，而不仅仅是比较操作。"
   ],
   "metadata": {
    "collapsed": false
   }
  },
  {
   "cell_type": "code",
   "source": [
    "if 1+2:\n",
    "    print(\"---\")"
   ],
   "metadata": {
    "collapsed": false,
    "pycharm": {
     "name": "#%% \n",
     "is_executing": false
    }
   },
   "execution_count": 2,
   "outputs": [
    {
     "name": "stdout",
     "text": [
      "---\n"
     ],
     "output_type": "stream"
    }
   ]
  },
  {
   "cell_type": "markdown",
   "source": [
    "比较操作符 in 和 not in 校验一个值是否在（或不在）一个序列里。\n",
    "\n",
    "操作符 is 和 is not 比较两个对象是不是同一个对象，这只对像列表这样的可变对象比较重要。\n",
    "\n",
    "所有的比较操作符都有相同的优先级，且这个优先级比数值运算符低。"
   ],
   "metadata": {
    "collapsed": false
   }
  },
  {
   "cell_type": "markdown",
   "source": [
    "比较操作可以传递。例如 `a < b == c` 会校验是否 a 小于 b 并且 b 等于 c。"
   ],
   "metadata": {
    "collapsed": false
   }
  },
  {
   "cell_type": "markdown",
   "source": [
    "比较操作可以通过布尔运算符 and 和 or 来组合，\n",
    "\n",
    "并且比较操作（或其他任何布尔运算）的结果都可以用 not 来取反。\n",
    "\n",
    "这些操作符的优先级低于比较操作符；在它们之中，not 优先级最高， or 优先级最低，\n",
    "\n",
    "因此 `A and not B or C` 等价于 (A and (not B)) or C。和之前一样，\n",
    "\n",
    "你也可以在这种式子里使用圆括号。"
   ],
   "metadata": {
    "collapsed": false
   }
  },
  {
   "cell_type": "markdown",
   "source": [
    "布尔运算符 and 和 or 也被称为 短路 运算符：\n",
    "\n",
    "它们的参数从左至右解析，一旦可以确定结果解析就会停止。\n",
    "\n",
    "例如，如果 A 和 C 为真而 B 为假，那么 `A and B and C` 不会解析 C。\n",
    "\n",
    "当用作普通值而非布尔值时，短路操作符的返回值通常是最后一个变量。"
   ],
   "metadata": {
    "collapsed": false
   }
  },
  {
   "cell_type": "code",
   "execution_count": 11,
   "outputs": [
    {
     "name": "stdout",
     "text": [
      "false\n~~~~~~~~~~~~~~\ntrue\n~~~~~~~~~~~~~~\n\na\n"
     ],
     "output_type": "stream"
    }
   ],
   "source": [
    "if '' and 'a':\n",
    "    print(\"true\")\n",
    "else:\n",
    "    print(\"false\")\n",
    "    \n",
    "print(\"~~~~~~~~~~~~~~\") \n",
    "if 'a' or '':\n",
    "    print(\"true\")\n",
    "else:\n",
    "    print(\"false\")  \n",
    "\n",
    "print(\"~~~~~~~~~~~~~~\") \n",
    "print('' and 'a')\n",
    "print('a' or '' or 'b')"
   ],
   "metadata": {
    "collapsed": false,
    "pycharm": {
     "name": "#%%\n",
     "is_executing": false
    }
   }
  },
  {
   "cell_type": "markdown",
   "source": [
    "把比较操作或者逻辑表达式的结果赋值给一个变量，例如"
   ],
   "metadata": {
    "collapsed": false
   }
  },
  {
   "cell_type": "code",
   "execution_count": 5,
   "outputs": [
    {
     "name": "stdout",
     "text": [
      "Trondheim\nHammer Dance\n"
     ],
     "output_type": "stream"
    }
   ],
   "source": [
    "string1, string2, string3 = '', 'Trondheim', 'Hammer Dance'\n",
    "non_null = string1 or string2 or string3\n",
    "print(non_null)\n",
    "\n",
    "non_null2 = string3 or string2 or string1  \n",
    "print(non_null2)"
   ],
   "metadata": {
    "collapsed": false,
    "pycharm": {
     "name": "#%%\n",
     "is_executing": false
    }
   }
  },
  {
   "cell_type": "markdown",
   "source": [
    "## 5.8. 比较序列和其他类型"
   ],
   "metadata": {
    "collapsed": false
   }
  },
  {
   "cell_type": "markdown",
   "source": [
    "序列对象通常可以与相同序列类型的其他对象比较。 \n",
    "\n",
    "这种比较使用 字典式 顺序：\n",
    "\n",
    "- 首先比较开头的两个对应元素，如果两者不相等则比较结果就由此确定；\n",
    "\n",
    "- 如果两者相等则比较之后的两个元素，以此类推，直到有一个序列被耗尽。 \n",
    "\n",
    "- 如果要比较的两个元素本身又是相同类型的序列，则会递归地执行字典式顺序比较。 \n",
    "\n",
    "如果两个序列中所有的对应元素都相等，则两个序列也将被视为相等。 \n",
    "\n",
    "如果一个序列是另一个的初始子序列，则较短的序列就被视为较小（较少）。 \n",
    "\n",
    "对于字符串来说，字典式顺序是使用 Unicode 码位序号对单个字符排序。 \n",
    "\n",
    "下面是一些相同类型序列之间比较的例子:\n",
    "\n",
    "```\n",
    "(1, 2, 3)              < (1, 2, 4)\n",
    "[1, 2, 3]              < [1, 2, 4]\n",
    "'ABC' < 'C' < 'Pascal' < 'Python'\n",
    "(1, 2, 3, 4)           < (1, 2, 4)\n",
    "(1, 2)                 < (1, 2, -1)\n",
    "(1, 2, 3)             == (1.0, 2.0, 3.0)\n",
    "(1, 2, ('aa', 'ab'))   < (1, 2, ('abc', 'a'), 4)\n",
    "```\n",
    "\n",
    "注意对不同类型对象来说，只要待比较对象提供了合适的比较方法，就可以使用 < 和 > 来比较。\n",
    "\n",
    "例如，混合数值类型是通过他们的数值进行比较的，所以 0 等于 0.0，等等。\n",
    "\n",
    "否则，解释器将抛出一个 TypeError 异常，而不是随便给出一个结果。\n"
   ],
   "metadata": {
    "collapsed": false,
    "pycharm": {
     "name": "#%% md\n"
    }
   }
  }
 ],
 "metadata": {
  "kernelspec": {
   "display_name": "Python 3",
   "language": "python",
   "name": "python3"
  },
  "language_info": {
   "codemirror_mode": {
    "name": "ipython",
    "version": 2
   },
   "file_extension": ".py",
   "mimetype": "text/x-python",
   "name": "python",
   "nbconvert_exporter": "python",
   "pygments_lexer": "ipython2",
   "version": "2.7.6"
  },
  "pycharm": {
   "stem_cell": {
    "cell_type": "raw",
    "source": [],
    "metadata": {
     "collapsed": false
    }
   }
  }
 },
 "nbformat": 4,
 "nbformat_minor": 0
}