{
 "cells": [
  {
   "cell_type": "markdown",
   "metadata": {
    "collapsed": true,
    "pycharm": {
     "name": "#%% md\n"
    }
   },
   "source": [
    "# 4. 其他流程控制工具\n",
    "\n",
    "[https://docs.python.org/zh-cn/3.8/tutorial/controlflow.html](https://docs.python.org/zh-cn/3.8/tutorial/controlflow.html)"
   ]
  },
  {
   "cell_type": "markdown",
   "source": [
    "## 4.2. for 语句"
   ],
   "metadata": {
    "collapsed": false,
    "pycharm": {
     "name": "#%% md\n"
    }
   }
  },
  {
   "cell_type": "markdown",
   "source": [
    "条目的迭代顺序与它们在序列中出现的顺序一致"
   ],
   "metadata": {
    "collapsed": false,
    "pycharm": {
     "name": "#%% md\n",
     "is_executing": false
    }
   }
  },
  {
   "cell_type": "code",
   "execution_count": null,
   "outputs": [],
   "source": [
    "for item in [1,2,3]:\n",
    "    print(item)"
   ],
   "metadata": {
    "collapsed": false,
    "pycharm": {
     "name": "#%%\n"
    }
   }
  },
  {
   "cell_type": "markdown",
   "source": [
    "在遍历同一个集合时，修改该集合的代码可能很难获得正确的结果【遍历原集合时，不要修改原集合】"
   ],
   "metadata": {
    "collapsed": false,
    "pycharm": {
     "name": "#%% md\n"
    }
   }
  },
  {
   "cell_type": "code",
   "execution_count": 11,
   "outputs": [
    {
     "name": "stdout",
     "text": [
      "{2: 'b', 3: 'c'}\n----------------\n{1: 'a', 2: 'b', 3: 'c'}\n{1: 'a'}\n"
     ],
     "output_type": "stream"
    }
   ],
   "source": [
    "d1 = {1:'a',2:'b',3:'c'}\n",
    "\n",
    "# RuntimeError: dictionary changed size during iteration\n",
    "# for k,v in d1.items():\n",
    "#     if v=='a':\n",
    "#         del d1[k]\n",
    "# print(d1)\n",
    "# print(\"----------------\")\n",
    "\n",
    "# 1. 循环遍历该集合的副本\n",
    "for k,v in d1.copy().items():  # 这里的副本是始终不变的\n",
    "    if v=='a':\n",
    "        del d1[k]\n",
    "print(d1)\n",
    "print(\"----------------\")\n",
    "\n",
    "# 2. 创建新集合\n",
    "nd = {}\n",
    "d2 = {1:'a',2:'b',3:'c'}\n",
    "for k,v in d2.items():\n",
    "    if v=='a':\n",
    "        nd[k] = v\n",
    "print(d2)        \n",
    "print(nd)        "
   ],
   "metadata": {
    "collapsed": false,
    "pycharm": {
     "name": "#%%\n",
     "is_executing": false
    }
   }
  },
  {
   "cell_type": "markdown",
   "source": [
    "## 4.3. range() 函数"
   ],
   "metadata": {
    "collapsed": false
   }
  },
  {
   "cell_type": "markdown",
   "source": [
    "range() 的几种用法：\n",
    "\n",
    "- 遍历一个数字序列\n",
    "\n",
    "- 以序列的索引来迭代序列"
   ],
   "metadata": {
    "collapsed": false
   }
  },
  {
   "cell_type": "code",
   "execution_count": 14,
   "outputs": [
    {
     "name": "stdout",
     "text": [
      "0\n1\n2\n-----------\n0\n1\n2\n-----------\n0 -- a\n1 -- b\n2 -- c\n"
     ],
     "output_type": "stream"
    }
   ],
   "source": [
    "for i in range(3):\n",
    "    print(i)\n",
    "print(\"-----------\")\n",
    "\n",
    "lst = ['a','b','c']\n",
    "for i in range(len(lst)):  # 在大多数这类情况下，使用 enumerate() 函数比较方便\n",
    "    print(i)\n",
    "print(\"-----------\")\n",
    "\n",
    "for index,value in enumerate(lst):\n",
    "    print(str(index) + \" -- \" + value)"
   ],
   "metadata": {
    "collapsed": false,
    "pycharm": {
     "name": "#%%\n",
     "is_executing": false
    }
   }
  },
  {
   "cell_type": "markdown",
   "source": [
    "range() 所返回的对象【iterable（可迭代对象）】在许多方面表现得`像一个列表，但实际上却并不是`。\n",
    "\n",
    "此对象会在你迭代它时，基于所希望的序列返回连续的项，但它没有真正生成列表，这样就能节省空间。\n",
    "\n",
    "我们称这样对象为 `iterable`，也就是说，适合作为这样的目标对象：函数和结构期望从中获取连续的项直到所提供的项全部耗尽。"
   ],
   "metadata": {
    "collapsed": false
   }
  },
  {
   "cell_type": "code",
   "execution_count": 15,
   "outputs": [
    {
     "name": "stdout",
     "text": [
      "3\n"
     ],
     "output_type": "stream"
    }
   ],
   "source": [
    "# 接受可迭代对象的函数的一个例子是 sum()\n",
    "print(sum(range(3)))\n",
    "\n",
    "# 从一个指定范围内获取一个列表\n",
    "print(list(range(3)))"
   ],
   "metadata": {
    "collapsed": false,
    "pycharm": {
     "name": "#%%\n",
     "is_executing": false
    }
   }
  },
  {
   "cell_type": "markdown",
   "source": [
    "## 4.4. break 和 continue 语句，以及循环中的 else 子句"
   ],
   "metadata": {
    "collapsed": false
   }
  },
  {
   "cell_type": "markdown",
   "source": [
    "break 语句用于跳出【最近】的 for 或 while 循环"
   ],
   "metadata": {
    "collapsed": false,
    "pycharm": {
     "name": "#%% md\n"
    }
   }
  },
  {
   "cell_type": "code",
   "execution_count": 16,
   "outputs": [
    {
     "name": "stdout",
     "text": [
      "2 is a prime number\n3 is a prime number\n4 equals 2 * 0\n4 is a prime number\n5 is a prime number\n6 equals 2 * 0\n6 equals 3 * 0\n6 is a prime number\n7 is a prime number\n8 equals 2 * 0\n8 equals 4 * 0\n8 is a prime number\n9 equals 3 * 0\n9 is a prime number\n"
     ],
     "output_type": "stream"
    }
   ],
   "source": [
    "# 搜索素数的循环\n",
    "for n in range(2,10):\n",
    "    for x in range(2,n):\n",
    "        if n % x == 0:\n",
    "            print(n, 'equals', x, '*', x//n)\n",
    "    else: # 循环耗尽了可迭代对象 (使用 for) 或循环条件变为假值 (使用 while) 时被执行，但不会在循环被 break 语句终止时被执行。\n",
    "        print(n, 'is a prime number')"
   ],
   "metadata": {
    "collapsed": false,
    "pycharm": {
     "name": "#%%\n",
     "is_executing": false
    }
   }
  },
  {
   "cell_type": "markdown",
   "source": [
    "continue 语句表示继续循环中的下一次迭代"
   ],
   "metadata": {
    "collapsed": false
   }
  },
  {
   "cell_type": "code",
   "execution_count": 21,
   "outputs": [
    {
     "name": "stdout",
     "text": [
      "1 不能整除3\n2 不能整除3\n3 能整除3\n4 不能整除3\n5 不能整除3\n6 能整除3\n7 不能整除3\n8 不能整除3\n9 能整除3\n"
     ],
     "output_type": "stream"
    }
   ],
   "source": [
    "for i in range(1,10):\n",
    "    if i % 3 == 0:\n",
    "        print(str(i) + \" 能整除3\")\n",
    "        continue\n",
    "    print(str(i) + \" 不能整除3\")"
   ],
   "metadata": {
    "collapsed": false,
    "pycharm": {
     "name": "#%%\n",
     "is_executing": false
    }
   }
  },
  {
   "cell_type": "markdown",
   "source": [
    "## 4.6. 定义函数"
   ],
   "metadata": {
    "collapsed": false
   }
  },
  {
   "cell_type": "markdown",
   "source": [
    "关键字 def 引入一个函数 定义。它必须后跟函数名称和带括号的形式参数列表。\n",
    "\n",
    "构成函数体的语句从下一行开始，并且必须缩进。\n",
    "\n",
    "函数体的第一个语句可以（可选的）是字符串文字；这个字符串文字是函数的文档字符串或 docstring 。"
   ],
   "metadata": {
    "collapsed": false
   }
  },
  {
   "cell_type": "code",
   "execution_count": 35,
   "outputs": [
    {
     "name": "stdout",
     "text": [
      "0\n1\n1\n \n    文档字符串: 输出到 n 的斐波那契额数列 \n    \n"
     ],
     "output_type": "stream"
    }
   ],
   "source": [
    "# 0 1 1 2 3 5 8\n",
    "def fib(n):\n",
    "    \"\"\" \n",
    "    文档字符串: 输出到 n 的斐波那契额数列 \n",
    "    \"\"\"\n",
    "    a, b = 0, 1\n",
    "    for i in range(n):\n",
    "        print(a)\n",
    "        a, b = b, a+b\n",
    "\n",
    "fib(3)   \n",
    "print(fib.__doc__)"
   ],
   "metadata": {
    "collapsed": false,
    "pycharm": {
     "name": "#%%\n",
     "is_executing": false
    }
   }
  },
  {
   "cell_type": "markdown",
   "source": [
    "函数中所有的变量赋值都将存储在【局部符号表】中；\n",
    "\n",
    "而变量引用会：\n",
    "\n",
    "- 首先在局部符号表中查找\n",
    "- 然后是外层函数的局部符号表\n",
    "- 再然后是全局符号表\n",
    "- 最后是内置名称的符号表。 \n",
    "\n",
    "因此，全局变量和外层函数的变量不能在函数内部直接赋值（除非是在 global 语句中定义的全局变量，或者是在 nonlocal 语句中定义的外层函数的变量），尽管它们可以被引用。"
   ],
   "metadata": {
    "collapsed": false
   }
  },
  {
   "cell_type": "code",
   "execution_count": 10,
   "outputs": [
    {
     "name": "stdout",
     "text": [
      "a b c\n"
     ],
     "output_type": "stream"
    }
   ],
   "source": [
    "s1 = 'a'\n",
    "def f():\n",
    "    s2 = 'b'\n",
    "    def f2():\n",
    "        s3 = 'c'\n",
    "        print(s1,s2,s3)\n",
    "\n",
    "    f2()\n",
    "f()"
   ],
   "metadata": {
    "collapsed": false,
    "pycharm": {
     "name": "#%%\n",
     "is_executing": false
    }
   }
  },
  {
   "cell_type": "code",
   "execution_count": null,
   "outputs": [],
   "source": [
    "# 因此，全局变量和外层函数的变量不能在函数内部直接赋值\n",
    "# （除非是在 global 语句中定义的全局变量，或者是在 nonlocal 语句中定义的外层函数的变量），\n",
    "# 尽管它们可以被引用。\n",
    "\n",
    "s = 2\n",
    "\n",
    "def f():\n",
    "    s = 3\n",
    "    print(s)\n",
    "\n",
    "print(s)\n",
    "f()\n",
    "print(s)"
   ],
   "metadata": {
    "collapsed": false,
    "pycharm": {
     "name": "#%%\n"
    }
   }
  },
  {
   "cell_type": "code",
   "execution_count": 8,
   "outputs": [
    {
     "name": "stdout",
     "text": [
      "2\n3\n3\n"
     ],
     "output_type": "stream"
    }
   ],
   "source": [
    "s = 2\n",
    "def f():\n",
    "    global s\n",
    "    s = 3\n",
    "    print(s)\n",
    "\n",
    "print(s)\n",
    "f()\n",
    "print(s)"
   ],
   "metadata": {
    "collapsed": false,
    "pycharm": {
     "name": "#%%\n",
     "is_executing": false
    }
   }
  },
  {
   "cell_type": "code",
   "execution_count": 9,
   "outputs": [
    {
     "name": "stdout",
     "text": [
      "2\n3\n3\n"
     ],
     "output_type": "stream"
    }
   ],
   "source": [
    "def f():\n",
    "    s = 2\n",
    "    print(s)\n",
    "    def f2():\n",
    "        nonlocal s\n",
    "        s = 3\n",
    "        print(s)\n",
    "\n",
    "    f2()\n",
    "    print(s)\n",
    "\n",
    "f()"
   ],
   "metadata": {
    "collapsed": false,
    "pycharm": {
     "name": "#%%\n",
     "is_executing": false
    }
   }
  },
  {
   "cell_type": "markdown",
   "source": [
    "在调用函数时会将实际参数（实参）引入到被调用函数的局部符号表中；\n",
    "\n",
    "因此，实参是使用 按值调用 来传递的（其中的 值 始终是对象的引用，而不是对象的值）。 \n",
    "\n",
    "当一个函数调用另外一个函数时，会为该调用创建一个新的局部符号表。\n",
    "\n",
    "理解对象的引用：[https://www.cnblogs.com/howe670/p/8600851.html](https://www.cnblogs.com/howe670/p/8600851.html)"
   ],
   "metadata": {
    "collapsed": false
   }
  },
  {
   "cell_type": "code",
   "execution_count": 2,
   "outputs": [
    {
     "name": "stdout",
     "output_type": "stream",
     "text": [
      "140715975509648\n",
      "140715975509680\n",
      "140715975509648\n"
     ]
    }
   ],
   "source": [
    "x = 0\n",
    "def f(x):\n",
    "    x += 1\n",
    "    print(id(x))\n",
    "\n",
    "print(id(x))\n",
    "f(x)\n",
    "print(id(x))\n"
   ],
   "metadata": {
    "collapsed": false,
    "pycharm": {
     "name": "#%%\n"
    }
   }
  },
  {
   "cell_type": "markdown",
   "source": [
    "函数定义会将函数名称与函数对象在当前符号表中进行关联。 \n",
    "\n",
    "解释器会将该名称【p1】所指向的对象【person】识别为用户自定义函数。 \n",
    "\n",
    "其他名称【p2】也可指向同一个函数对象，并可被用来访问函数"
   ],
   "metadata": {
    "collapsed": false,
    "pycharm": {
     "name": "#%% md\n"
    }
   }
  },
  {
   "cell_type": "code",
   "execution_count": 21,
   "outputs": [
    {
     "name": "stdout",
     "text": [
      "<function person at 0x000001EC462AA0D0>\nthis person'name is zhangsan\nthis person'name is lisi\n"
     ],
     "output_type": "stream"
    }
   ],
   "source": [
    "def person(name=\"test\"):\n",
    "    return name\n",
    "    \n",
    "print(person)  \n",
    "\n",
    "p1 = person\n",
    "print(f\"this person'name is {p1('zhangsan')}\")\n",
    "p2 = person\n",
    "print(f\"this person'name is {p2('lisi')}\")"
   ],
   "metadata": {
    "collapsed": false,
    "pycharm": {
     "name": "#%%\n",
     "is_executing": false
    }
   }
  },
  {
   "cell_type": "markdown",
   "source": [
    "result.append(a) 语句调用了列表对象 result 的 方法 。\n",
    "\n",
    "方法是“属于”一个对象的函数，它被命名为 `obj.methodname` ，\n",
    "\n",
    "其中 obj 是某个对象（也可能是一个表达式）， methodname 是由对象类型中定义的方法的名称。\n",
    "\n",
    "不同的类型可以定义不同的方法。\n",
    "\n",
    "不同类型的方法可以有相同的名称而不会引起歧义。"
   ],
   "metadata": {
    "collapsed": false,
    "pycharm": {
     "name": "#%% md\n"
    }
   }
  },
  {
   "cell_type": "markdown",
   "source": [
    "## 4.7. 函数定义的更多形式\n",
    "### 4.7.1. 参数默认值"
   ],
   "metadata": {
    "collapsed": false,
    "pycharm": {
     "name": "#%% md\n"
    }
   }
  },
  {
   "cell_type": "markdown",
   "source": [
    "默认值是在 定义过程 中在函数定义处计算的"
   ],
   "metadata": {
    "collapsed": false,
    "pycharm": {
     "name": "#%% md\n"
    }
   }
  },
  {
   "cell_type": "code",
   "execution_count": null,
   "outputs": [],
   "source": [
    "i = 5\n",
    "\n",
    "def f(arg=i):\n",
    "    print(arg)\n",
    "\n",
    "i = 6\n",
    "f()\n"
   ],
   "metadata": {
    "collapsed": false,
    "pycharm": {
     "name": "#%%\n"
    }
   }
  },
  {
   "cell_type": "markdown",
   "source": [
    "默认值只会执行一次。这条规则在默认值为可变对象（列表、字典以及大多数类实例）时很重要"
   ],
   "metadata": {
    "collapsed": false
   }
  },
  {
   "cell_type": "code",
   "execution_count": 22,
   "outputs": [
    {
     "name": "stdout",
     "text": [
      "[1]\n[1, 2]\n[1, 2, 3]\n"
     ],
     "output_type": "stream"
    }
   ],
   "source": [
    "# 会在当前符号表里查找L\n",
    "def f(a, L=[]):\n",
    "    L.append(a)\n",
    "    return L\n",
    "\n",
    "print(f(1))\n",
    "print(f(2))\n",
    "print(f(3))\n",
    "\n",
    "# 如果你不想要在后续调用之间共享默认值，你可以这样写这个函数:\n",
    "\n",
    "def f(a, L=None):\n",
    "    if L is None:\n",
    "        L = []\n",
    "    L.append(a)\n",
    "    return L"
   ],
   "metadata": {
    "collapsed": false,
    "pycharm": {
     "name": "#%%\n",
     "is_executing": false
    }
   }
  },
  {
   "cell_type": "markdown",
   "source": [
    "### 4.7.2. 关键字参数"
   ],
   "metadata": {
    "collapsed": false
   }
  },
  {
   "cell_type": "markdown",
   "source": [
    "在函数调用中，关键字参数必须跟随在位置参数的后面。\n",
    "\n",
    "传递的所有关键字参数必须与函数接受的其中一个参数匹配，\n",
    "它们的顺序并不重要。这也包括非可选参数。\n",
    "\n",
    "不能对同一个参数多次赋值。"
   ],
   "metadata": {
    "collapsed": false
   }
  },
  {
   "cell_type": "code",
   "execution_count": null,
   "outputs": [],
   "source": [
    "def f(name,age='10',sex='male'):\n",
    "    print(f\"{name} + {age} + {sex}\")\n",
    "\n",
    "f(\"zhangsan\")\n",
    "f(name=\"zhangsan\")\n",
    "f(\"lisi\",age='12',sex='female')\n",
    "f(\"lisi\",sex='female',age='12')\n",
    "# f(\"lisi\",age='12',age='13')\n",
    "# f(age='12',\"lisi\",age='13')"
   ],
   "metadata": {
    "collapsed": false,
    "pycharm": {
     "name": "#%%\n"
    }
   }
  },
  {
   "cell_type": "markdown",
   "source": [
    "当存在一个形式为 **name 的最后一个形参时，它会接收一个字典，\n",
    "其中包含除了与已有形参相对应的关键字参数以外的所有关键字参数。 \n",
    "\n",
    "这可以与一个形式为 *name，接收一个包含除了已有形参列表以外的位置参数的 元组 的形参 组合使用 (*name 必须出现在 **name 之前。) "
   ],
   "metadata": {
    "collapsed": false
   }
  },
  {
   "cell_type": "code",
   "execution_count": 23,
   "outputs": [
    {
     "name": "stdout",
     "text": [
      "-- Do you have any Limburger ?\n-- I'm sorry, we're all out of Limburger\nIt's very runny, sir.\nIt's really very, VERY runny, sir.\n----------------------------------------\nshopkeeper : Michael Palin\nclient : John Cleese\nsketch : Cheese Shop Sketch\n"
     ],
     "output_type": "stream"
    }
   ],
   "source": [
    "def cheeseshop(kind, *args, **kwargs):\n",
    "    print(\"-- Do you have any\", kind, \"?\")\n",
    "    print(\"-- I'm sorry, we're all out of\", kind)\n",
    "    for arg in args:\n",
    "        print(arg)\n",
    "    print(\"-\" * 40)\n",
    "    for kw in kwargs:\n",
    "        print(kw, \":\", kwargs[kw])\n",
    "\n",
    "cheeseshop(\"Limburger\", \n",
    "           \"It's very runny, sir.\",\n",
    "           \"It's really very, VERY runny, sir.\",\n",
    "           shopkeeper=\"Michael Palin\",\n",
    "           client=\"John Cleese\",\n",
    "           sketch=\"Cheese Shop Sketch\")"
   ],
   "metadata": {
    "collapsed": false,
    "pycharm": {
     "name": "#%%\n",
     "is_executing": false
    }
   }
  },
  {
   "cell_type": "markdown",
   "source": [
    "## 4.7.3. 特殊参数 "
   ],
   "metadata": {
    "collapsed": false
   }
  },
  {
   "cell_type": "markdown",
   "source": [
    "函数的定义看起来可以像是这样：\n",
    "\n",
    "```\n",
    "def f(pos1, pos2, /, pos_or_kwd, *, kwd1, kwd2):\n",
    "      -----------    ----------     ----------\n",
    "        |             |                  |\n",
    "        |        Positional or keyword   |\n",
    "        |                                - Keyword only\n",
    "         -- Positional only\n",
    "```"
   ],
   "metadata": {
    "collapsed": false
   }
  },
  {
   "cell_type": "markdown",
   "source": [
    "#### 4.7.3.1. 位置或关键字参数\n",
    "如果函数定义中未使用 / 和 *，则参数可以按位置或按关键字传递给函数。\n",
    "\n",
    "#### 4.7.3.2. 仅限位置参数\n",
    "特定形参可以被标记为 仅限位置。 如果是 仅限位置 的形参，则其位置是重要的，并且该形参不能作为关键字传入。 \n",
    "仅限位置形参要放在 / (正斜杠) 之前。 这个 / 被用来从逻辑上分隔仅限位置形参和其它形参。 如果函数定义中没有 /，则表示没有仅限位置形参。\n",
    "\n",
    "在 / 之后的形参可以为 位置或关键字 或 仅限关键字。\n",
    "\n",
    "#### 4.7.3.3. 仅限关键字参数\n",
    "要将形参标记为 仅限关键字，即指明该形参必须以关键字参数的形式传入，应在参数列表的第一个 仅限关键字 形参之前放置一个 *。"
   ],
   "metadata": {
    "collapsed": false
   }
  },
  {
   "cell_type": "markdown",
   "source": [
    "#### 4.7.3.4. 函数示例\n"
   ],
   "metadata": {
    "collapsed": false
   }
  },
  {
   "cell_type": "code",
   "execution_count": null,
   "outputs": [],
   "source": [
    "def standard_arg(arg):\n",
    "    print(arg)\n",
    "\n",
    "def pos_only_arg(arg, /):\n",
    "    print(arg)\n",
    "\n",
    "def kwd_only_arg(*, arg):\n",
    "    print(arg)\n",
    "\n",
    "def combined_example(pos_only, /, standard, *, kwd_only):\n",
    "    print(pos_only, standard, kwd_only)\n",
    "\n",
    "# 第一个函数定义 standard_arg 是最常见的形式，对调用方式没有任何限制，参数可以按位置也可以按关键字传入:\n",
    "standard_arg(2)\n",
    "standard_arg(arg=2)\n",
    "\n",
    "# 第二个函数 pos_only_arg 在函数定义中带有 /，限制仅使用位置形参。:\n",
    "pos_only_arg(1)\n",
    "# pos_only_arg(arg=1)\n",
    "\n",
    "# 第三个函数 kwd_only_args 在函数定义中通过 * 指明仅允许关键字参数:\n",
    "# kwd_only_arg(3)\n",
    "kwd_only_arg(arg=3)\n",
    "\n",
    "# 而最后一个则在同一函数定义中使用了全部三种调用方式:\n",
    "# combined_example(1, 2, 3)\n",
    "combined_example(1, 2, kwd_only=3)\n",
    "combined_example(1, standard=2, kwd_only=3)\n",
    "# combined_example(pos_only=1, standard=2, kwd_only=3)"
   ],
   "metadata": {
    "collapsed": false,
    "pycharm": {
     "name": "#%%\n"
    }
   }
  },
  {
   "cell_type": "markdown",
   "source": [
    "仅限位置形参的名称可以在 **kwds 中使用而不产生歧义。"
   ],
   "metadata": {
    "collapsed": false
   }
  },
  {
   "cell_type": "code",
   "execution_count": 27,
   "outputs": [
    {
     "traceback": [
      "\u001B[1;31m---------------------------------------------------------------------------\u001B[0m",
      "\u001B[1;31mTypeError\u001B[0m                                 Traceback (most recent call last)",
      "Input \u001B[1;32mIn [27]\u001B[0m, in \u001B[0;36m<cell line: 4>\u001B[1;34m()\u001B[0m\n\u001B[0;32m      1\u001B[0m \u001B[38;5;28;01mdef\u001B[39;00m \u001B[38;5;21mf\u001B[39m(name,\u001B[38;5;241m*\u001B[39m\u001B[38;5;241m*\u001B[39mkwargs):\n\u001B[0;32m      2\u001B[0m     \u001B[38;5;28;01mreturn\u001B[39;00m name \u001B[38;5;129;01min\u001B[39;00m kwargs\u001B[38;5;241m.\u001B[39mkeys()\n\u001B[1;32m----> 4\u001B[0m \u001B[38;5;28mprint\u001B[39m(\u001B[43mf\u001B[49m\u001B[43m(\u001B[49m\u001B[38;5;124;43m\"\u001B[39;49m\u001B[38;5;124;43mzhangsan\u001B[39;49m\u001B[38;5;124;43m\"\u001B[39;49m\u001B[43m,\u001B[49m\u001B[43mname\u001B[49m\u001B[38;5;241;43m=\u001B[39;49m\u001B[38;5;124;43m\"\u001B[39;49m\u001B[38;5;124;43mzhangsan\u001B[39;49m\u001B[38;5;124;43m\"\u001B[39;49m\u001B[43m,\u001B[49m\u001B[43mage\u001B[49m\u001B[38;5;241;43m=\u001B[39;49m\u001B[38;5;124;43m'\u001B[39;49m\u001B[38;5;124;43m11\u001B[39;49m\u001B[38;5;124;43m'\u001B[39;49m\u001B[43m)\u001B[49m)\n",
      "\u001B[1;31mTypeError\u001B[0m: f() got multiple values for argument 'name'"
     ],
     "ename": "TypeError",
     "evalue": "f() got multiple values for argument 'name'",
     "output_type": "error"
    }
   ],
   "source": [
    "def f(name,**kwargs):\n",
    "    return name in kwargs.keys()\n",
    "        \n",
    "print(f(\"zhangsan\",name=\"zhangsan\",age='11'))"
   ],
   "metadata": {
    "collapsed": false,
    "pycharm": {
     "name": "#%%\n",
     "is_executing": false
    }
   }
  },
  {
   "cell_type": "code",
   "execution_count": 28,
   "outputs": [
    {
     "name": "stdout",
     "text": [
      "False\n"
     ],
     "output_type": "stream"
    }
   ],
   "source": [
    "def f(name,/,**kwargs):\n",
    "    return name in kwargs.keys()\n",
    "        \n",
    "print(f(\"zhangsan\",name=\"zhangsan\",age='11'))\n",
    "\n"
   ],
   "metadata": {
    "collapsed": false,
    "pycharm": {
     "name": "#%%\n",
     "is_executing": false
    }
   }
  },
  {
   "cell_type": "markdown",
   "source": [
    "### 4.7.4. 任意的参数列表\n",
    "\n",
    "在可变数量的参数之前，可能会出现零个或多个普通参数\n",
    "\n",
    "出现在 `*args` 参数之后的任何形式参数都是 ‘仅限关键字参数’"
   ],
   "metadata": {
    "collapsed": false
   }
  },
  {
   "cell_type": "code",
   "execution_count": 30,
   "outputs": [
    {
     "name": "stdout",
     "text": [
      "earth/mars/venus\nearth.mars.venus\n"
     ],
     "output_type": "stream"
    }
   ],
   "source": [
    "def concat(*args, sep=\"/\"):\n",
    "    return sep.join(args)\n",
    "\n",
    "print(concat(\"earth\", \"mars\", \"venus\"))\n",
    "print(concat(\"earth\", \"mars\", \"venus\", sep=\".\"))"
   ],
   "metadata": {
    "collapsed": false,
    "pycharm": {
     "name": "#%%\n",
     "is_executing": false
    }
   }
  },
  {
   "cell_type": "markdown",
   "source": [
    "### 4.7.5. 解包参数列表\n",
    "\n",
    "【解包参数:把参数还原成函数形参所需的形式】 "
   ],
   "metadata": {
    "collapsed": false
   }
  },
  {
   "cell_type": "code",
   "source": [
    "# 内置的 range() 函数需要单独的 start 和 stop 参数。\n",
    "# 如果它们不能单独使用，可以使用 * 操作符 来编写函数调用以便从列表或元组中解包参数:\n",
    "print(list(range(3, 6)))           # normal call with separate arguments\n",
    "\n",
    "args = [3, 6]\n",
    "print(list(range(*args)))            # call with arguments unpacked from a list\n",
    "\n",
    "\n",
    "# 同样的方式，字典可使用 ** 操作符 来提供关键字参数:\n",
    "def parrot(voltage, state='a stiff', action='voom'):\n",
    "    print(\"-- This parrot wouldn't\", action, end=' ')\n",
    "    print(\"if you put\", voltage, \"volts through it.\", end=' ')\n",
    "    print(\"E's\", state, \"!\")\n",
    "\n",
    "d = {\"voltage\": \"four million\", \"state\": \"bleedin' demised\", \"action\": \"VOOM\"}\n",
    "parrot(**d)"
   ],
   "metadata": {
    "collapsed": false,
    "pycharm": {
     "name": "#%% \n",
     "is_executing": false
    }
   },
   "execution_count": 31,
   "outputs": [
    {
     "name": "stdout",
     "text": [
      "[3, 4, 5]\n[3, 4, 5]\n-- This parrot wouldn't VOOM if you put four million volts through it. E's bleedin' demised !\n"
     ],
     "output_type": "stream"
    }
   ]
  },
  {
   "cell_type": "markdown",
   "source": [
    "### 4.7.6. Lambda 表达式 \n",
    "\n",
    "- 使用一个lambda表达式来返回一个函数\n",
    "- 传递一个小函数作为参数"
   ],
   "metadata": {
    "collapsed": false
   }
  },
  {
   "cell_type": "code",
   "execution_count": 32,
   "outputs": [
    {
     "name": "stdout",
     "text": [
      "11\n"
     ],
     "output_type": "stream"
    }
   ],
   "source": [
    "def f(n):\n",
    "    return lambda x:x+n\n",
    "g = f(10)\n",
    "print(g(1))"
   ],
   "metadata": {
    "collapsed": false,
    "pycharm": {
     "name": "#%%\n",
     "is_executing": false
    }
   }
  },
  {
   "cell_type": "code",
   "execution_count": 34,
   "outputs": [
    {
     "name": "stdout",
     "text": [
      "[(1, 'one'), (2, 'two'), (3, 'three'), (4, 'four')]\n"
     ],
     "output_type": "stream"
    }
   ],
   "source": [
    "pairs = [ (3, 'three'), (2, 'two'), (1, 'one'),(4, 'four')]\n",
    "pairs.sort(key=lambda item:item[0])\n",
    "print(pairs)"
   ],
   "metadata": {
    "collapsed": false,
    "pycharm": {
     "name": "#%%\n",
     "is_executing": false
    }
   }
  },
  {
   "cell_type": "markdown",
   "source": [
    "### 4.7.7. 文档字符串\n",
    "\n",
    "第一行应该是对象目的的简要概述。这一行应以大写字母开头，以句点结尾。\n",
    "\n",
    "第二行应为空白，从而在视觉上将摘要与其余描述分开。\n",
    "\n",
    "后面几行应该是一个或多个段落，描述对象的调用约定，它的副作用等。"
   ],
   "metadata": {
    "collapsed": false
   }
  },
  {
   "cell_type": "code",
   "execution_count": 38,
   "outputs": [
    {
     "name": "stdout",
     "text": [
      "Do nothing, but document it.\n\nNo, really, it doesn't do anything.\n    No, really, it doesn't do anything.\n    \n"
     ],
     "output_type": "stream"
    }
   ],
   "source": [
    "def my_function():\n",
    "    \"\"\"Do nothing, but document it.\n",
    "\n",
    "No, really, it doesn't do anything.\n",
    "    No, really, it doesn't do anything.\n",
    "    \"\"\"\n",
    "    pass\n",
    "\n",
    "print(my_function.__doc__)"
   ],
   "metadata": {
    "collapsed": false,
    "pycharm": {
     "name": "#%%\n",
     "is_executing": false
    }
   }
  },
  {
   "cell_type": "markdown",
   "source": [
    "### 4.7.8. 函数标注 \n",
    "\n",
    "函数标注 是关于用户自定义函数中使用的类型的完全可选元数据信息。\n",
    "\n",
    "标注 以字典的形式存放在函数的 `__annotations__` 属性中，并且不会影响函数的任何其他部分。"
   ],
   "metadata": {
    "collapsed": false
   }
  },
  {
   "cell_type": "code",
   "execution_count": 41,
   "outputs": [
    {
     "name": "stdout",
     "text": [
      "Annotations: {'ham': <class 'str'>, 'eggs': <class 'str'>, 'return': <class 'str'>}\nArguments: spam eggs\nspam and eggs\n"
     ],
     "output_type": "stream"
    }
   ],
   "source": [
    "def f(ham: str, eggs: str = 'eggs') -> str:\n",
    "    print(\"Annotations:\", f.__annotations__)\n",
    "    print(\"Arguments:\", ham, eggs)\n",
    "    return ham + ' and ' + eggs\n",
    "\n",
    "print(f('spam'))\n"
   ],
   "metadata": {
    "collapsed": false,
    "pycharm": {
     "name": "#%%\n",
     "is_executing": false
    }
   }
  }
 ],
 "metadata": {
  "kernelspec": {
   "display_name": "Python 3",
   "language": "python",
   "name": "python3"
  },
  "language_info": {
   "codemirror_mode": {
    "name": "ipython",
    "version": 2
   },
   "file_extension": ".py",
   "mimetype": "text/x-python",
   "name": "python",
   "nbconvert_exporter": "python",
   "pygments_lexer": "ipython2",
   "version": "2.7.6"
  }
 },
 "nbformat": 4,
 "nbformat_minor": 0
}