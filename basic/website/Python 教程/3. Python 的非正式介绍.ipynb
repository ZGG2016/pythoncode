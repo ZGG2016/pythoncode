{
 "cells": [
  {
   "cell_type": "markdown",
   "metadata": {
    "collapsed": true,
    "pycharm": {
     "name": "#%% md\n"
    }
   },
   "source": [
    "# 3. Python 的非正式介绍\n",
    "\n",
    "[https://docs.python.org/zh-cn/3.8/tutorial/introduction.html](https://docs.python.org/zh-cn/3.8/tutorial/introduction.html)"
   ]
  },
  {
   "cell_type": "markdown",
   "source": [
    "### 3.1.2. 字符串\n",
    "\n",
    "如果你不希望前置了 `\\` 的字符转义成特殊字符，可以使用 原始字符串 方式，在引号前添加 `r` 即可。"
   ],
   "metadata": {
    "collapsed": false,
    "pycharm": {
     "name": "#%% md\n"
    }
   }
  },
  {
   "cell_type": "code",
   "execution_count": 1,
   "outputs": [
    {
     "name": "stdout",
     "text": [
      "c:\\some\name\nc:\\some\\name\nc:\\some\\name\n"
     ],
     "output_type": "stream"
    }
   ],
   "source": [
    "print(\"c:\\some\\name\")\n",
    "print(\"c:\\some\\\\name\")\n",
    "print(r\"c:\\some\\name\")"
   ],
   "metadata": {
    "collapsed": false,
    "pycharm": {
     "name": "#%%\n",
     "is_executing": false
    }
   }
  },
  {
   "cell_type": "markdown",
   "source": [
    "字符串连接"
   ],
   "metadata": {
    "collapsed": false
   }
  },
  {
   "cell_type": "code",
   "execution_count": 6,
   "outputs": [
    {
     "name": "stdout",
     "text": [
      "ab\nab\nab\n"
     ],
     "output_type": "stream"
    }
   ],
   "source": [
    "print(\"a\" \"b\")\n",
    "# 把很长的字符串拆开分别输入的时候尤其有用\n",
    "print(\"a\" \n",
    "      \"b\")\n",
    "print(\"a\"+\"b\")"
   ],
   "metadata": {
    "collapsed": false,
    "pycharm": {
     "name": "#%%\n",
     "is_executing": false
    }
   }
  },
  {
   "cell_type": "code",
   "execution_count": 3,
   "outputs": [
    {
     "name": "stdout",
     "text": [
      "ab\n"
     ],
     "output_type": "stream"
    }
   ],
   "source": [
    "a = \"a\"\n",
    "# print(a \"b\")  # 报错  只能对两个字面值这样操作，变量或表达式不行\n",
    "print(a+\"b\")"
   ],
   "metadata": {
    "collapsed": false,
    "pycharm": {
     "name": "#%%\n",
     "is_executing": false
    }
   }
  },
  {
   "cell_type": "markdown",
   "source": [
    "字符串重复"
   ],
   "metadata": {
    "collapsed": false,
    "pycharm": {
     "name": "#%% md\n",
     "is_executing": false
    }
   }
  },
  {
   "cell_type": "code",
   "execution_count": null,
   "outputs": [],
   "source": [
    "print(\"a\"*2)\n"
   ],
   "metadata": {
    "collapsed": false,
    "pycharm": {
     "name": "#%% \n"
    }
   }
  },
  {
   "cell_type": "markdown",
   "source": [
    "### 3.1.3. 列表"
   ],
   "metadata": {
    "collapsed": false,
    "pycharm": {
     "name": "#%% md\n"
    }
   }
  },
  {
   "cell_type": "markdown",
   "source": [
    "一个 列表 可以包含不同类型的元素"
   ],
   "metadata": {
    "collapsed": false,
    "pycharm": {
     "name": "#%% md\n",
     "is_executing": false
    }
   }
  },
  {
   "cell_type": "code",
   "execution_count": null,
   "outputs": [],
   "source": [
    "lst = [1,'2',3]\n",
    "print(lst)"
   ],
   "metadata": {
    "collapsed": false,
    "pycharm": {
     "name": "#%%\n"
    }
   }
  },
  {
   "cell_type": "markdown",
   "source": [
    "拼接操作"
   ],
   "metadata": {
    "collapsed": false
   }
  },
  {
   "cell_type": "code",
   "execution_count": null,
   "outputs": [],
   "source": [
    "print(lst + [4,5])"
   ],
   "metadata": {
    "collapsed": false,
    "pycharm": {
     "name": "#%%\n"
    }
   }
  },
  {
   "cell_type": "markdown",
   "source": [
    "内容可以改变"
   ],
   "metadata": {
    "collapsed": false,
    "pycharm": {
     "name": "#%% md\n",
     "is_executing": false
    }
   }
  },
  {
   "cell_type": "code",
   "execution_count": null,
   "outputs": [],
   "source": [
    "lst[1] = 2  #索引赋值\n",
    "print(lst)\n",
    "\n",
    "lst[1:3] = [4,5]  # 切片赋值\n",
    "print(lst)"
   ],
   "metadata": {
    "collapsed": false,
    "pycharm": {
     "name": "#%%\n"
    }
   }
  },
  {
   "cell_type": "markdown",
   "source": [
    "删除元素"
   ],
   "metadata": {
    "collapsed": false,
    "pycharm": {
     "name": "#%% md\n",
     "is_executing": false
    }
   }
  },
  {
   "cell_type": "code",
   "execution_count": null,
   "outputs": [],
   "source": [
    "lst[0:1] = []  # 改变列表大小\n",
    "print(lst)\n",
    "\n",
    "lst[:] = []  # 把列表整个清空\n",
    "print(lst)"
   ],
   "metadata": {
    "collapsed": false,
    "pycharm": {
     "name": "#%%\n"
    }
   }
  },
  {
   "cell_type": "markdown",
   "source": [
    "## 3.2. 走向编程的第一步"
   ],
   "metadata": {
    "collapsed": false
   }
  },
  {
   "cell_type": "markdown",
   "source": [
    "关键字参数 end 可以用来取消输出后面的换行, 或使用另外一个字符串来结尾"
   ],
   "metadata": {
    "collapsed": false
   }
  },
  {
   "cell_type": "code",
   "execution_count": 19,
   "outputs": [
    {
     "name": "stdout",
     "text": [
      "1\n2\n3\n---------------------\n1\n2\n3---------------------\n1\n2-3\n"
     ],
     "output_type": "stream"
    }
   ],
   "source": [
    "lst = [1,2,3]\n",
    "for i in lst:\n",
    "    print(i)\n",
    "    \n",
    "print(\"---------------------\")  \n",
    "for i in lst:\n",
    "    if i==3:\n",
    "        print(i, end='')\n",
    "    else:\n",
    "        print(i)\n",
    "\n",
    "print(\"---------------------\")  \n",
    "for i in lst:\n",
    "    if i==2:\n",
    "        print(i, end='-')\n",
    "    else:\n",
    "        print(i)"
   ],
   "metadata": {
    "collapsed": false,
    "pycharm": {
     "name": "#%%\n",
     "is_executing": false
    }
   }
  }
 ],
 "metadata": {
  "kernelspec": {
   "display_name": "Python 3",
   "language": "python",
   "name": "python3"
  },
  "language_info": {
   "codemirror_mode": {
    "name": "ipython",
    "version": 2
   },
   "file_extension": ".py",
   "mimetype": "text/x-python",
   "name": "python",
   "nbconvert_exporter": "python",
   "pygments_lexer": "ipython2",
   "version": "2.7.6"
  },
  "pycharm": {
   "stem_cell": {
    "cell_type": "raw",
    "source": [],
    "metadata": {
     "collapsed": false
    }
   }
  }
 },
 "nbformat": 4,
 "nbformat_minor": 0
}