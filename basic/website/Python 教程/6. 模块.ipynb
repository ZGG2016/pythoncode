{
 "cells": [
  {
   "cell_type": "markdown",
   "metadata": {
    "collapsed": true,
    "pycharm": {
     "name": "#%% md\n"
    }
   },
   "source": [
    "# 6. 模块\n",
    "[https://docs.python.org/zh-cn/3.8/tutorial/modules.html](https://docs.python.org/zh-cn/3.8/tutorial/modules.html)"
   ]
  },
  {
   "cell_type": "markdown",
   "source": [
    "模块是一个包含Python定义和语句的文件。文件名就是模块名后跟文件后缀 .py 。\n",
    "\n",
    "在一个模块内部，模块名（作为一个字符串）可以通过全局变量 `__name__` 的值获得"
   ],
   "metadata": {
    "collapsed": false
   }
  },
  {
   "cell_type": "code",
   "execution_count": 1,
   "outputs": [
    {
     "name": "stdout",
     "text": [
      "time\n"
     ],
     "output_type": "stream"
    }
   ],
   "source": [
    "import time\n",
    "print(time.__name__)"
   ],
   "metadata": {
    "collapsed": false,
    "pycharm": {
     "name": "#%%\n",
     "is_executing": false
    }
   }
  },
  {
   "cell_type": "markdown",
   "source": [
    "## 6.1. 更多有关模块的信息\n",
    "\n",
    "模块可以包含可执行的语句以及函数定义。\n",
    "\n",
    "这些语句用于初始化模块。它们仅在模块 `第一次 在 import 语句中被导入时才执行`。 \n",
    "(当文件被当作脚本运行时，它们也会执行。)\n",
    "\n",
    "每个模块都有它自己的私有符号表，该表用作模块中定义的所有函数的全局符号表。\n",
    "因此，`模块的作者可以在模块内使用全局变量，而不必担心与用户的全局变量发生意外冲突`。\n",
    "\n",
    "可以用跟访问模块内的函数的同样标记方法，去访问一个模块的全局变量，`modname.itemname`。【？】"
   ],
   "metadata": {
    "collapsed": false
   }
  },
  {
   "cell_type": "code",
   "execution_count": 13,
   "outputs": [
    {
     "name": "stdout",
     "text": [
      "1\n3\n"
     ],
     "output_type": "stream"
    }
   ],
   "source": [
    "# test.py\n",
    "# b = 2\n",
    "# def f(a):\n",
    "#     c = a + b\n",
    "#     return c\n",
    "\n",
    "import test\n",
    "b = 1\n",
    "print(test.b)\n",
    "print(test.f(1) + b)\n"
   ],
   "metadata": {
    "collapsed": false,
    "pycharm": {
     "name": "#%%\n",
     "is_executing": false
    }
   }
  },
  {
   "cell_type": "markdown",
   "source": [
    "被导入的模块名存放在调入模块的全局符号表中。\n",
    "\n"
   ],
   "metadata": {
    "collapsed": false
   }
  },
  {
   "cell_type": "markdown",
   "source": [
    "可以把名字从一个被调模块内直接导入到现模块的符号表里。\n",
    "\n",
    "这并不会把被调模块名引入到局部变量表里（因此在这个例子里，test 是未被定义的）。"
   ],
   "metadata": {
    "collapsed": false
   }
  },
  {
   "cell_type": "code",
   "execution_count": 14,
   "outputs": [
    {
     "data": {
      "text/plain": "6"
     },
     "metadata": {},
     "output_type": "execute_result",
     "execution_count": 14
    }
   ],
   "source": [
    "from test import f\n",
    "f(5)\n"
   ],
   "metadata": {
    "collapsed": false,
    "pycharm": {
     "name": "#%%\n",
     "is_executing": false
    }
   }
  },
  {
   "cell_type": "markdown",
   "source": [
    "如果模块名称之后带有 as，则跟在 as 之后的名称将直接绑定到所导入的模块。"
   ],
   "metadata": {
    "collapsed": false
   }
  },
  {
   "cell_type": "code",
   "execution_count": 15,
   "outputs": [
    {
     "data": {
      "text/plain": "501"
     },
     "metadata": {},
     "output_type": "execute_result",
     "execution_count": 15
    }
   ],
   "source": [
    "import test as t\n",
    "t.f(500)"
   ],
   "metadata": {
    "collapsed": false,
    "pycharm": {
     "name": "#%%\n",
     "is_executing": false
    }
   }
  },
  {
   "cell_type": "markdown",
   "source": [
    "这会和 import test 方式一样有效地调入模块， 唯一的区别是它以 t 的名称存在的。\n",
    "\n",
    "这种方式也可以在用到 from 的时候使用，并会有类似的效果:"
   ],
   "metadata": {
    "collapsed": false
   }
  },
  {
   "cell_type": "code",
   "execution_count": 16,
   "outputs": [
    {
     "data": {
      "text/plain": "501"
     },
     "metadata": {},
     "output_type": "execute_result",
     "execution_count": 16
    }
   ],
   "source": [
    "from test import f as ff\n",
    "ff(500)"
   ],
   "metadata": {
    "collapsed": false,
    "pycharm": {
     "name": "#%%\n",
     "is_executing": false
    }
   }
  },
  {
   "cell_type": "markdown",
   "source": [
    "### 6.1.1. 以脚本的方式执行模块\n",
    "\n",
    "```\n",
    "python fibo.py <arguments>\n",
    "```\n",
    "\n",
    "这项操作将执行模块里的代码，和导入模块一样，但会把 `__name__` 赋值为 `__main__`。 \n",
    "也就是把下列代码添加到模块末尾：\n",
    "\n",
    "```\n",
    "if __name__ == \"__main__\":\n",
    "    import sys\n",
    "    fib(int(sys.argv[1]))\n",
    "```"
   ],
   "metadata": {
    "collapsed": false
   }
  },
  {
   "cell_type": "markdown",
   "source": [
    "## 6.2. 标准模块\n",
    "\n",
    "sys.path 变量是一个字符串列表，用于确定解释器的模块搜索路径。\n",
    "\n",
    "该变量被初始化为从环境变量 PYTHONPATH 获取的默认路径，\n",
    "或者如果 PYTHONPATH 未设置，则从内置默认路径初始化。"
   ],
   "metadata": {
    "collapsed": false
   }
  },
  {
   "cell_type": "code",
   "execution_count": 17,
   "outputs": [
    {
     "name": "stdout",
     "text": [
      "['C:\\\\Users\\\\zgg\\\\Desktop\\\\pythoncode\\\\basic\\\\website\\\\Python 教程', 'C:\\\\Users\\\\zgg\\\\Desktop\\\\pythoncode', 'c:\\\\program files\\\\python38\\\\python38.zip', 'c:\\\\program files\\\\python38\\\\DLLs', 'c:\\\\program files\\\\python38\\\\lib', 'c:\\\\program files\\\\python38', '', 'c:\\\\program files\\\\python38\\\\lib\\\\site-packages', 'c:\\\\program files\\\\python38\\\\lib\\\\site-packages\\\\win32', 'c:\\\\program files\\\\python38\\\\lib\\\\site-packages\\\\win32\\\\lib', 'c:\\\\program files\\\\python38\\\\lib\\\\site-packages\\\\Pythonwin', 'C:\\\\Program Files\\\\JetBrains\\\\PyCharm 2019.2.4\\\\helpers\\\\pydev', 'C:\\\\Program Files\\\\JetBrains\\\\PyCharm 2019.2.4\\\\helpers-pro\\\\jupyter_debug']\n"
     ],
     "output_type": "stream"
    }
   ],
   "source": [
    "import sys\n",
    "print(sys.path)\n",
    "# 使用标准列表操作对其进行修改\n",
    "# sys.path.append('/ufs/guido/lib/python')"
   ],
   "metadata": {
    "collapsed": false,
    "pycharm": {
     "name": "#%%\n",
     "is_executing": false
    }
   }
  },
  {
   "cell_type": "markdown",
   "source": [
    "## 6.3. dir() 函数\n",
    "\n",
    "内置函数 dir() 用于查找模块中定义的名称。 它返回一个排序过的字符串列表\n",
    "\n",
    "它列出所有类型的名称：变量，模块，函数，等等"
   ],
   "metadata": {
    "collapsed": false
   }
  },
  {
   "cell_type": "code",
   "execution_count": 19,
   "outputs": [
    {
     "name": "stdout",
     "text": [
      "['__builtins__', '__cached__', '__doc__', '__file__', '__loader__', '__name__', '__package__', '__spec__', 'b', 'f', 'sys']\n"
     ],
     "output_type": "stream"
    }
   ],
   "source": [
    "import test\n",
    "print(dir(test))\n"
   ],
   "metadata": {
    "collapsed": false,
    "pycharm": {
     "name": "#%%\n",
     "is_executing": false
    }
   }
  },
  {
   "cell_type": "markdown",
   "source": [
    "如果没有参数，dir() 会列出你当前定义的名称"
   ],
   "metadata": {
    "collapsed": false
   }
  },
  {
   "cell_type": "code",
   "execution_count": 20,
   "outputs": [
    {
     "name": "stdout",
     "text": [
      "['In', 'Out', '_', '_14', '_15', '_16', '__', '___', '__builtin__', '__builtins__', '__doc__', '__loader__', '__name__', '__package__', '__spec__', '_dh', '_i', '_i1', '_i10', '_i11', '_i12', '_i13', '_i14', '_i15', '_i16', '_i17', '_i18', '_i19', '_i2', '_i20', '_i3', '_i4', '_i5', '_i6', '_i7', '_i8', '_i9', '_ih', '_ii', '_iii', '_oh', '_pydevd_bundle', 'b', 'exit', 'f', 'ff', 'get_ipython', 'quit', 'sys', 't', 'test', 'time']\n"
     ],
     "output_type": "stream"
    }
   ],
   "source": [
    "print(dir())"
   ],
   "metadata": {
    "collapsed": false,
    "pycharm": {
     "name": "#%%\n",
     "is_executing": false
    }
   }
  },
  {
   "cell_type": "markdown",
   "source": [
    "dir() 不会列出内置函数和变量的名称。\n",
    "\n",
    "如果你想要这些，它们的定义是在标准模块 builtins 中"
   ],
   "metadata": {
    "collapsed": false
   }
  },
  {
   "cell_type": "code",
   "execution_count": null,
   "outputs": [],
   "source": [
    "import builtins\n",
    "# print(dir(builtins))\n"
   ],
   "metadata": {
    "collapsed": false,
    "pycharm": {
     "name": "#%%\n"
    }
   }
  },
  {
   "cell_type": "markdown",
   "source": [
    "## 6.4. 包\n",
    "\n",
    "模块名 A.B 表示 A 包中名为 B 的子模块"
   ],
   "metadata": {
    "collapsed": false
   }
  },
  {
   "cell_type": "markdown",
   "source": [
    "当导入这个包时，Python搜索 `sys.path` 里的目录，查找包的子目录。\n",
    "\n",
    "必须要有 `__init__.py `文件才能让 Python 将包含该文件的目录当作包。 \n",
    "\n",
    "在最简单的情况下，`__init__.py` 可以只是一个空文件，但它也可以执行包的初始化代码或设置 `__all__` 变量"
   ],
   "metadata": {
    "collapsed": false
   }
  },
  {
   "cell_type": "markdown",
   "source": [
    "包的用户可以从包中导入单个模块，例如:\n",
    "```\n",
    "import sound.effects.echo\n",
    "```\n",
    "这会加载子模块 `sound.effects.echo` 。但引用它时必须使用它的全名。\n",
    "```\n",
    "sound.effects.echo.echofilter(input, output, delay=0.7, atten=4)\n",
    "```\n",
    "导入子模块的另一种方法是\n",
    "```\n",
    "from sound.effects import echo\n",
    "```\n",
    "\n",
    "这也会加载子模块 echo ，并使其在没有包前缀的情况下可用，因此可以按如下方式使用:\n",
    "```\n",
    "echo.echofilter(input, output, delay=0.7, atten=4)\n",
    "```\n",
    "另一种形式是直接导入所需的函数或变量:\n",
    "```\n",
    "from sound.effects.echo import echofilter\n",
    "```\n",
    "同样，这也会加载子模块 echo，但这会使其函数 echofilter() 直接可用:\n",
    "```\n",
    "echofilter(input, output, delay=0.7, atten=4)\n",
    "```"
   ],
   "metadata": {
    "collapsed": false
   }
  },
  {
   "cell_type": "markdown",
   "source": [
    "当使用 `from package import item` 时，item可以是包的子模块（或子包），\n",
    "也可以是包中定义的其他名称，如函数，类或变量。 \n",
    "\n",
    "import 语句首先测试是否在包中定义了item；如果没有，它假定它是一个模块并尝试加载它。\n",
    "如果找不到它，则引发 ImportError 异常。\n",
    "\n",
    "相反，当使用 import item.subitem.subsubitem 这样的语法时，\n",
    "除了最后一项之外的每一项都必须是一个包；\n",
    "最后一项可以是模块或包，但不能是前一项中定义的类或函数或变量。"
   ],
   "metadata": {
    "collapsed": false
   }
  },
  {
   "cell_type": "markdown",
   "source": [
    "### 6.4.1. 从包中导入 *"
   ],
   "metadata": {
    "collapsed": false
   }
  },
  {
   "cell_type": "markdown",
   "source": [
    "`from sound.effects import *` 会导入包中所有子模块，\n",
    "\n",
    "为避免这种情况，在包的 `__init__.py` 代码定义了一个名为 `__all__` 的列表，\n",
    "它会被视为在遇到 `from package import *` 时应该导入的模块名列表。\n",
    "\n",
    "```\n",
    "__all__ = [\"echo\", \"surround\", \"reverse\"]\n",
    "```\n",
    "\n",
    "这意味着 `from sound.effects import *` 将导入 sound 包的三个命名子模块。"
   ],
   "metadata": {
    "collapsed": false
   }
  },
  {
   "cell_type": "markdown",
   "source": [
    "### 6.4.2. 子包参考\n"
   ],
   "metadata": {
    "collapsed": false,
    "pycharm": {
     "name": "#%% md\n"
    }
   }
  },
  {
   "cell_type": "markdown",
   "source": [
    "使用绝对导入来引用兄弟包的子模块。\n",
    "例如，如果模块 `sound.filters.vocoder` 需要使用 `sound.effects` 包中使用 echo 模块，\n",
    "它可以使用 `from sound.effects import echo` 。\n",
    "\n"
   ],
   "metadata": {
    "collapsed": false
   }
  },
  {
   "cell_type": "markdown",
   "source": [
    "导入使用前导点来指示相对导入中涉及的当前包和父包。例如，从 surround 模块，你可以使用:\n",
    "\n",
    "```\n",
    "from . import echo\n",
    "from .. import formats\n",
    "from ..filters import equalizer\n",
    "```\n",
    "\n",
    "请注意，相对导入是基于当前模块的名称进行导入的。由于主模块的名称总是 `__main__` ，因此用作Python应用程序主模块的模块必须始终使用绝对导入。\n",
    "\n"
   ],
   "metadata": {
    "collapsed": false
   }
  }
 ],
 "metadata": {
  "kernelspec": {
   "display_name": "Python 3",
   "language": "python",
   "name": "python3"
  },
  "language_info": {
   "codemirror_mode": {
    "name": "ipython",
    "version": 2
   },
   "file_extension": ".py",
   "mimetype": "text/x-python",
   "name": "python",
   "nbconvert_exporter": "python",
   "pygments_lexer": "ipython2",
   "version": "2.7.6"
  }
 },
 "nbformat": 4,
 "nbformat_minor": 0
}