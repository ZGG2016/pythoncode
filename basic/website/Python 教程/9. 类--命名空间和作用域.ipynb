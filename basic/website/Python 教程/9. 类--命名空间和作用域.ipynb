{
 "cells": [
  {
   "cell_type": "markdown",
   "metadata": {
    "collapsed": true,
    "pycharm": {
     "name": "#%% md\n"
    }
   },
   "source": [
    "# 9. 类\n",
    "[https://docs.python.org/zh-cn/3.8/tutorial/classes.html](https://docs.python.org/zh-cn/3.8/tutorial/classes.html)"
   ]
  },
  {
   "cell_type": "markdown",
   "source": [
    "类提供了一种组合数据和功能的方法。 \n",
    "\n",
    "创建一个新类意味着创建一个新的`对象类型`，从而允许创建一个该类型的新`实例` 。 "
   ],
   "metadata": {
    "collapsed": false
   }
  },
  {
   "cell_type": "markdown",
   "source": [
    "类继承机制允许多个基类，派生类可以覆盖它基类的任何方法，一个方法可以调用基类中相同名称的的方法。\n",
    "\n",
    "和模块一样，类也拥有 Python 天然的动态特性：它们`在运行时创建，可以在创建后修改`。"
   ],
   "metadata": {
    "collapsed": false,
    "pycharm": {
     "name": "#%% md\n"
    }
   }
  },
  {
   "cell_type": "markdown",
   "source": [
    "## 9.1. 名称和对象\n",
    "\n",
    "多个名称（在多个作用域内）可以绑定到同一个对象。"
   ],
   "metadata": {
    "collapsed": false
   }
  },
  {
   "cell_type": "markdown",
   "source": [
    "## 9.2. Python 作用域和命名空间"
   ],
   "metadata": {
    "collapsed": false
   }
  },
  {
   "cell_type": "markdown",
   "source": [
    "【好好理解】\n",
    "\n",
    "namespace （命名空间）是一个从名字到对象的映射。 \n",
    "\n",
    "大部分命名空间当前都由 Python 字典实现，但一般情况下基本不会去关注它们（除了要面对性能问题时），\n",
    "而且也有可能在将来更改。 \n",
    "\n",
    "下面是几个命名空间的例子：\n",
    "\n",
    "- 存放内置函数的集合（包含 abs() 这样的函数，和内建的异常等）；\n",
    "- 模块中的全局名称；\n",
    "- 函数调用中的局部名称。 \n",
    "- 从某种意义上说，对象的属性集合也是一种命名空间的形式。"
   ],
   "metadata": {
    "collapsed": false
   }
  },
  {
   "cell_type": "markdown",
   "source": [
    "不同命名空间中的名称之间绝对没有关系；\n",
    "例如，两个不同的模块都可以定义一个 maximize 函数而不会产生混淆 --- 模块的用户必须在其前面加上模块名称。"
   ],
   "metadata": {
    "collapsed": false
   }
  },
  {
   "cell_type": "markdown",
   "source": [
    "任何跟在一个点号之后的名称都称为 属性。例如，在表达式 z.real 中，real 是对象 z 的一个属性。\n",
    "\n",
    "在模块的属性和模块中定义的全局名称之间正好存在一个直观的映射：它们共享相同的命名空间\n",
    "\n",
    "存在一个例外。 \n",
    "模块对象有一个秘密的只读属性 `__dict__`，它返回用于实现模块命名空间的字典；\n",
    "`__dict__` 是属性但不是全局名称。 \n",
    "显然，使用这个将违反命名空间实现的抽象，应当仅被用于事后调试器之类的场合。"
   ],
   "metadata": {
    "collapsed": false
   }
  },
  {
   "cell_type": "markdown",
   "source": [
    "在不同时刻创建的命名空间拥有不同的生存期。\n",
    "\n",
    "- 包含内置名称的命名空间是在 Python 解释器启动时创建的，永远不会被删除。\n",
    "- 模块的全局命名空间在【模块定义被读入时】创建；通常，模块命名空间也会持续到解释器退出。\n",
    "- 被解释器的顶层调用执行的语句，从一个脚本文件读取或交互式地读取，被认为是 `__main__` 模块调用的一部分，因此它们拥有自己的全局命名空间。\n",
    "- 函数的本地命名空间在调用该函数时创建，并在函数返回或抛出不在函数内部处理的错误时被删除。 当然，每次递归调用都会有自己的本地命名空间。"
   ],
   "metadata": {
    "collapsed": false,
    "pycharm": {
     "name": "#%% md\n"
    }
   }
  },
  {
   "cell_type": "markdown",
   "source": [
    "**一个 作用域 是一个命名空间可直接访问的 Python 程序的文本区域**。\n",
    "这里的 “可直接访问” 意味着对名称的非限定引用会尝试在命名空间中查找名称。\n",
    "\n",
    "虽然作用域是静态地确定的，但它们会被动态地使用:\n",
    "\n",
    "- 最先搜索的最内部作用域包含局部名称  ①\n",
    "- 从最近的封闭作用域开始搜索的任何封闭函数的作用域包含非局部名称，也包括非全局名称  ②\n",
    "- 倒数第二个作用域包含当前模块的全局名称  ③\n",
    "- 最外面的作用域（最后搜索）是包含内置名称的命名空间 ④"
   ],
   "metadata": {
    "collapsed": false
   }
  },
  {
   "cell_type": "code",
   "execution_count": 6,
   "outputs": [
    {
     "name": "stdout",
     "output_type": "stream",
     "text": [
      "1\n",
      "2\n",
      "3\n"
     ]
    }
   ],
   "source": [
    "def outer_f():\n",
    "    b = 2 # ②\n",
    "    def inner_f():\n",
    "        a = 1  # ①\n",
    "        print(a)\n",
    "        print(b)\n",
    "        print(c)\n",
    "    inner_f()\n",
    "\n",
    "if __name__ == \"__main__\":\n",
    "    c = 3  # ③\n",
    "    outer_f()"
   ],
   "metadata": {
    "collapsed": false,
    "pycharm": {
     "name": "#%%\n"
    }
   }
  },
  {
   "cell_type": "markdown",
   "source": [
    "如果一个名称被声明为全局变量，则所有引用和赋值将直接指向 包含该模块的全局名称 的中间作用域【下例中的 a 所在作用域】。"
   ],
   "metadata": {
    "collapsed": false
   }
  },
  {
   "cell_type": "code",
   "source": [
    "a = \"python\"\n",
    "def f():\n",
    "    global a\n",
    "    a = \"java\"\n",
    "    print(\"inner a = \" +a)\n",
    "    print(id(a))\n",
    "\n",
    "f()\n",
    "print(\"outer a = \" +a)"
   ],
   "metadata": {
    "collapsed": false,
    "pycharm": {
     "name": "#%%\n"
    }
   },
   "execution_count": 4,
   "outputs": [
    {
     "name": "stdout",
     "output_type": "stream",
     "text": [
      "inner a = java\n",
      "2240553605744\n",
      "outer a = java\n"
     ]
    }
   ]
  },
  {
   "cell_type": "markdown",
   "source": [
    "要重新绑定在最内层作用域以外找到的变量，可以使用 nonlocal 语句声明为非本地变量。\n",
    "\n",
    "如果没有被声明为非本地变量，这些变量将是只读的（尝试写入这样的变量只会在最内层作用域中创建一个 新的 局部变量，而同名的外部变量保持不变）。\n"
   ],
   "metadata": {
    "collapsed": false
   }
  },
  {
   "cell_type": "code",
   "execution_count": 9,
   "outputs": [
    {
     "name": "stdout",
     "output_type": "stream",
     "text": [
      "inner a = java\n",
      "2240553605744\n",
      "outer a = java\n",
      "2240553605744\n"
     ]
    }
   ],
   "source": [
    "def outer_f():\n",
    "    a = \"python\"\n",
    "    def inner_f():\n",
    "        nonlocal a\n",
    "        a = \"java\"\n",
    "        print(\"inner a = \" +a)\n",
    "        print(id(a))\n",
    "\n",
    "    inner_f()\n",
    "    print(\"outer a = \" +a)\n",
    "    print(id(a))\n",
    "\n",
    "outer_f()\n"
   ],
   "metadata": {
    "collapsed": false,
    "pycharm": {
     "name": "#%%\n"
    }
   }
  },
  {
   "cell_type": "code",
   "execution_count": null,
   "outputs": [],
   "source": [
    "def outer_f():\n",
    "    a = 1\n",
    "    def inner_f():\n",
    "        # nonlocal a  # 没有这条语句，会报错\n",
    "        # a += 1\n",
    "        print(a)\n",
    "        print(id(a))\n",
    "\n",
    "    inner_f()\n",
    "    print(\"------------\")\n",
    "\n",
    "    print(a)\n",
    "    print(id(a))\n",
    "\n",
    "outer_f()\n"
   ],
   "metadata": {
    "collapsed": false,
    "pycharm": {
     "name": "#%%\n"
    }
   }
  },
  {
   "cell_type": "markdown",
   "source": [
    "通常，当前局部作用域将（按字面文本）引用当前函数的局部名称。\n",
    "\n",
    "在函数以外，局部作用域将引用与全局作用域相一致的命名空间：模块的命名空间。【？？】\n",
    "\n",
    "类定义将在局部命名空间内再放置另一个命名空间。"
   ],
   "metadata": {
    "collapsed": false
   }
  },
  {
   "cell_type": "code",
   "execution_count": 10,
   "outputs": [
    {
     "name": "stdout",
     "output_type": "stream",
     "text": [
      "a = python\n",
      "b = java\n"
     ]
    }
   ],
   "source": [
    "a = \"python\"\n",
    "def f():\n",
    "    b = \"java\"\n",
    "    print(\"a = \" +a)\n",
    "    print(\"b = \" +b)\n",
    "\n",
    "f()\n"
   ],
   "metadata": {
    "collapsed": false,
    "pycharm": {
     "name": "#%%\n"
    }
   }
  },
  {
   "cell_type": "markdown",
   "source": [
    "重要的是应该意识到作用域是按字面文本来确定的：  \n",
    "\n",
    "**在一个模块内定义的函数的全局作用域就是该模块的命名空间，无论该函数从什么地方或以什么别名被调用** \n",
    "\n",
    "另一方面，实际的名称搜索是在运行时动态完成的 --- 但是，Python 正在朝着“编译时静态名称解析”的方向发展，\n",
    "因此不要过于依赖动态名称解析！ （事实上，局部变量已经是被静态确定了。）"
   ],
   "metadata": {
    "collapsed": false
   }
  },
  {
   "cell_type": "markdown",
   "source": [
    "如果不存在生效的 global 或 nonlocal 语句 -- 则对名称的赋值总是会进入最内层作用域。 【仅作用在最内层作用域】\n",
    "\n",
    "赋值不会复制数据 --- 它们只是将名称绑定到对象。【重新绑定一个新的对象上】"
   ],
   "metadata": {
    "collapsed": false,
    "pycharm": {
     "name": "#%% md\n"
    }
   }
  },
  {
   "cell_type": "code",
   "execution_count": 1,
   "outputs": [
    {
     "name": "stdout",
     "text": [
      "inner a = java\n3094991467824\nouter a = python\n3095033106352\n"
     ],
     "output_type": "stream"
    }
   ],
   "source": [
    "a = \"python\"\n",
    "def f():\n",
    "    a = \"java\"\n",
    "    print(\"inner a = \" +a)\n",
    "    print(id(a))\n",
    "\n",
    "f()\n",
    "print(\"outer a = \" +a)\n",
    "print(id(a))"
   ],
   "metadata": {
    "collapsed": false,
    "pycharm": {
     "name": "#%%\n",
     "is_executing": false
    }
   }
  },
  {
   "cell_type": "markdown",
   "source": [
    "删除也是如此：语句 `del x` 会从局部作用域所引用的命名空间中移除对 x 的绑定。 \n",
    "\n",
    "事实上，所有引入新名称的操作都是使用局部作用域：特别地，import 语句和函数定义会在局部作用域中绑定模块或函数名称。"
   ],
   "metadata": {
    "collapsed": false
   }
  },
  {
   "cell_type": "code",
   "execution_count": 3,
   "outputs": [
    {
     "name": "stdout",
     "text": [
      "inner\nouter a = python\n"
     ],
     "output_type": "stream"
    }
   ],
   "source": [
    "def outer_f():\n",
    "    a = \"python\"\n",
    "    def inner_f():\n",
    "        a = \"java\"\n",
    "        del a\n",
    "        try:\n",
    "            print(\"inner a = \" +a)\n",
    "        except NameError:\n",
    "            print(\"inner\")\n",
    "    inner_f()\n",
    "\n",
    "    try:\n",
    "        print(\"outer a = \" +a)\n",
    "    except NameError:\n",
    "        print(\"outer\")\n",
    "outer_f()"
   ],
   "metadata": {
    "collapsed": false,
    "pycharm": {
     "name": "#%%\n",
     "is_executing": false
    }
   }
  },
  {
   "cell_type": "code",
   "execution_count": 5,
   "outputs": [
    {
     "name": "stdout",
     "text": [
      "inner\nouter\n"
     ],
     "output_type": "stream"
    }
   ],
   "source": [
    "def outer_f():\n",
    "    a = \"python\"\n",
    "    def inner_f():\n",
    "        nonlocal a\n",
    "        a = \"java\"\n",
    "        del a\n",
    "        try:\n",
    "            print(\"inner a = \" +a)\n",
    "        except NameError:\n",
    "            print(\"inner\")\n",
    "    inner_f()\n",
    "    \n",
    "    try:\n",
    "        print(\"outer a = \" +a)\n",
    "    except NameError:\n",
    "        print(\"outer\")\n",
    "    \n",
    "outer_f()"
   ],
   "metadata": {
    "collapsed": false,
    "pycharm": {
     "name": "#%%\n",
     "is_executing": false
    }
   }
  },
  {
   "cell_type": "markdown",
   "source": [
    "global 和 nonlocal 总结：\n",
    "\n",
    "- global 语句可被用来表明特定变量生存于全局作用域并且应当在其中被重新绑定；\n",
    "- nonlocal 语句表明特定变量生存于外层作用域中并且应当在其中被重新绑定。\n",
    "\n"
   ],
   "metadata": {
    "collapsed": false
   }
  },
  {
   "cell_type": "markdown",
   "source": [
    "### 9.2.1. 作用域和命名空间示例"
   ],
   "metadata": {
    "collapsed": false
   }
  },
  {
   "cell_type": "code",
   "execution_count": 6,
   "outputs": [
    {
     "name": "stdout",
     "text": [
      "After local assignment: test spam\nAfter nonlocal assignment: nonlocal spam\nAfter global assignment: nonlocal spam\nIn global scope: global spam\n"
     ],
     "output_type": "stream"
    }
   ],
   "source": [
    "def scope_test():\n",
    "    def do_local():\n",
    "        spam = \"local spam\"\n",
    "\n",
    "    def do_nonlocal():\n",
    "        nonlocal spam\n",
    "        spam = \"nonlocal spam\"\n",
    "\n",
    "    def do_global():\n",
    "        global spam\n",
    "        spam = \"global spam\"\n",
    "\n",
    "    spam = \"test spam\"\n",
    "    do_local()\n",
    "    print(\"After local assignment:\", spam)\n",
    "    do_nonlocal()\n",
    "    print(\"After nonlocal assignment:\", spam)\n",
    "    do_global()   # global 语句可被用来表明特定变量生存于全局作用域并且应当在其中被重新绑定\n",
    "    print(\"After global assignment:\", spam)\n",
    "\n",
    "scope_test()\n",
    "print(\"In global scope:\", spam)\n",
    "\n"
   ],
   "metadata": {
    "collapsed": false,
    "pycharm": {
     "name": "#%%\n",
     "is_executing": false
    }
   }
  }
 ],
 "metadata": {
  "kernelspec": {
   "display_name": "Python 3",
   "language": "python",
   "name": "python3"
  },
  "language_info": {
   "codemirror_mode": {
    "name": "ipython",
    "version": 2
   },
   "file_extension": ".py",
   "mimetype": "text/x-python",
   "name": "python",
   "nbconvert_exporter": "python",
   "pygments_lexer": "ipython2",
   "version": "2.7.6"
  },
  "pycharm": {
   "stem_cell": {
    "cell_type": "raw",
    "source": [],
    "metadata": {
     "collapsed": false
    }
   }
  }
 },
 "nbformat": 4,
 "nbformat_minor": 0
}