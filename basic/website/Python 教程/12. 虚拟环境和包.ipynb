{
 "cells": [
  {
   "cell_type": "markdown",
   "metadata": {
    "collapsed": true,
    "pycharm": {
     "name": "#%% md\n"
    }
   },
   "source": [
    "# 12. 虚拟环境和包\n",
    "\n",
    "[https://docs.python.org/zh-cn/3.8/tutorial/venv.html](https://docs.python.org/zh-cn/3.8/tutorial/venv.html)"
   ]
  },
  {
   "cell_type": "markdown",
   "source": [
    "## 12.1. 概述"
   ],
   "metadata": {
    "collapsed": false
   }
  },
  {
   "cell_type": "markdown",
   "source": [
    "一个Python安装可能无法满足每个应用程序的要求。\n",
    "\n",
    "如果应用程序A需要特定模块的1.0版本，但应用程序B需要2.0版本，则需求存在冲突，安装版本1.0或2.0将导致某一个应用程序无法运行。\n",
    "\n",
    "这个问题的解决方案是创建一个 virtual environment，一个目录树，其中安装有特定Python版本，以及许多其他包。\n",
    "\n",
    "然后，不同的应用将可以使用不同的虚拟环境。"
   ],
   "metadata": {
    "collapsed": false
   }
  },
  {
   "cell_type": "markdown",
   "source": [
    "## 12.2. 创建虚拟环境"
   ],
   "metadata": {
    "collapsed": false
   }
  },
  {
   "cell_type": "markdown",
   "source": [
    "C:\\Users\\zgg\\Desktop>python -m venv tutorial-env\n",
    "\n",
    "C:\\Users\\zgg\\Desktop>cd tutorial-env\n",
    "\n",
    "C:\\Users\\zgg\\Desktop\\tutorial-env>cd Scripts\n",
    "\n",
    "C:\\Users\\zgg\\Desktop\\tutorial-env\\Scripts>activate.bat\n",
    "\n",
    "(tutorial-env) C:\\Users\\zgg\\Desktop\\tutorial-env\\Scripts>"
   ],
   "metadata": {
    "collapsed": false
   }
  },
  {
   "cell_type": "markdown",
   "source": [
    "## 12.3. 使用pip管理包\n"
   ],
   "metadata": {
    "collapsed": false
   }
  },
  {
   "cell_type": "markdown",
   "source": [
    "pip install novas\n",
    "\n",
    "pip install requests==2.6.0\n",
    "\n",
    "pip install --upgrade requests\n",
    "\n",
    "pip uninstall novas requests\n",
    "\n",
    "pip show requests\n",
    "\n",
    "pip list"
   ],
   "metadata": {
    "collapsed": false
   }
  },
  {
   "cell_type": "markdown",
   "source": [
    "pip freeze` 将生成一个类似的已安装包列表，但输出使用 pip install 期望的格式。\n",
    "\n",
    "一个常见的约定是将此列表放在 requirements.txt 文件中：\n",
    "\n",
    "```\n",
    "(tutorial-env) $ pip freeze > requirements.txt\n",
    "(tutorial-env) $ cat requirements.txt\n",
    "novas==3.1.1.3\n",
    "numpy==1.9.2\n",
    "requests==2.7.0\n",
    "```\n",
    "\n",
    "然后可以将 requirements.txt 提交给版本控制并作为应用程序的一部分提供。\n",
    "\n",
    "然后用户可以使用 `install -r` 安装所有必需的包：\n",
    "\n",
    "```\n",
    "(tutorial-env) $ pip install -r requirements.txt\n",
    "Collecting novas==3.1.1.3 (from -r requirements.txt (line 1))\n",
    "  ...\n",
    "Collecting numpy==1.9.2 (from -r requirements.txt (line 2))\n",
    "  ...\n",
    "Collecting requests==2.7.0 (from -r requirements.txt (line 3))\n",
    "  ...\n",
    "Installing collected packages: novas, numpy, requests\n",
    "  Running setup.py install for novas\n",
    "Successfully installed novas-3.1.1.3 numpy-1.9.2 requests-2.7.0\n",
    "```"
   ],
   "metadata": {
    "collapsed": false
   }
  }
 ],
 "metadata": {
  "kernelspec": {
   "display_name": "Python 3",
   "language": "python",
   "name": "python3"
  },
  "language_info": {
   "codemirror_mode": {
    "name": "ipython",
    "version": 2
   },
   "file_extension": ".py",
   "mimetype": "text/x-python",
   "name": "python",
   "nbconvert_exporter": "python",
   "pygments_lexer": "ipython2",
   "version": "2.7.6"
  }
 },
 "nbformat": 4,
 "nbformat_minor": 0
}