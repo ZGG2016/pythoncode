{
 "cells": [
  {
   "cell_type": "code",
   "metadata": {
    "collapsed": true,
    "pycharm": {
     "name": "#%% \n"
    }
   },
   "source": [
    "import sys"
   ],
   "execution_count": null,
   "outputs": []
  },
  {
   "cell_type": "markdown",
   "source": [
    "# 2. 使用 Python 解释器\n",
    "\n",
    "[https://docs.python.org/zh-cn/3.8/tutorial/interpreter.html](https://docs.python.org/zh-cn/3.8/tutorial/interpreter.html)"
   ],
   "metadata": {
    "collapsed": false,
    "pycharm": {
     "name": "#%% md\n"
    }
   }
  },
  {
   "cell_type": "markdown",
   "source": [
    "## 2.1. 调用解释器\n",
    "\n",
    "`python -c command [arg] ...`，其中 command 要换成想执行的指令，就像命令行的 -c 选项。\n",
    "\n",
    "由于 Python 代码中经常会包含对终端来说比较特殊的字符，通常情况下都建议用英文单引号把 command 括起来。\n",
    "\n",
    "```\n",
    "PS C:\\Users\\zgg\\Desktop\\pythoncode> python -c 'import sys,time;print(time.time());print(sys.argv[0])'\n",
    "1648990379.4049082\n",
    "-c\n",
    "```\n",
    "\n",
    "有些 Python 模块也可以作为脚本使用。可以这样输入：`python -m module [arg] ...`，这会执行 module 的源文件，就跟你在命令行把路径写全了一样。\n",
    "\n",
    "[https://www.jianshu.com/p/d8952c3063e0](https://www.jianshu.com/p/d8952c3063e0)\n",
    "\n",
    "在运行脚本的时候，有时可能也会需要在运行后进入交互模式。这种时候在文件参数前，加上选项 `-i` 就可以了。"
   ],
   "metadata": {
    "collapsed": false,
    "pycharm": {
     "name": "#%% md\n"
    }
   }
  },
  {
   "cell_type": "markdown",
   "source": [
    "### 2.1.1. 传入参数\n",
    "\n",
    "解释器会读取命令行参数，转化为字符串列表存入 `sys` 模块中的 `argv` 变量中。\n",
    "\n",
    "这个列表最少也会有一个元素:\n",
    "\n",
    "- 如果没有给定输入参数，`sys.argv[0]` 就是个空字符串。\n",
    "\n",
    "- 如果给定的脚本名是 '-' (表示标准输入)，`sys.argv[0]` 就是 '-'。\n",
    "\n",
    "    ```\n",
    "    PS C:\\Users\\zgg\\Desktop\\pythoncode> python .\\test.py 2\n",
    "    .\\test.py \n",
    "    2\n",
    "    ```\n",
    "\n",
    "- 使用 `-c command` 时，`sys.argv[0]` 就会是 '-c'。\n",
    "\n",
    "- 如果使用选项 `-m module`，`sys.argv[0]` 就是包含目录的模块全名。\n",
    "\n",
    "在 `-c command` 或 `-m module` 之后的选项不会被解释器处理，而会直接留在 `sys.argv` 中给命令或模块来处理。"
   ],
   "metadata": {
    "collapsed": false,
    "pycharm": {
     "name": "#%% md\n"
    }
   }
  },
  {
   "cell_type": "code",
   "execution_count": 4,
   "outputs": [
    {
     "name": "stdout",
     "text": [
      "c:\\program files\\python38\\lib\\site-packages\\ipykernel_launcher.py\n-f\n"
     ],
     "output_type": "stream"
    }
   ],
   "source": [
    "# test.py\n",
    "a = sys.argv[0]\n",
    "b = sys.argv[1]\n",
    "print(a)\n",
    "print(b)"
   ],
   "metadata": {
    "collapsed": false,
    "pycharm": {
     "name": "#%%\n",
     "is_executing": false
    }
   }
  },
  {
   "cell_type": "markdown",
   "source": [
    "### 2.2.1. 源文件的字符编码\n",
    "\n",
    "默认情况下，Python 源码文件以 UTF-8 编码方式处理。\n",
    "\n",
    "如果不使用默认编码，要声明文件所使用的编码，文件的第一行要写成特殊的注释。"
   ],
   "metadata": {
    "collapsed": false
   }
  },
  {
   "cell_type": "code",
   "execution_count": null,
   "outputs": [],
   "source": [
    "# 声明使用 Windows-1252 编码\n",
    "\n",
    "# -*- coding: cp1252 -*-\n",
    "\n",
    "# 或：\n",
    "\n",
    "#!/usr/bin/env python3\n",
    "# -*- coding: cp1252 -*-\n"
   ],
   "metadata": {
    "collapsed": false,
    "pycharm": {
     "name": "#%%\n"
    }
   }
  }
 ],
 "metadata": {
  "kernelspec": {
   "display_name": "Python 3",
   "language": "python",
   "name": "python3"
  },
  "language_info": {
   "codemirror_mode": {
    "name": "ipython",
    "version": 2
   },
   "file_extension": ".py",
   "mimetype": "text/x-python",
   "name": "python",
   "nbconvert_exporter": "python",
   "pygments_lexer": "ipython2",
   "version": "2.7.6"
  },
  "pycharm": {
   "stem_cell": {
    "cell_type": "raw",
    "source": [],
    "metadata": {
     "collapsed": false
    }
   }
  }
 },
 "nbformat": 4,
 "nbformat_minor": 0
}