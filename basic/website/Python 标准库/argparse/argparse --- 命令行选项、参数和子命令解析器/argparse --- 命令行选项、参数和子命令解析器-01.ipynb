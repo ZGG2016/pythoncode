{
 "cells": [
  {
   "cell_type": "markdown",
   "source": [
    "# argparse --- 命令行选项、参数和子命令解析器\n",
    "[https://docs.python.org/zh-cn/3.8/library/argparse.html#module-argparse](https://docs.python.org/zh-cn/3.8/library/argparse.html#module-argparse)"
   ],
   "metadata": {
    "collapsed": false
   }
  },
  {
   "cell_type": "code",
   "execution_count": null,
   "outputs": [],
   "source": [
    "import argparse"
   ],
   "metadata": {
    "collapsed": false,
    "pycharm": {
     "name": "#%%\n"
    }
   }
  },
  {
   "cell_type": "markdown",
   "source": [
    "## 1.1 ArgumentParser 对象"
   ],
   "metadata": {
    "collapsed": false
   }
  },
  {
   "cell_type": "markdown",
   "source": [
    "class argparse.ArgumentParser(...)\n",
    "创建一个新的 ArgumentParser 对象。\n",
    "\n",
    "所有的参数都应当作为关键字参数传入。"
   ],
   "metadata": {
    "collapsed": false
   }
  },
  {
   "cell_type": "markdown",
   "source": [
    "### 1.1.1 prog\n",
    "\n",
    "默认情况下，ArgumentParser 对象使用 `sys.argv[0]` 来确定如何在帮助消息中显示程序名称。\n",
    "\n",
    "这一默认值几乎总是可取的，因为它将使帮助消息与从命令行调用此程序的方式相匹配。\n",
    "\n",
    "无论程序从哪个目录下被调用，都这么显示。"
   ],
   "metadata": {
    "collapsed": false
   }
  },
  {
   "cell_type": "code",
   "execution_count": null,
   "outputs": [],
   "source": [
    "parser = argparse.ArgumentParser()\n",
    "parser.add_argument('--foo', help='foo help')\n",
    "parser.print_help()"
   ],
   "metadata": {
    "collapsed": false,
    "pycharm": {
     "name": "#%%\n"
    }
   }
  },
  {
   "cell_type": "markdown",
   "source": [
    "可以使用 `prog= 参数` 为 ArgumentParser 指定另一个值"
   ],
   "metadata": {
    "collapsed": false
   }
  },
  {
   "cell_type": "code",
   "execution_count": null,
   "outputs": [],
   "source": [
    "parser = argparse.ArgumentParser(prog=\"prog-test\")\n",
    "parser.add_argument('--foo', help='foo help')\n",
    "parser.print_help()"
   ],
   "metadata": {
    "collapsed": false,
    "pycharm": {
     "name": "#%%\n"
    }
   }
  },
  {
   "cell_type": "markdown",
   "source": [
    "无论是从 sys.argv[0] 或是从 `prog= 参数` 确定的程序名称，\n",
    "都可以在帮助消息里通过 %(prog)s 格式说明符来引用。"
   ],
   "metadata": {
    "collapsed": false
   }
  },
  {
   "cell_type": "code",
   "execution_count": null,
   "outputs": [],
   "source": [
    "parser = argparse.ArgumentParser(prog=\"prog-test\")  # 可以使用 `prog= 参数` 为 ArgumentParser 指定另一个值\n",
    "parser.add_argument('--foo', help='foo of the %(prog)s program') # 在帮助消息里通过 %(prog)s 格式说明符来引用\n",
    "parser.print_help()"
   ],
   "metadata": {
    "collapsed": false,
    "pycharm": {
     "name": "#%%\n"
    }
   }
  },
  {
   "cell_type": "markdown",
   "source": [
    "### 1.1.2 usage\n",
    "改变帮助信息里的 usage 那一行"
   ],
   "metadata": {
    "collapsed": false
   }
  },
  {
   "cell_type": "code",
   "execution_count": null,
   "outputs": [],
   "source": [
    "parser = argparse.ArgumentParser(prog='PROG')\n",
    "parser.add_argument('--foo', nargs='?', help='foo help')\n",
    "parser.add_argument('bar', nargs='+', help='bar help')\n",
    "parser.print_help()"
   ],
   "metadata": {
    "collapsed": false,
    "pycharm": {
     "name": "#%% \n"
    }
   }
  },
  {
   "cell_type": "code",
   "execution_count": null,
   "outputs": [],
   "source": [
    "parser = argparse.ArgumentParser(prog='PROG', usage='%(prog)s [options]')\n",
    "parser.add_argument('--foo', nargs='?', help='foo help')\n",
    "parser.add_argument('bar', nargs='+', help='bar help')\n",
    "parser.print_help()"
   ],
   "metadata": {
    "collapsed": false,
    "pycharm": {
     "name": "#%% \n"
    }
   }
  },
  {
   "cell_type": "markdown",
   "source": [
    "### 1.1.3 description\n",
    "简要描述这个程序做什么以及怎么做"
   ],
   "metadata": {
    "collapsed": false
   }
  },
  {
   "cell_type": "code",
   "execution_count": null,
   "outputs": [],
   "source": [
    "# 在默认情况下，description 将被换行以便适应给定的空间。\n",
    "# 如果想改变这种行为，见 formatter_class 参数\n",
    "parser = argparse.ArgumentParser(description='A foo that bars')\n",
    "parser.print_help()"
   ],
   "metadata": {
    "collapsed": false,
    "pycharm": {
     "name": "#%%\n"
    }
   }
  },
  {
   "cell_type": "markdown",
   "source": [
    "### 1.1.4 epilog\n",
    "在 description 参数后显示额外的对程序的描述"
   ],
   "metadata": {
    "collapsed": false
   }
  },
  {
   "cell_type": "code",
   "execution_count": null,
   "outputs": [],
   "source": [
    "# epilog= text 在默认情况下会换行，\n",
    "# 但是这种行为能够被调整通过提供 formatter_class 参数给 ArgumentParse.\n",
    "parser = argparse.ArgumentParser(\n",
    "    description='A foo that bars',\n",
    "    epilog=\"And that's how you'd foo a bar\")\n",
    "parser.print_help()"
   ],
   "metadata": {
    "collapsed": false,
    "pycharm": {
     "name": "#%%\n"
    }
   }
  },
  {
   "cell_type": "markdown",
   "source": [
    "### 1.1.5 parents\n",
    "通过 `parents= 参数` 让多个解析器使用相同的参数而不是重复这些参数的定义"
   ],
   "metadata": {
    "collapsed": false
   }
  },
  {
   "cell_type": "code",
   "execution_count": null,
   "outputs": [],
   "source": [
    "# 指定 add_help=False . \n",
    "# 否则， ArgumentParse 将会看到两个 -h/--help 选项（一个在父参数中一个在子参数中）\n",
    "# 并且产生一个错误\n",
    "parent_parser = argparse.ArgumentParser(add_help=False)\n",
    "parent_parser.add_argument('--parent', type=int)\n",
    "\n",
    "foo_parser = argparse.ArgumentParser(parents=[parent_parser])  # 这里的列表\n",
    "foo_parser.add_argument('foo')\n",
    "print(foo_parser.parse_args(['--parent', '2', 'XXX']))\n",
    "\n",
    "bar_parser = argparse.ArgumentParser(parents=[parent_parser])\n",
    "bar_parser.add_argument('--bar')\n",
    "print(bar_parser.parse_args(['--bar', 'YYY']))"
   ],
   "metadata": {
    "collapsed": false,
    "pycharm": {
     "name": "#%%\n"
    }
   }
  },
  {
   "cell_type": "markdown",
   "source": [
    "注解 你在通过``parents=`` 传递解析器之前必须完全初始化它们。 \n",
    "\n",
    "如果你在子解析器之后改变父解析器，这些改变将不会反映在子解析器上。"
   ],
   "metadata": {
    "collapsed": false
   }
  },
  {
   "cell_type": "markdown",
   "source": [
    "### 1.1.6 formatter_class\n",
    "自定义帮助信息的格式"
   ],
   "metadata": {
    "collapsed": false
   }
  },
  {
   "cell_type": "code",
   "execution_count": null,
   "outputs": [],
   "source": [
    "import textwrap\n",
    "parser = argparse.ArgumentParser(\n",
    "    prog='PROG',\n",
    "    description=textwrap.dedent('''\\\n",
    "        Please do not mess up this text!\n",
    "        --------------------------------\n",
    "            I have indented it\n",
    "            exactly the way\n",
    "            I want it\n",
    "        '''))\n",
    "parser.print_help()"
   ],
   "metadata": {
    "collapsed": false,
    "pycharm": {
     "name": "#%%\n"
    }
   }
  },
  {
   "cell_type": "markdown",
   "source": [
    "RawDescriptionHelpFormatter 【仅针对ArgumentParser】\n",
    "\n",
    "表示 description 和 epilog 已经被正确的格式化了，不能在命令行中被自动换行"
   ],
   "metadata": {
    "collapsed": false
   }
  },
  {
   "cell_type": "code",
   "execution_count": null,
   "outputs": [],
   "source": [
    "import textwrap\n",
    "parser = argparse.ArgumentParser(\n",
    "    prog='PROG',\n",
    "    formatter_class=argparse.RawDescriptionHelpFormatter,\n",
    "    description=textwrap.dedent('''\\\n",
    "        Please do not mess up this text!\n",
    "        --------------------------------\n",
    "            I have indented it\n",
    "            exactly the way           \n",
    "            I want it\n",
    "        '''))\n",
    "parser.print_help()"
   ],
   "metadata": {
    "collapsed": false,
    "pycharm": {
     "name": "#%%\n"
    }
   }
  },
  {
   "cell_type": "markdown",
   "source": [
    "RawTextHelpFormatter 保留所有种类文字的空格，包括参数的描述。 【针对ArgumentParser、add_argument】\n",
    "\n",
    "然而，多重的新行会被替换成一行。如果你想保留多重的空白行，可以在新行之间加空格。【？】"
   ],
   "metadata": {
    "collapsed": false
   }
  },
  {
   "cell_type": "code",
   "execution_count": null,
   "outputs": [],
   "source": [
    "import textwrap\n",
    "parser = argparse.ArgumentParser(\n",
    "    prog='PROG',\n",
    "    description=textwrap.dedent('''\\\n",
    "        Please do not mess up this text!\n",
    "        --------------------------------\n",
    "            I have indented it\n",
    "            exactly the way\n",
    "            I want it\n",
    "        '''))\n",
    "parser.add_argument(\n",
    "    '--bar', \n",
    "    help=textwrap.dedent('''\n",
    "        argparse ArgumentParser\n",
    "            RawTextHelpFormatter\n",
    "        '''))\n",
    "parser.print_help()"
   ],
   "metadata": {
    "collapsed": false,
    "pycharm": {
     "name": "#%%\n"
    }
   }
  },
  {
   "cell_type": "code",
   "execution_count": null,
   "outputs": [],
   "source": [
    "import textwrap\n",
    "parser = argparse.ArgumentParser(\n",
    "    prog='PROG',\n",
    "    formatter_class=argparse.RawTextHelpFormatter,\n",
    "    description=textwrap.dedent('''\\\n",
    "        Please do not mess up this text!\n",
    "        --------------------------------\n",
    "            I have indented it\n",
    "            exactly the way\n",
    "            I want it\n",
    "        '''))\n",
    "parser.add_argument(\n",
    "    '--bar', \n",
    "    help=textwrap.dedent('''\n",
    "        argparse ArgumentParser\n",
    "        \n",
    "            RawTextHelpFormatter\n",
    "        '''))\n",
    "parser.print_help()"
   ],
   "metadata": {
    "collapsed": false,
    "pycharm": {
     "name": "#%%\n"
    }
   }
  },
  {
   "cell_type": "markdown",
   "source": [
    "ArgumentDefaultsHelpFormatter 自动添加【默认值的信息】到每一个帮助信息的参数中"
   ],
   "metadata": {
    "collapsed": false
   }
  },
  {
   "cell_type": "code",
   "execution_count": null,
   "outputs": [],
   "source": [
    "parser = argparse.ArgumentParser(\n",
    "    prog='PROG',\n",
    "    formatter_class=argparse.ArgumentDefaultsHelpFormatter)\n",
    "parser.add_argument('--foo', type=int, default=42, help='FOO!')\n",
    "parser.add_argument('bar', nargs='*', default=[1, 2, 3], help='BAR!')\n",
    "parser.print_help()"
   ],
   "metadata": {
    "collapsed": false,
    "pycharm": {
     "name": "#%%\n"
    }
   }
  },
  {
   "cell_type": "markdown",
   "source": [
    "MetavarTypeHelpFormatter 为它的值在每一个参数中使用 type 的参数名当作它的显示名\n",
    "（而不是使用通常的格式 dest ):"
   ],
   "metadata": {
    "collapsed": false
   }
  },
  {
   "cell_type": "code",
   "execution_count": null,
   "outputs": [],
   "source": [
    "parser = argparse.ArgumentParser(\n",
    "    prog='PROG',\n",
    "    formatter_class=argparse.MetavarTypeHelpFormatter)\n",
    "parser.add_argument('--foo', type=int)\n",
    "parser.add_argument('bar', type=float)\n",
    "parser.print_help()"
   ],
   "metadata": {
    "collapsed": false,
    "pycharm": {
     "name": "#%%\n"
    }
   }
  },
  {
   "cell_type": "markdown",
   "source": [
    "### 1.1.7 prefix_chars\n",
    "使用其他符号做前缀"
   ],
   "metadata": {
    "collapsed": false
   }
  },
  {
   "cell_type": "code",
   "execution_count": null,
   "outputs": [],
   "source": [
    "# prefix_chars 指定的字符串必须包含 `-` 符号\n",
    "parser = argparse.ArgumentParser(prog='PROG', prefix_chars='-+') \n",
    "parser.add_argument('+f')\n",
    "parser.add_argument('++bar')\n",
    "parser.add_argument('-b')\n",
    "print(parser.parse_args('+f X ++bar Y'.split()))\n",
    "print(\"-----------------------------\")\n",
    "parser.print_help()"
   ],
   "metadata": {
    "collapsed": false,
    "pycharm": {
     "name": "#%%\n"
    }
   }
  },
  {
   "cell_type": "markdown",
   "source": [
    "### 1.1.8 fromfile_prefix_chars\n",
    "把特别长的参数列表存入一个文件中\n",
    "\n",
    "`fromfile_prefix_chars= 参数`默认为 None，意味着参数不会被当作文件对待"
   ],
   "metadata": {
    "collapsed": false
   }
  },
  {
   "cell_type": "code",
   "execution_count": null,
   "outputs": [],
   "source": [
    "with open('args.txt', 'w') as fp:\n",
    "    fp.write('-f\\nbar')  # 从文件读取的参数在默认情况下必须一个一行\n",
    "parser = argparse.ArgumentParser(fromfile_prefix_chars='@')\n",
    "parser.add_argument('-f')\n",
    "# 所有类型的字符的参数会被文件包含的参数替代\n",
    "print(parser.parse_args(['-f', 'foo', '@args.txt']))"
   ],
   "metadata": {
    "collapsed": false,
    "pycharm": {
     "name": "#%%\n"
    }
   }
  },
  {
   "cell_type": "markdown",
   "source": [
    "### 1.1.9 argument_default【？】\n",
    "一般情况下，参数默认会通过设置一个默认到 add_argument() \n",
    "或者调用带一组指定键值对的 ArgumentParser.set_defaults() 方法。\n",
    "\n",
    "但是有些时候，为参数指定一个普遍适用的解析器会更有用。\n",
    "\n",
    "这能够通过传输 argument_default= 关键词参数给 ArgumentParser 来完成。\n",
    "\n",
    "举个栗子，要全局禁止在 parse_args() 中创建属性，我们提供 argument_default=SUPPRESS:"
   ],
   "metadata": {
    "collapsed": false
   }
  },
  {
   "cell_type": "code",
   "execution_count": null,
   "outputs": [],
   "source": [
    "parser = argparse.ArgumentParser(argument_default=argparse.SUPPRESS)\n",
    "parser.add_argument('--foo')\n",
    "parser.add_argument('bar', nargs='?')\n",
    "print(parser.parse_args(['--foo', '1', 'BAR']))\n",
    "print(parser.parse_args([]))"
   ],
   "metadata": {
    "collapsed": false,
    "pycharm": {
     "name": "#%%\n"
    }
   }
  },
  {
   "cell_type": "markdown",
   "source": [
    "### 1.1.10 allow_abbrev\n",
    "正常情况下，当你向 ArgumentParser 的 parse_args() 方法传入一个参数列表时，\n",
    "它会识别缩写。\n",
    "\n",
    "这个特性可以设置 allow_abbrev 为 False 来关闭。"
   ],
   "metadata": {
    "collapsed": false
   }
  },
  {
   "cell_type": "code",
   "execution_count": null,
   "outputs": [],
   "source": [
    "parser = argparse.ArgumentParser(prog='PROG')\n",
    "parser.add_argument('--foobar', action='store_true')\n",
    "parser.add_argument('--foonley', action='store_false')\n",
    "print(parser.parse_args(['--foobar','--foon']))"
   ],
   "metadata": {
    "collapsed": false,
    "pycharm": {
     "name": "#%%\n"
    }
   }
  },
  {
   "cell_type": "code",
   "execution_count": null,
   "outputs": [],
   "source": [
    "parser = argparse.ArgumentParser(prog='PROG', allow_abbrev=False)\n",
    "parser.add_argument('--foobar', action='store_true')\n",
    "parser.add_argument('--foonley', action='store_false')\n",
    "print(parser.parse_args(['--foobar','--foon']))"
   ],
   "metadata": {
    "collapsed": false,
    "pycharm": {
     "name": "#%%\n"
    }
   }
  },
  {
   "cell_type": "markdown",
   "source": [
    "### 1.1.11 conflict_handler\n",
    "ArgumentParser 对象不允许在 相同选项字符串 下有两种行为\n",
    "\n",
    "有些时候（例如：使用 parents），重写旧的有相同选项字符串的参数会更有用。"
   ],
   "metadata": {
    "collapsed": false
   }
  },
  {
   "cell_type": "code",
   "execution_count": null,
   "outputs": [],
   "source": [
    "parser = argparse.ArgumentParser(prog='PROG')\n",
    "parser.add_argument('-f', '--foo', help='old foo help')\n",
    "parser.add_argument('--foo', help='new foo help')\n",
    "parser.print_help()"
   ],
   "metadata": {
    "collapsed": false,
    "pycharm": {
     "name": "#%%\n"
    }
   }
  },
  {
   "cell_type": "code",
   "execution_count": null,
   "outputs": [],
   "source": [
    "parser = argparse.ArgumentParser(prog='PROG', conflict_handler='resolve')\n",
    "parser.add_argument('-f', '--foo', help='old foo help')\n",
    "parser.add_argument('--foo', help='new foo help')\n",
    "parser.add_argument('--foo', help='new new foo help')\n",
    "parser.print_help()"
   ],
   "metadata": {
    "collapsed": false,
    "pycharm": {
     "name": "#%%\n"
    }
   }
  },
  {
   "cell_type": "markdown",
   "source": [
    "### 1.1.12 add_help\n",
    "关闭额外的帮助信息"
   ],
   "metadata": {
    "collapsed": false
   }
  },
  {
   "cell_type": "code",
   "execution_count": null,
   "outputs": [],
   "source": [
    "parser = argparse.ArgumentParser(prog='PROG', add_help=False)\n",
    "parser.add_argument('--foo', help='foo help')\n",
    "parser.print_help()\n"
   ],
   "metadata": {
    "collapsed": false,
    "pycharm": {
     "name": "#%%\n"
    }
   }
  },
  {
   "cell_type": "code",
   "execution_count": null,
   "outputs": [],
   "source": [
    "parser = argparse.ArgumentParser(prog='PROG')\n",
    "parser.add_argument('--foo', help='foo help')\n",
    "parser.print_help()\n"
   ],
   "metadata": {
    "collapsed": false,
    "pycharm": {
     "name": "#%%\n"
    }
   }
  }
 ],
 "metadata": {
  "kernelspec": {
   "display_name": "Python 3",
   "language": "python",
   "name": "python3"
  },
  "language_info": {
   "codemirror_mode": {
    "name": "ipython",
    "version": 2
   },
   "file_extension": ".py",
   "mimetype": "text/x-python",
   "name": "python",
   "nbconvert_exporter": "python",
   "pygments_lexer": "ipython2",
   "version": "2.7.6"
  },
  "pycharm": {
   "stem_cell": {
    "cell_type": "raw",
    "source": [],
    "metadata": {
     "collapsed": false
    }
   }
  }
 },
 "nbformat": 4,
 "nbformat_minor": 0
}