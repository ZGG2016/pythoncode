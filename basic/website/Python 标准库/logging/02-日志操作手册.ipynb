{
 "cells": [
  {
   "cell_type": "markdown",
   "metadata": {
    "collapsed": true,
    "pycharm": {
     "name": "#%% md\n"
    }
   },
   "source": [
    "# 日志操作手册\n",
    "\n",
    "[https://docs.python.org/zh-cn/3.8/howto/logging-cookbook.html#logging-cookbook](https://docs.python.org/zh-cn/3.8/howto/logging-cookbook.html#logging-cookbook)"
   ]
  },
  {
   "cell_type": "markdown",
   "source": [
    "在多个模块中记录日志.py\n",
    "\n",
    "在多个线程中记录日志.py\n",
    "\n",
    "多个日志处理器以及多种格式化器.py\n",
    "\n",
    "在多个地方记录日志.py\n",
    "\n",
    "日志服务器配置示例.py"
   ],
   "metadata": {
    "collapsed": false
   }
  }
 ],
 "metadata": {
  "kernelspec": {
   "display_name": "Python 3",
   "language": "python",
   "name": "python3"
  },
  "language_info": {
   "codemirror_mode": {
    "name": "ipython",
    "version": 2
   },
   "file_extension": ".py",
   "mimetype": "text/x-python",
   "name": "python",
   "nbconvert_exporter": "python",
   "pygments_lexer": "ipython2",
   "version": "2.7.6"
  }
 },
 "nbformat": 4,
 "nbformat_minor": 0
}