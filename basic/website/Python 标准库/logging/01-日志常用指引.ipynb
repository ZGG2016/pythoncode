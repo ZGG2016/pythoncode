{
 "cells": [
  {
   "cell_type": "markdown",
   "metadata": {
    "collapsed": true,
    "pycharm": {
     "name": "#%% md\n"
    }
   },
   "source": [
    "# 日志常用指引\n",
    "[https://docs.python.org/zh-cn/3.8/howto/logging.html#logging-basic-tutorial](https://docs.python.org/zh-cn/3.8/howto/logging.html#logging-basic-tutorial)"
   ]
  },
  {
   "cell_type": "markdown",
   "source": [
    "## 1.1 日志基础教程"
   ],
   "metadata": {
    "collapsed": false,
    "pycharm": {
     "name": "#%% md\n"
    }
   }
  },
  {
   "cell_type": "code",
   "execution_count": 1,
   "outputs": [],
   "source": [
    "import logging"
   ],
   "metadata": {
    "collapsed": false,
    "pycharm": {
     "name": "#%%\n",
     "is_executing": false
    }
   }
  },
  {
   "cell_type": "markdown",
   "source": [
    "各级别适用性：\n",
    "- DEBUG  细节信息，仅当诊断问题时适用\n",
    "- INFO  确认程序按预期运行\n",
    "- WARNING  表明有已经或即将发生的意外（例如：磁盘空间不足）。程序仍按预期进行\n",
    "- ERROR  由于严重的问题，程序的某些功能已经不能正常执行\n",
    "- CRITICAL  严重的错误，表明程序已不能继续执行"
   ],
   "metadata": {
    "collapsed": false,
    "pycharm": {
     "name": "#%% md\n"
    }
   }
  },
  {
   "cell_type": "markdown",
   "source": [
    "默认的级别是`WARNING`，意味着只会追踪该级别及以上的事件，除非更改日志配置。\n",
    "\n",
    "以严重性递增: `DEBUG --> INFO --> WARNING --> ERROR --> CRITICAL`"
   ],
   "metadata": {
    "collapsed": false
   }
  },
  {
   "cell_type": "code",
   "execution_count": 2,
   "outputs": [
    {
     "name": "stderr",
     "text": [
      "WARNING:root:this is a logging warning\n",
      "ERROR:root:this is a logging error\n"
     ],
     "output_type": "stream"
    }
   ],
   "source": [
    "logging.info(\"this is a logging info\")\n",
    "logging.warning(\"this is a logging warning\")\n",
    "logging.error(\"this is a logging error\")"
   ],
   "metadata": {
    "collapsed": false,
    "pycharm": {
     "name": "#%%\n",
     "is_executing": false
    }
   }
  },
  {
   "cell_type": "markdown",
   "source": [
    "将日志事件记录到文件： `01-日志常用指引-01-将日志事件记录到文件.py`\n",
    "\n",
    "在多个模块中记录日志：`01-日志常用指引-02-在多个模块中记录日志.py`"
   ],
   "metadata": {
    "collapsed": false,
    "pycharm": {
     "name": "#%% md\n"
    }
   }
  },
  {
   "cell_type": "code",
   "execution_count": 6,
   "outputs": [
    {
     "name": "stderr",
     "text": [
      "WARNING:root:this is a logging warning ---> zhangsan : 13\n",
      "WARNING:root:this is a logging warning ---> zhangsan : 13\n",
      "WARNING:root:this is a logging warning ---> zhangsan : 13\n"
     ],
     "output_type": "stream"
    }
   ],
   "source": [
    "# 记录变量数据\n",
    "age = 13\n",
    "logging.warning(\"this is a logging warning ---> %s : %s\", \"zhangsan\", age)\n",
    "\n",
    "logging.warning(\"this is a logging warning ---> {0} : {1}\".format(\"zhangsan\", age))\n",
    "\n",
    "from string import Template\n",
    "t = Template(\"this is a logging warning ---> $name : $age\")\n",
    "logging.warning(t.substitute(name=\"zhangsan\", age=age))"
   ],
   "metadata": {
    "collapsed": false,
    "pycharm": {
     "name": "#%%\n",
     "is_executing": false
    }
   }
  },
  {
   "cell_type": "markdown",
   "source": [
    "更改显示消息的格式 ： `01-日志常用指引-01-将日志事件记录到文件.py`\n",
    "在消息中显示和更改日期/时间 ： `01-日志常用指引-01-将日志事件记录到文件.py`"
   ],
   "metadata": {
    "collapsed": false,
    "pycharm": {
     "name": "#%% md\n"
    }
   }
  },
  {
   "cell_type": "markdown",
   "source": [
    "## 1.2 进阶日志教程\n",
    "\n",
    "- 记录器：logger --> \n",
    "- 处理器：将日志记录发送到适当的目标 --> \n",
    "- 过滤器：用于确定要输出的日志记录 --> \n",
    "- 格式化器：指定最终输出中日志记录的样式\n",
    "\n",
    "详细解释见原文\n",
    "\n",
    "如果未在记录器上显式设置级别，则使用其父级别作为其有效级别。\n",
    "如果父级没有明确的级别设置，则检查 其 父级。\n",
    "依此类推，搜索所有上级元素，直到找到明确设置的级别。\n",
    "\n",
    "记录器中设置的级别确定将传递给其处理程序的消息的严重性。\n",
    "每个处理程序中设置的级别确定处理程序将发送哪些消息。"
   ],
   "metadata": {
    "collapsed": false,
    "pycharm": {
     "name": "#%% md\n"
    }
   }
  },
  {
   "cell_type": "markdown",
   "source": [
    "配置日志记录：\n",
    "\n",
    "- 使用调用上面列出的配置方法的 Python 代码显式创建记录器、处理程序和格式化程序\n",
    "    - 01-日志常用指引-02-在多个模块中记录日志.py\n",
    "- 创建日志配置文件，使用 fileConfig() 函数读取它 \n",
    "    - 01-日志常用指引-03-使用fileConfig配置.py \n",
    "    - # TODO https://docs.python.org/zh-cn/3.8/library/logging.config.html#logging-config-fileformat\n",
    "- 创建配置信息字典，将其传递给 dictConfig() 函数"
   ],
   "metadata": {
    "collapsed": false,
    "pycharm": {
     "name": "#%% md\n"
    }
   }
  },
  {
   "cell_type": "markdown",
   "source": [
    "多个处理器.py\n",
    "\n",
    "将日志时间记录到文件.py\n",
    "\n",
    "组织日志记录的示例.py\n",
    "\n",
    "配置日志库.py"
   ],
   "metadata": {
    "collapsed": false
   }
  }
 ],
 "metadata": {
  "kernelspec": {
   "display_name": "Python 3",
   "language": "python",
   "name": "python3"
  },
  "language_info": {
   "codemirror_mode": {
    "name": "ipython",
    "version": 2
   },
   "file_extension": ".py",
   "mimetype": "text/x-python",
   "name": "python",
   "nbconvert_exporter": "python",
   "pygments_lexer": "ipython2",
   "version": "2.7.6"
  },
  "pycharm": {
   "stem_cell": {
    "cell_type": "raw",
    "source": [],
    "metadata": {
     "collapsed": false
    }
   }
  }
 },
 "nbformat": 4,
 "nbformat_minor": 0
}