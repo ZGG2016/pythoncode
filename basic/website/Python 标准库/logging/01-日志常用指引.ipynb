{
 "cells": [
  {
   "cell_type": "markdown",
   "metadata": {
    "collapsed": true,
    "pycharm": {
     "name": "#%% md\n"
    }
   },
   "source": [
    "# 日志常用指引\n",
    "[https://docs.python.org/zh-cn/3.8/howto/logging.html#logging-basic-tutorial](https://docs.python.org/zh-cn/3.8/howto/logging.html#logging-basic-tutorial)"
   ]
  },
  {
   "cell_type": "markdown",
   "source": [
    "## 1.1 日志基础教程"
   ],
   "metadata": {
    "collapsed": false,
    "pycharm": {
     "name": "#%% md\n"
    }
   }
  },
  {
   "cell_type": "code",
   "execution_count": null,
   "outputs": [],
   "source": [
    "import logging"
   ],
   "metadata": {
    "collapsed": false,
    "pycharm": {
     "name": "#%%\n"
    }
   }
  },
  {
   "cell_type": "markdown",
   "source": [
    "各级别适用性：\n",
    "- DEBUG  细节信息，仅当诊断问题时适用\n",
    "- INFO  确认程序按预期运行\n",
    "- WARNING  表明有已经或即将发生的意外（例如：磁盘空间不足）。程序仍按预期进行\n",
    "- ERROR  由于严重的问题，程序的某些功能已经不能正常执行\n",
    "- CRITICAL  严重的错误，表明程序已不能继续执行"
   ],
   "metadata": {
    "collapsed": false,
    "pycharm": {
     "name": "#%% md\n"
    }
   }
  },
  {
   "cell_type": "markdown",
   "source": [
    "默认的级别是`WARNING`，意味着只会追踪该级别及以上的事件，除非更改日志配置。\n",
    "\n",
    "以严重性递增: `DEBUG --> INFO --> WARNING --> ERROR --> CRITICAL`"
   ],
   "metadata": {
    "collapsed": false
   }
  },
  {
   "cell_type": "code",
   "execution_count": null,
   "outputs": [],
   "source": [
    "logging.info(\"this is a logging info\")\n",
    "logging.warning(\"this is a logging warning\")\n",
    "logging.error(\"this is a logging error\")"
   ],
   "metadata": {
    "collapsed": false,
    "pycharm": {
     "name": "#%%\n"
    }
   }
  },
  {
   "cell_type": "markdown",
   "source": [
    "【？】并且在一些 loglevel 变量中你可以获得 `--log` 命令的参数"
   ],
   "metadata": {
    "collapsed": false,
    "pycharm": {
     "name": "#%% md\n"
    }
   }
  },
  {
   "cell_type": "code",
   "execution_count": 18,
   "outputs": [
    {
     "name": "stderr",
     "output_type": "stream",
     "text": [
      "WARNING:root:this is a logging warning ---> zhangsan : 13\n"
     ]
    }
   ],
   "source": [
    "age = 13\n",
    "logging.warning(\"this is a logging warning ---> %s : %s\", \"zhangsan\",age)"
   ],
   "metadata": {
    "collapsed": false,
    "pycharm": {
     "name": "#%%\n"
    }
   }
  },
  {
   "cell_type": "markdown",
   "source": [
    "## 1.2 进阶日志教程\n",
    "\n",
    "`记录器 --> 处理器 --> 过滤器 --> 格式化器`\n",
    "\n",
    "详细解释见原文"
   ],
   "metadata": {
    "collapsed": false,
    "pycharm": {
     "name": "#%% md\n"
    }
   }
  },
  {
   "cell_type": "markdown",
   "source": [
    "使用fileconfig，采用 YAML 格式【？】"
   ],
   "metadata": {
    "collapsed": false,
    "pycharm": {
     "name": "#%% md\n"
    }
   }
  },
  {
   "cell_type": "markdown",
   "source": [
    "使用fileconfig.py\n",
    "\n",
    "多个处理器.py\n",
    "\n",
    "将日志时间记录到文件.py\n",
    "\n",
    "组织日志记录的示例.py\n",
    "\n",
    "配置日志库.py"
   ],
   "metadata": {
    "collapsed": false
   }
  }
 ],
 "metadata": {
  "kernelspec": {
   "display_name": "Python 3",
   "language": "python",
   "name": "python3"
  },
  "language_info": {
   "codemirror_mode": {
    "name": "ipython",
    "version": 2
   },
   "file_extension": ".py",
   "mimetype": "text/x-python",
   "name": "python",
   "nbconvert_exporter": "python",
   "pygments_lexer": "ipython2",
   "version": "2.7.6"
  }
 },
 "nbformat": 4,
 "nbformat_minor": 0
}