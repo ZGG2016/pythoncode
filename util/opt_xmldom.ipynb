{
 "cells": [
  {
   "cell_type": "markdown",
   "metadata": {
    "collapsed": true,
    "pycharm": {
     "name": "#%% md\n"
    }
   },
   "source": [
    "# python操作xml文件--XML DOM\n",
    "\n",
    "## 1、xml文件结构\n",
    "\n",
    "XML 被设计用来传输和存储数据，其焦点是数据的内容。\n",
    "\n",
    "```xml\n",
    "<bookstore>\n",
    "    <book category=\"CHILDREN\">\n",
    "        <title>Harry Potter</title>\n",
    "        <author>J K. Rowling</author>\n",
    "        <year>2005</year>\n",
    "        <price>29.99</price>\n",
    "    </book>\n",
    "    <book category=\"WEB\">\n",
    "        <title>Learning XML</title>\n",
    "        <author>Erik T. Ray</author>\n",
    "        <year>2003</year>\n",
    "        <price>39.95</price>\n",
    "    </book>\n",
    "</bookstore>\n",
    "```\n",
    "`<bookstore>`是根元素。下面4行是根的 4 个子元素。`</bookstore>`定义根元素的结尾。\n",
    "\n",
    "`<bookstore>`和`<book>`都有元素内容，因为他们包含其他元素。\n",
    "\n",
    "XML元素具有属性，属性（Attribute）提供有关元素的额外信息。\n",
    "\n",
    "`<book>`元素的属性是`category=\"CHILDREN\"`。\n",
    "\n",
    "`<title>`、`<author>`、`<year>` 和 `<price>` 有文本内容，因为他们包含文本。\n",
    "\n",
    "被用来操作xml文件的库有：\n",
    "\n",
    "- [xml.dom](https://docs.python.org/3.7/library/xml.dom.html)\n",
    "- [xml.dom.minidom](https://docs.python.org/3.7/library/xml.dom.minidom.html)\n",
    "- [xml.sax](https://docs.python.org/3.7/library/xml.sax.html)\n",
    "- [xml.etree.ElementTree](https://docs.python.org/3.7/library/xml.etree.elementtree.html)\n",
    "\n",
    "## 2、XML DOM简介\n",
    "\n",
    "DOM 定义了所有文档元素的对象和属性，以及访问它们的方法（接口）。\n",
    "\n",
    "XML DOM 是 XML Document Object Model 的缩写，即 XML 文档对象模型。\n",
    "\n",
    "XML DOM 定义了访问和处理 XML 文档的标准方法。\n",
    "\n",
    "XML DOM 节点：XML 文档中的每个成分都是一个节点：\n",
    "\n",
    "- 整个文档是一个文档节点\n",
    "- 每个 XML 标签是一个元素节点\n",
    "- 包含在 XML 元素中的文本是文本节点\n",
    "- 每一个 XML 属性是一个属性节点\n",
    "- 注释属于注释节点\n",
    "\n",
    "在上面的 XML 中，根节点是`<bookstore>`。\n",
    "\n",
    "文档中的所有其他节点都被包含在`<bookstore>`中。\n",
    "\n",
    "根节点`<bookstore>`有两个`<book>`节点。\n",
    "\n",
    "第一个`<book>`节点有四个节点：`<title>`，`<author>`，`<year>` 以及`<price>`，其中每个节点都包含一个文本节点，\"Harry Potter\"，\"J K. Rowling\"，\"2005\"以及\"29.99\"。\n",
    "\n",
    "在 DOM 处理中一个普遍的错误是，认为元素节点包含文本。\n",
    "\n",
    "元素节点的文本是存储在文本节点中的。在这个例子中，`<year>2005</year>`，元素节点`<year>`，拥有一个值为 \"2005\" 的文本节点。\"2005\"不是`<year>`元素的值！\n",
    "\n",
    "[XML详细介绍](https://www.runoob.com/xml/xml-tutorial.html)\n",
    "\n",
    "[XML DOM详细介绍及操作](https://www.runoob.com/dom/dom-tutorial.html)"
   ]
  },
  {
   "cell_type": "markdown",
   "source": [
    "# [xml.dom官网](https://docs.python.org/3/library/xml.dom.html)\n",
    "\n",
    "## Node Objects\n",
    "\n",
    "XML文档的所有组件都是它的子类。\n",
    "\n",
    "方法：\n",
    "\n",
    "- `Node.attributes`：属性对象的NamedNodeMap\n",
    "- `Node.childNodes`：这个结点的包含的结点的列表。\n",
    "- `Node.nodeName`：对不同的node类型有不同的含义。这个属性的值要么为字符串，要么为None。\n",
    "- `Node.nodeValue`:对不同的node类型有不同的含义。这个属性的值要么为字符串，要么为None。\n",
    "- `Node.hasAttributes()`：这个结点有属性，就返回True\n",
    "- `Node.appendChild(newChild)`：往这个结点，添加孩子结点列表的末尾添加一个新的孩子结点。如果添加的结点已存在，就删除后再添加\n",
    "\n",
    "## Attr Objects\n",
    "\n",
    "继承至Node，所以继承它的所有属性。\n",
    "\n",
    "- `Attr.name`：The attribute name. In a namespace-using document it may include a colon.\n",
    "- `Attr.value`：The text value of the attribute. This is a synonym for the nodeValue attribute.\n",
    "\n",
    "## NamedNodeMap Objects\n",
    "\n",
    "不继承至Node\n",
    "\n",
    "- `NamedNodeMap.length`:The length of the attribute list.\n",
    "- `NamedNodeMap.item(index)`:Return an attribute with a particular index. \n",
    "\n",
    "## Document Objects\n",
    "\n",
    "`Document` 表示整个XML文件，包含了它的组成元素、属性、处理指令、注释等。它继承了Node的属性。\n",
    "\n",
    "方法：\n",
    "\n",
    "- `Document.documentElement`: The one and only root element of the document.\n",
    "- `Document.getElementsByTagName(tagName)`:Search for all descendants (direct children, children’s children, etc.) with a particular element type name.\n",
    "- `Document.createElement(tagName)`：Create and return a new element node. \n",
    "- `Document.createTextNode(data)`:Create and return a text node containing the data passed as a parameter. \n",
    "- `Document.createComment(data)`:Create and return a comment node containing the data passed as a parameter.\n",
    "- `Document.createAttribute(name)`:Create and return an attribute node. \n",
    "\n",
    "## Element Objects\n",
    "\n",
    "Node的子类，所以继承Node的所有属性。\n",
    "\n",
    "- `Element.tagName`：The element type name. In a namespace-using document it may have colons in it. The value is a string.\n",
    "- `Element.hasAttribute(name)`:Return True if the element has an attribute named by name.\n",
    "- `Element.setAttribute(name, value)`:Set an attribute value from a string.\n",
    "- `Element.getAttribute(name)`:Return the value of the attribute named by name as a string. \n",
    "- `Element.removeAttribute(name)`:Remove an attribute by name.\n",
    "- `Element.getElementsByTagName(tagName)`:Same as equivalent method in the Document class"
   ],
   "metadata": {
    "collapsed": false,
    "pycharm": {
     "name": "#%% md\n"
    }
   }
  },
  {
   "cell_type": "code",
   "execution_count": 15,
   "outputs": [],
   "source": [
    "from xml.dom.minidom import parse\n",
    "\n",
    "DOMDocument = parse(\"data/movies.xml\")"
   ],
   "metadata": {
    "collapsed": false,
    "pycharm": {
     "name": "#%%\n",
     "is_executing": false
    }
   }
  },
  {
   "cell_type": "code",
   "execution_count": 22,
   "outputs": [
    {
     "name": "stdout",
     "text": [
      "collection\nNone\n[<DOM Text node \"'\\n'\">, <DOM Element: movie at 0x26a2e1f0b90>, <DOM Text node \"'\\n'\">, <DOM Element: movie at 0x26a2e1fa048>, <DOM Text node \"'\\n   '\">, <DOM Element: movie at 0x26a2e1fa470>, <DOM Text node \"'\\n'\">, <DOM Element: movie at 0x26a2e1fa898>, <DOM Text node \"'\\n'\">]\n------------------------\n<xml.dom.minidom.NamedNodeMap object at 0x0000026A2E1FDBC8>\nshelf\nNew Arrivals\n"
     ],
     "output_type": "stream"
    }
   ],
   "source": [
    "# 获取根结点\n",
    "rootNode = DOMDocument.documentElement\n",
    "\n",
    "print(rootNode.nodeName)\n",
    "print(rootNode.childNodes)\n",
    "print(\"------------------------\")\n",
    "# 获取根结点的所有属性，并打印出属性的名字和值\n",
    "if rootNode.hasAttributes():\n",
    "    nnm = rootNode.attributes\n",
    "    print(nnm)\n",
    "    for i in range(0,nnm.length):\n",
    "        print(nnm.item(i).name)\n",
    "        print(nnm.item(i).value)"
   ],
   "metadata": {
    "collapsed": false,
    "pycharm": {
     "name": "#%%\n",
     "is_executing": false
    }
   }
  },
  {
   "cell_type": "code",
   "execution_count": 27,
   "outputs": [
    {
     "name": "stdout",
     "text": [
      "4\nEnemy Behind\ntype:War, Thriller\n-------------\nTransformers\ntype:Anime, Science Fiction\n-------------\nTrigun\ntype:Anime, Action\n-------------\nIshtar\ntype:Comedy\n-------------\n"
     ],
     "output_type": "stream"
    }
   ],
   "source": [
    "# 根据tagname获取根结点<collection>的<movie>结点，返回一个列表\n",
    "\n",
    "movies = DOMDocument.getElementsByTagName(\"movie\")\n",
    "print(movies.length)\n",
    "for movie in movies:\n",
    "    if movie.hasAttribute(\"title\"):  # <movie>结点是否有title属性\n",
    "        print(movie.getAttribute(\"title\")) # 获取title属性\n",
    "        type = movie.getElementsByTagName(\"type\")[0]\n",
    "        print(type.nodeName+\":\"+type.childNodes[0].nodeValue)\n",
    "        print(\"-------------\")"
   ],
   "metadata": {
    "collapsed": false,
    "pycharm": {
     "name": "#%%\n",
     "is_executing": false
    }
   }
  },
  {
   "cell_type": "code",
   "execution_count": 38,
   "outputs": [],
   "source": [
    "# 往已有XML文件上追加一个元素信息\n",
    "\n",
    "DOMDocument2 = parse(\"data/movies.xml\")\n",
    "rootNode2 = DOMDocument2.documentElement\n",
    "\n",
    "# 新建一个movie节点\n",
    "movie_node = DOMDocument2.createElement(\"movie\")\n",
    "movie_node.setAttribute(\"title\",\"Enemy Behind2\")\n",
    "\n",
    "## 创建type节点\n",
    "type_node = DOMDocument2.createElement(\"type\")\n",
    "typetext_node = DOMDocument2.createTextNode(\"War, Thriller\")\n",
    "type_node.appendChild(typetext_node)\n",
    "movie_node.appendChild(type_node)\n",
    "\n",
    "format_node = DOMDocument2.createElement(\"format\")\n",
    "formattext_node = DOMDocument2.createTextNode(\"DVD\")\n",
    "format_node.appendChild(formattext_node)\n",
    "movie_node.appendChild(format_node)\n",
    "year_node = DOMDocument2.createElement(\"year\")\n",
    "yeartext_node = DOMDocument2.createTextNode(\"2004\")\n",
    "year_node.appendChild(yeartext_node)\n",
    "movie_node.appendChild(year_node)\n",
    "rating_node = DOMDocument2.createElement(\"rating\")\n",
    "ratingtext_node = DOMDocument2.createTextNode(\"PG\")\n",
    "rating_node.appendChild(ratingtext_node)\n",
    "movie_node.appendChild(rating_node)\n",
    "stars_node = DOMDocument2.createElement(\"stars\")\n",
    "starstext_node = DOMDocument2.createTextNode(\"11\")\n",
    "stars_node.appendChild(starstext_node)\n",
    "movie_node.appendChild(stars_node)\n",
    "description_node = DOMDocument2.createElement(\"description\")\n",
    "descriptiontext_node = DOMDocument2.createTextNode(\"Talk about a US-Japan war\")\n",
    "description_node.appendChild(descriptiontext_node)\n",
    "movie_node.appendChild(description_node)\n",
    "\n",
    "rootNode2.appendChild(movie_node)\n",
    "\n",
    "with open(\"data/movies_new.xml\",\"w\") as f:\n",
    "    # 怎么换行？？\n",
    "    DOMDocument2.writexml(f,addindent='  ', encoding='utf-8')"
   ],
   "metadata": {
    "collapsed": false,
    "pycharm": {
     "name": "#%%\n",
     "is_executing": false
    }
   }
  }
 ],
 "metadata": {
  "kernelspec": {
   "display_name": "Python 3",
   "language": "python",
   "name": "python3"
  },
  "language_info": {
   "codemirror_mode": {
    "name": "ipython",
    "version": 2
   },
   "file_extension": ".py",
   "mimetype": "text/x-python",
   "name": "python",
   "nbconvert_exporter": "python",
   "pygments_lexer": "ipython2",
   "version": "2.7.6"
  },
  "pycharm": {
   "stem_cell": {
    "cell_type": "raw",
    "source": [],
    "metadata": {
     "collapsed": false
    }
   }
  }
 },
 "nbformat": 4,
 "nbformat_minor": 0
}