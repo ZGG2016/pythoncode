{
 "cells": [
  {
   "cell_type": "code",
   "execution_count": 1,
   "metadata": {
    "collapsed": true,
    "pycharm": {
     "is_executing": false
    }
   },
   "outputs": [],
   "source": [
    "import alluxio\n",
    "from alluxio import option\n",
    "client = alluxio.Client('node1', 39999)"
   ]
  },
  {
   "cell_type": "code",
   "execution_count": 2,
   "outputs": [
    {
     "name": "stdout",
     "text": [
      "creating directory ....\n",
      "Done\n"
     ],
     "output_type": "stream"
    }
   ],
   "source": [
    "print(\"creating directory ....\")\n",
    "cdpath = \"/test/test1\"\n",
    "opt = option.CreateDirectory(recursive=True)\n",
    "client.create_directory(cdpath,opt)\n",
    "print(\"done\")"
   ],
   "metadata": {
    "collapsed": false,
    "pycharm": {
     "name": "#%%\n",
     "is_executing": false
    }
   }
  },
  {
   "cell_type": "code",
   "execution_count": 18,
   "outputs": [
    {
     "name": "stdout",
     "text": [
      "done\n"
     ],
     "output_type": "stream"
    }
   ],
   "source": [
    "wpath = \"/test/test.txt\"\n",
    "with client.open(wpath, 'w') as f:\n",
    "    f.write('Alluxio works with Python!\\n')\n",
    "\n",
    "print(\"done\")"
   ],
   "metadata": {
    "collapsed": false,
    "pycharm": {
     "name": "#%%\n",
     "is_executing": false
    }
   }
  },
  {
   "cell_type": "code",
   "execution_count": 7,
   "outputs": [
    {
     "name": "stdout",
     "text": [
      "getting status of....\n",
      "{\n  \"blockIds\": [],\n  \"blockSizeBytes\": 67108864,\n  \"cacheable\": true,\n  \"completed\": true,\n  \"creationTimeMs\": 1617613005580,\n  \"lastModificationTimeMs\": 1617613005706,\n  \"fileBlockInfos\": [],\n  \"fileId\": 16827547647,\n  \"folder\": false,\n  \"owner\": \"root\",\n  \"group\": \"root\",\n  \"inMemoryPercentage\": 100,\n  \"length\": 0,\n  \"name\": \"test.txt\",\n  \"path\": \"/test/test.txt\",\n  \"ufsPath\": \"hdfs://node1:9000/alluxio/test/test.txt\",\n  \"pinned\": false,\n  \"persisted\": true,\n  \"persistenceState\": \"PERSISTED\",\n  \"mode\": 511,\n  \"mountPoint\": false,\n  \"ttl\": -1,\n  \"ttlAction\": \"DELETE\"\n}\ndone\n"
     ],
     "output_type": "stream"
    }
   ],
   "source": [
    "import json\n",
    "def pretty_json(obj):\n",
    "    return json.dumps(obj, indent=2)\n",
    "\n",
    "gpath = \"/test/test.txt\"\n",
    "print(\"getting status of....\")\n",
    "status = client.get_status(gpath)\n",
    "print(pretty_json(status.json()))\n",
    "print(\"done\")"
   ],
   "metadata": {
    "collapsed": false,
    "pycharm": {
     "name": "#%%\n",
     "is_executing": false
    }
   }
  },
  {
   "cell_type": "code",
   "execution_count": 8,
   "outputs": [
    {
     "name": "stdout",
     "text": [
      "renaming /test/test.txt to /test/retest.txt ....\ndone\n"
     ],
     "output_type": "stream"
    }
   ],
   "source": [
    "orpath = \"/test/test.txt\"\n",
    "nrpath = \"/test/retest.txt\"\n",
    "print(\"renaming %s to %s ....\" % (orpath, nrpath))\n",
    "client.rename(orpath, nrpath)\n",
    "print(\"done\")"
   ],
   "metadata": {
    "collapsed": false,
    "pycharm": {
     "name": "#%%\n",
     "is_executing": false
    }
   }
  },
  {
   "cell_type": "code",
   "execution_count": 15,
   "outputs": [
    {
     "name": "stdout",
     "text": [
      "reading /test/test.txt ....\n"
     ],
     "output_type": "stream"
    },
    {
     "traceback": [
      "\u001b[1;31m---------------------------------------------------------------------------\u001b[0m",
      "\u001b[1;31mNotFoundError\u001b[0m                             Traceback (most recent call last)",
      "\u001b[1;32m<ipython-input-15-13cc7d2dd87d>\u001b[0m in \u001b[0;36m<module>\u001b[1;34m\u001b[0m\n\u001b[0;32m      1\u001b[0m \u001b[0mopath\u001b[0m \u001b[1;33m=\u001b[0m \u001b[1;34m\"/test/test.txt\"\u001b[0m\u001b[1;33m\u001b[0m\u001b[1;33m\u001b[0m\u001b[0m\n\u001b[0;32m      2\u001b[0m \u001b[0mprint\u001b[0m\u001b[1;33m(\u001b[0m\u001b[1;34m\"reading %s ....\"\u001b[0m \u001b[1;33m%\u001b[0m \u001b[0mopath\u001b[0m\u001b[1;33m)\u001b[0m\u001b[1;33m\u001b[0m\u001b[1;33m\u001b[0m\u001b[0m\n\u001b[1;32m----> 3\u001b[1;33m \u001b[1;32mwith\u001b[0m \u001b[0mclient\u001b[0m\u001b[1;33m.\u001b[0m\u001b[0mopen\u001b[0m\u001b[1;33m(\u001b[0m\u001b[0mopath\u001b[0m\u001b[1;33m,\u001b[0m \u001b[1;34m'r'\u001b[0m\u001b[1;33m)\u001b[0m \u001b[1;32mas\u001b[0m \u001b[0mf\u001b[0m\u001b[1;33m:\u001b[0m\u001b[1;33m\u001b[0m\u001b[1;33m\u001b[0m\u001b[0m\n\u001b[0m\u001b[0;32m      4\u001b[0m     \u001b[0mprint\u001b[0m\u001b[1;33m(\u001b[0m\u001b[0mf\u001b[0m\u001b[1;33m.\u001b[0m\u001b[0mread\u001b[0m\u001b[1;33m(\u001b[0m\u001b[1;33m)\u001b[0m\u001b[1;33m)\u001b[0m\u001b[1;33m\u001b[0m\u001b[1;33m\u001b[0m\u001b[0m\n\u001b[0;32m      5\u001b[0m \u001b[0mprint\u001b[0m\u001b[1;33m(\u001b[0m\u001b[1;34m\"done\"\u001b[0m\u001b[1;33m)\u001b[0m\u001b[1;33m\u001b[0m\u001b[1;33m\u001b[0m\u001b[0m\n",
      "\u001b[1;32mD:\\software\\python3.7.9\\lib\\contextlib.py\u001b[0m in \u001b[0;36m__enter__\u001b[1;34m(self)\u001b[0m\n\u001b[0;32m    110\u001b[0m         \u001b[1;32mdel\u001b[0m \u001b[0mself\u001b[0m\u001b[1;33m.\u001b[0m\u001b[0margs\u001b[0m\u001b[1;33m,\u001b[0m \u001b[0mself\u001b[0m\u001b[1;33m.\u001b[0m\u001b[0mkwds\u001b[0m\u001b[1;33m,\u001b[0m \u001b[0mself\u001b[0m\u001b[1;33m.\u001b[0m\u001b[0mfunc\u001b[0m\u001b[1;33m\u001b[0m\u001b[1;33m\u001b[0m\u001b[0m\n\u001b[0;32m    111\u001b[0m         \u001b[1;32mtry\u001b[0m\u001b[1;33m:\u001b[0m\u001b[1;33m\u001b[0m\u001b[1;33m\u001b[0m\u001b[0m\n\u001b[1;32m--> 112\u001b[1;33m             \u001b[1;32mreturn\u001b[0m \u001b[0mnext\u001b[0m\u001b[1;33m(\u001b[0m\u001b[0mself\u001b[0m\u001b[1;33m.\u001b[0m\u001b[0mgen\u001b[0m\u001b[1;33m)\u001b[0m\u001b[1;33m\u001b[0m\u001b[1;33m\u001b[0m\u001b[0m\n\u001b[0m\u001b[0;32m    113\u001b[0m         \u001b[1;32mexcept\u001b[0m \u001b[0mStopIteration\u001b[0m\u001b[1;33m:\u001b[0m\u001b[1;33m\u001b[0m\u001b[1;33m\u001b[0m\u001b[0m\n\u001b[0;32m    114\u001b[0m             \u001b[1;32mraise\u001b[0m \u001b[0mRuntimeError\u001b[0m\u001b[1;33m(\u001b[0m\u001b[1;34m\"generator didn't yield\"\u001b[0m\u001b[1;33m)\u001b[0m \u001b[1;32mfrom\u001b[0m \u001b[1;32mNone\u001b[0m\u001b[1;33m\u001b[0m\u001b[1;33m\u001b[0m\u001b[0m\n",
      "\u001b[1;32md:\\pythoncode\\venv\\lib\\site-packages\\alluxio\\client.py\u001b[0m in \u001b[0;36mopen\u001b[1;34m(self, path, mode, opt)\u001b[0m\n\u001b[0;32m    537\u001b[0m \u001b[1;33m\u001b[0m\u001b[0m\n\u001b[0;32m    538\u001b[0m         \u001b[1;32mif\u001b[0m \u001b[0mmode\u001b[0m \u001b[1;33m==\u001b[0m \u001b[1;34m'r'\u001b[0m\u001b[1;33m:\u001b[0m\u001b[1;33m\u001b[0m\u001b[1;33m\u001b[0m\u001b[0m\n\u001b[1;32m--> 539\u001b[1;33m             \u001b[0mfile_id\u001b[0m \u001b[1;33m=\u001b[0m \u001b[0mself\u001b[0m\u001b[1;33m.\u001b[0m\u001b[0mopen_file\u001b[0m\u001b[1;33m(\u001b[0m\u001b[0mpath\u001b[0m\u001b[1;33m,\u001b[0m \u001b[0mopt\u001b[0m\u001b[1;33m)\u001b[0m\u001b[1;33m\u001b[0m\u001b[1;33m\u001b[0m\u001b[0m\n\u001b[0m\u001b[0;32m    540\u001b[0m             \u001b[1;32mtry\u001b[0m\u001b[1;33m:\u001b[0m\u001b[1;33m\u001b[0m\u001b[1;33m\u001b[0m\u001b[0m\n\u001b[0;32m    541\u001b[0m                 \u001b[0mreader\u001b[0m \u001b[1;33m=\u001b[0m \u001b[0mself\u001b[0m\u001b[1;33m.\u001b[0m\u001b[0mread\u001b[0m\u001b[1;33m(\u001b[0m\u001b[0mfile_id\u001b[0m\u001b[1;33m)\u001b[0m\u001b[1;33m\u001b[0m\u001b[1;33m\u001b[0m\u001b[0m\n",
      "\u001b[1;32md:\\pythoncode\\venv\\lib\\site-packages\\alluxio\\client.py\u001b[0m in \u001b[0;36mopen_file\u001b[1;34m(self, path, opt)\u001b[0m\n\u001b[0;32m    408\u001b[0m \u001b[1;33m\u001b[0m\u001b[0m\n\u001b[0;32m    409\u001b[0m         \u001b[0murl\u001b[0m \u001b[1;33m=\u001b[0m \u001b[0mself\u001b[0m\u001b[1;33m.\u001b[0m\u001b[0m_paths_url\u001b[0m\u001b[1;33m(\u001b[0m\u001b[0mpath\u001b[0m\u001b[1;33m,\u001b[0m \u001b[1;34m'open-file'\u001b[0m\u001b[1;33m)\u001b[0m\u001b[1;33m\u001b[0m\u001b[1;33m\u001b[0m\u001b[0m\n\u001b[1;32m--> 410\u001b[1;33m         \u001b[1;32mreturn\u001b[0m \u001b[0mself\u001b[0m\u001b[1;33m.\u001b[0m\u001b[0m_post\u001b[0m\u001b[1;33m(\u001b[0m\u001b[0murl\u001b[0m\u001b[1;33m,\u001b[0m \u001b[0mopt\u001b[0m\u001b[1;33m)\u001b[0m\u001b[1;33m.\u001b[0m\u001b[0mjson\u001b[0m\u001b[1;33m(\u001b[0m\u001b[1;33m)\u001b[0m\u001b[1;33m\u001b[0m\u001b[1;33m\u001b[0m\u001b[0m\n\u001b[0m\u001b[0;32m    411\u001b[0m \u001b[1;33m\u001b[0m\u001b[0m\n\u001b[0;32m    412\u001b[0m     \u001b[1;32mdef\u001b[0m \u001b[0mcreate_file\u001b[0m\u001b[1;33m(\u001b[0m\u001b[0mself\u001b[0m\u001b[1;33m,\u001b[0m \u001b[0mpath\u001b[0m\u001b[1;33m,\u001b[0m \u001b[0mopt\u001b[0m\u001b[1;33m=\u001b[0m\u001b[1;32mNone\u001b[0m\u001b[1;33m)\u001b[0m\u001b[1;33m:\u001b[0m\u001b[1;33m\u001b[0m\u001b[1;33m\u001b[0m\u001b[0m\n",
      "\u001b[1;32md:\\pythoncode\\venv\\lib\\site-packages\\alluxio\\client.py\u001b[0m in \u001b[0;36m_post\u001b[1;34m(self, url, opt, params)\u001b[0m\n\u001b[0;32m    135\u001b[0m         \u001b[1;32mexcept\u001b[0m \u001b[0mrequests\u001b[0m\u001b[1;33m.\u001b[0m\u001b[0mRequestException\u001b[0m\u001b[1;33m:\u001b[0m\u001b[1;33m\u001b[0m\u001b[1;33m\u001b[0m\u001b[0m\n\u001b[0;32m    136\u001b[0m             \u001b[0mraise_with_traceback\u001b[0m\u001b[1;33m(\u001b[0m\u001b[0mexceptions\u001b[0m\u001b[1;33m.\u001b[0m\u001b[0mHTTPError\u001b[0m\u001b[1;33m,\u001b[0m \u001b[1;34m'Failed to send POST request to {}'\u001b[0m\u001b[1;33m.\u001b[0m\u001b[0mformat\u001b[0m\u001b[1;33m(\u001b[0m\u001b[0murl\u001b[0m\u001b[1;33m)\u001b[0m\u001b[1;33m)\u001b[0m\u001b[1;33m\u001b[0m\u001b[1;33m\u001b[0m\u001b[0m\n\u001b[1;32m--> 137\u001b[1;33m         \u001b[0m_check_response\u001b[0m\u001b[1;33m(\u001b[0m\u001b[0mr\u001b[0m\u001b[1;33m)\u001b[0m\u001b[1;33m\u001b[0m\u001b[1;33m\u001b[0m\u001b[0m\n\u001b[0m\u001b[0;32m    138\u001b[0m         \u001b[1;32mreturn\u001b[0m \u001b[0mr\u001b[0m\u001b[1;33m\u001b[0m\u001b[1;33m\u001b[0m\u001b[0m\n\u001b[0;32m    139\u001b[0m \u001b[1;33m\u001b[0m\u001b[0m\n",
      "\u001b[1;32md:\\pythoncode\\venv\\lib\\site-packages\\alluxio\\client.py\u001b[0m in \u001b[0;36m_check_response\u001b[1;34m(r)\u001b[0m\n\u001b[0;32m     52\u001b[0m     \u001b[0mstatus\u001b[0m \u001b[1;33m=\u001b[0m \u001b[0merror\u001b[0m\u001b[1;33m[\u001b[0m\u001b[1;34m'statusCode'\u001b[0m\u001b[1;33m]\u001b[0m\u001b[1;33m\u001b[0m\u001b[1;33m\u001b[0m\u001b[0m\n\u001b[0;32m     53\u001b[0m     \u001b[0mmessage\u001b[0m \u001b[1;33m=\u001b[0m \u001b[0merror\u001b[0m\u001b[1;33m[\u001b[0m\u001b[1;34m'message'\u001b[0m\u001b[1;33m]\u001b[0m\u001b[1;33m\u001b[0m\u001b[1;33m\u001b[0m\u001b[0m\n\u001b[1;32m---> 54\u001b[1;33m     \u001b[1;32mraise\u001b[0m \u001b[0mexceptions\u001b[0m\u001b[1;33m.\u001b[0m\u001b[0mnew_alluxio_exception\u001b[0m\u001b[1;33m(\u001b[0m\u001b[0mstatus\u001b[0m\u001b[1;33m,\u001b[0m \u001b[0mmessage\u001b[0m\u001b[1;33m)\u001b[0m\u001b[1;33m\u001b[0m\u001b[1;33m\u001b[0m\u001b[0m\n\u001b[0m\u001b[0;32m     55\u001b[0m \u001b[1;33m\u001b[0m\u001b[0m\n\u001b[0;32m     56\u001b[0m \u001b[1;33m\u001b[0m\u001b[0m\n",
      "\u001b[1;31mNotFoundError\u001b[0m: Alluxio exception: status = \"NOT_FOUND\", message = \"Path \"/test/test.txt\" does not exist.\""
     ],
     "ename": "NotFoundError",
     "evalue": "Alluxio exception: status = \"NOT_FOUND\", message = \"Path \"/test/test.txt\" does not exist.\"",
     "output_type": "error"
    }
   ],
   "source": [
    "opath = \"/test/test.txt\"\n",
    "print(\"reading %s ....\" % opath)\n",
    "with client.open(opath, 'r') as f:\n",
    "    print(f.read())\n",
    "print(\"done\")"
   ],
   "metadata": {
    "collapsed": false,
    "pycharm": {
     "name": "#%%\n",
     "is_executing": false
    }
   }
  },
  {
   "cell_type": "code",
   "execution_count": 10,
   "outputs": [
    {
     "name": "stdout",
     "text": [
      "listing status of paths under / ....\n{\n  \"blockIds\": [],\n  \"blockSizeBytes\": 0,\n  \"cacheable\": false,\n  \"completed\": true,\n  \"creationTimeMs\": 1617610616991,\n  \"lastModificationTimeMs\": 1617608553378,\n  \"fileBlockInfos\": [],\n  \"fileId\": 1,\n  \"folder\": true,\n  \"owner\": \"root\",\n  \"group\": \"root\",\n  \"inMemoryPercentage\": 0,\n  \"length\": 0,\n  \"name\": \"default_tests_files\",\n  \"path\": \"/default_tests_files\",\n  \"ufsPath\": \"hdfs://node1:9000/alluxio/default_tests_files\",\n  \"pinned\": false,\n  \"persisted\": true,\n  \"persistenceState\": \"PERSISTED\",\n  \"mode\": 493,\n  \"mountPoint\": false,\n  \"ttl\": -1,\n  \"ttlAction\": \"DELETE\"\n}\n{\n  \"blockIds\": [],\n  \"blockSizeBytes\": 0,\n  \"cacheable\": false,\n  \"completed\": true,\n  \"creationTimeMs\": 1617611216329,\n  \"lastModificationTimeMs\": 1617612248224,\n  \"fileBlockInfos\": [],\n  \"fileId\": 3,\n  \"folder\": true,\n  \"owner\": \"root\",\n  \"group\": \"root\",\n  \"inMemoryPercentage\": 0,\n  \"length\": 1,\n  \"name\": \"in\",\n  \"path\": \"/in\",\n  \"ufsPath\": \"hdfs://node1:9000/alluxio/in\",\n  \"pinned\": false,\n  \"persisted\": true,\n  \"persistenceState\": \"PERSISTED\",\n  \"mode\": 511,\n  \"mountPoint\": false,\n  \"ttl\": -1,\n  \"ttlAction\": \"DELETE\"\n}\n{\n  \"blockIds\": [],\n  \"blockSizeBytes\": 0,\n  \"cacheable\": false,\n  \"completed\": true,\n  \"creationTimeMs\": 1617610617002,\n  \"lastModificationTimeMs\": 1617606413088,\n  \"fileBlockInfos\": [],\n  \"fileId\": 2,\n  \"folder\": true,\n  \"owner\": \"root\",\n  \"group\": \"supergroup\",\n  \"inMemoryPercentage\": 0,\n  \"length\": 0,\n  \"name\": \"journal\",\n  \"path\": \"/journal\",\n  \"ufsPath\": \"hdfs://node1:9000/alluxio/journal\",\n  \"pinned\": false,\n  \"persisted\": true,\n  \"persistenceState\": \"PERSISTED\",\n  \"mode\": 493,\n  \"mountPoint\": false,\n  \"ttl\": -1,\n  \"ttlAction\": \"DELETE\"\n}\n{\n  \"blockIds\": [],\n  \"blockSizeBytes\": 0,\n  \"cacheable\": false,\n  \"completed\": true,\n  \"creationTimeMs\": 1617612318127,\n  \"lastModificationTimeMs\": 1617613139229,\n  \"fileBlockInfos\": [],\n  \"fileId\": 16793993216,\n  \"folder\": true,\n  \"owner\": \"root\",\n  \"group\": \"root\",\n  \"inMemoryPercentage\": 0,\n  \"length\": 2,\n  \"name\": \"test\",\n  \"path\": \"/test\",\n  \"ufsPath\": \"hdfs://node1:9000/alluxio/test\",\n  \"pinned\": false,\n  \"persisted\": true,\n  \"persistenceState\": \"PERSISTED\",\n  \"mode\": 511,\n  \"mountPoint\": false,\n  \"ttl\": -1,\n  \"ttlAction\": \"DELETE\"\n}\ndone\n"
     ],
     "output_type": "stream"
    }
   ],
   "source": [
    "import json\n",
    "def pretty_json(obj):\n",
    "    return json.dumps(obj, indent=2)\n",
    "\n",
    "print(\"listing status of paths under / ....\")\n",
    "root_stats = client.list_status('/')\n",
    "for stat in root_stats:\n",
    "    print(pretty_json(stat.json()))\n",
    "print(\"done\")"
   ],
   "metadata": {
    "collapsed": false,
    "pycharm": {
     "name": "#%%\n",
     "is_executing": false
    }
   }
  },
  {
   "cell_type": "code",
   "execution_count": 11,
   "outputs": [
    {
     "name": "stdout",
     "text": [
      "deleting /test/test1 ....\ndone\n"
     ],
     "output_type": "stream"
    }
   ],
   "source": [
    "dpath = \"/test/test1\"\n",
    "print(\"deleting %s ....\" % dpath)\n",
    "opt = option.Delete(recursive=True)\n",
    "client.delete(dpath, opt)\n",
    "print(\"done\")"
   ],
   "metadata": {
    "collapsed": false,
    "pycharm": {
     "name": "#%%\n",
     "is_executing": false
    }
   }
  },
  {
   "cell_type": "code",
   "execution_count": 12,
   "outputs": [
    {
     "name": "stdout",
     "text": [
      "asserting that /test/test1 is deleted ....\ndone\n"
     ],
     "output_type": "stream"
    }
   ],
   "source": [
    "epath = \"/test/test1\"\n",
    "print(\"asserting that %s is deleted ....\" % epath)\n",
    "assert not client.exists(epath)\n",
    "print(\"done\")\n"
   ],
   "metadata": {
    "collapsed": false,
    "pycharm": {
     "name": "#%%\n",
     "is_executing": false
    }
   }
  }
 ],
 "metadata": {
  "kernelspec": {
   "display_name": "Python 3",
   "language": "python",
   "name": "python3"
  },
  "language_info": {
   "codemirror_mode": {
    "name": "ipython",
    "version": 2
   },
   "file_extension": ".py",
   "mimetype": "text/x-python",
   "name": "python",
   "nbconvert_exporter": "python",
   "pygments_lexer": "ipython2",
   "version": "2.7.6"
  },
  "pycharm": {
   "stem_cell": {
    "cell_type": "raw",
    "source": [],
    "metadata": {
     "collapsed": false
    }
   }
  }
 },
 "nbformat": 4,
 "nbformat_minor": 0
}